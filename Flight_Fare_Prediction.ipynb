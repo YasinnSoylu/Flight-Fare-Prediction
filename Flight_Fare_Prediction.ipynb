{
  "cells": [
    {
      "cell_type": "markdown",
      "metadata": {
        "id": "view-in-github",
        "colab_type": "text"
      },
      "source": [
        "<a href=\"https://colab.research.google.com/github/YasinnSoylu/Flight-Fare-Prediction/blob/main/Flight_Fare_Prediction.ipynb\" target=\"_parent\"><img src=\"https://colab.research.google.com/assets/colab-badge.svg\" alt=\"Open In Colab\"/></a>"
      ]
    },
    {
      "cell_type": "markdown",
      "id": "0f4a232a",
      "metadata": {
        "id": "0f4a232a"
      },
      "source": [
        "### So let's dive in and read our data, but first we will import all the necessary libraries"
      ]
    },
    {
      "cell_type": "code",
      "execution_count": 1,
      "id": "764cf35c",
      "metadata": {
        "id": "764cf35c"
      },
      "outputs": [],
      "source": [
        "import pandas as pd\n",
        "import numpy as np\n",
        "import matplotlib.pyplot as plt\n",
        "%matplotlib inline\n",
        "import seaborn as sns"
      ]
    },
    {
      "cell_type": "markdown",
      "id": "98b7178c",
      "metadata": {
        "id": "98b7178c"
      },
      "source": [
        "### Reading our Data set"
      ]
    },
    {
      "cell_type": "code",
      "execution_count": 2,
      "id": "0e6fe1f7",
      "metadata": {
        "id": "0e6fe1f7"
      },
      "outputs": [],
      "source": [
        "df= pd.read_csv(\"flight data.csv\")"
      ]
    },
    {
      "cell_type": "code",
      "execution_count": 3,
      "id": "0378a680",
      "metadata": {
        "id": "0378a680",
        "colab": {
          "base_uri": "https://localhost:8080/",
          "height": 206
        },
        "outputId": "569b3480-8803-4339-ed26-cdffa56e4a0b"
      },
      "outputs": [
        {
          "output_type": "execute_result",
          "data": {
            "text/plain": [
              "       Airline Date_of_Journey    Source Destination                  Route  \\\n",
              "0       IndiGo      24/03/2019  Banglore   New Delhi              BLR → DEL   \n",
              "1    Air India       1/05/2019   Kolkata    Banglore  CCU → IXR → BBI → BLR   \n",
              "2  Jet Airways       9/06/2019     Delhi      Cochin  DEL → LKO → BOM → COK   \n",
              "3       IndiGo      12/05/2019   Kolkata    Banglore        CCU → NAG → BLR   \n",
              "4       IndiGo      01/03/2019  Banglore   New Delhi        BLR → NAG → DEL   \n",
              "\n",
              "  Dep_Time  Arrival_Time Duration Total_Stops Additional_Info  Price  \n",
              "0    22:20  01:10 22 Mar   2h 50m    non-stop         No info   3897  \n",
              "1    05:50         13:15   7h 25m     2 stops         No info   7662  \n",
              "2    09:25  04:25 10 Jun      19h     2 stops         No info  13882  \n",
              "3    18:05         23:30   5h 25m      1 stop         No info   6218  \n",
              "4    16:50         21:35   4h 45m      1 stop         No info  13302  "
            ],
            "text/html": [
              "\n",
              "  <div id=\"df-04a3a76e-e69a-4ee9-a76d-a6a4d569be80\">\n",
              "    <div class=\"colab-df-container\">\n",
              "      <div>\n",
              "<style scoped>\n",
              "    .dataframe tbody tr th:only-of-type {\n",
              "        vertical-align: middle;\n",
              "    }\n",
              "\n",
              "    .dataframe tbody tr th {\n",
              "        vertical-align: top;\n",
              "    }\n",
              "\n",
              "    .dataframe thead th {\n",
              "        text-align: right;\n",
              "    }\n",
              "</style>\n",
              "<table border=\"1\" class=\"dataframe\">\n",
              "  <thead>\n",
              "    <tr style=\"text-align: right;\">\n",
              "      <th></th>\n",
              "      <th>Airline</th>\n",
              "      <th>Date_of_Journey</th>\n",
              "      <th>Source</th>\n",
              "      <th>Destination</th>\n",
              "      <th>Route</th>\n",
              "      <th>Dep_Time</th>\n",
              "      <th>Arrival_Time</th>\n",
              "      <th>Duration</th>\n",
              "      <th>Total_Stops</th>\n",
              "      <th>Additional_Info</th>\n",
              "      <th>Price</th>\n",
              "    </tr>\n",
              "  </thead>\n",
              "  <tbody>\n",
              "    <tr>\n",
              "      <th>0</th>\n",
              "      <td>IndiGo</td>\n",
              "      <td>24/03/2019</td>\n",
              "      <td>Banglore</td>\n",
              "      <td>New Delhi</td>\n",
              "      <td>BLR → DEL</td>\n",
              "      <td>22:20</td>\n",
              "      <td>01:10 22 Mar</td>\n",
              "      <td>2h 50m</td>\n",
              "      <td>non-stop</td>\n",
              "      <td>No info</td>\n",
              "      <td>3897</td>\n",
              "    </tr>\n",
              "    <tr>\n",
              "      <th>1</th>\n",
              "      <td>Air India</td>\n",
              "      <td>1/05/2019</td>\n",
              "      <td>Kolkata</td>\n",
              "      <td>Banglore</td>\n",
              "      <td>CCU → IXR → BBI → BLR</td>\n",
              "      <td>05:50</td>\n",
              "      <td>13:15</td>\n",
              "      <td>7h 25m</td>\n",
              "      <td>2 stops</td>\n",
              "      <td>No info</td>\n",
              "      <td>7662</td>\n",
              "    </tr>\n",
              "    <tr>\n",
              "      <th>2</th>\n",
              "      <td>Jet Airways</td>\n",
              "      <td>9/06/2019</td>\n",
              "      <td>Delhi</td>\n",
              "      <td>Cochin</td>\n",
              "      <td>DEL → LKO → BOM → COK</td>\n",
              "      <td>09:25</td>\n",
              "      <td>04:25 10 Jun</td>\n",
              "      <td>19h</td>\n",
              "      <td>2 stops</td>\n",
              "      <td>No info</td>\n",
              "      <td>13882</td>\n",
              "    </tr>\n",
              "    <tr>\n",
              "      <th>3</th>\n",
              "      <td>IndiGo</td>\n",
              "      <td>12/05/2019</td>\n",
              "      <td>Kolkata</td>\n",
              "      <td>Banglore</td>\n",
              "      <td>CCU → NAG → BLR</td>\n",
              "      <td>18:05</td>\n",
              "      <td>23:30</td>\n",
              "      <td>5h 25m</td>\n",
              "      <td>1 stop</td>\n",
              "      <td>No info</td>\n",
              "      <td>6218</td>\n",
              "    </tr>\n",
              "    <tr>\n",
              "      <th>4</th>\n",
              "      <td>IndiGo</td>\n",
              "      <td>01/03/2019</td>\n",
              "      <td>Banglore</td>\n",
              "      <td>New Delhi</td>\n",
              "      <td>BLR → NAG → DEL</td>\n",
              "      <td>16:50</td>\n",
              "      <td>21:35</td>\n",
              "      <td>4h 45m</td>\n",
              "      <td>1 stop</td>\n",
              "      <td>No info</td>\n",
              "      <td>13302</td>\n",
              "    </tr>\n",
              "  </tbody>\n",
              "</table>\n",
              "</div>\n",
              "      <button class=\"colab-df-convert\" onclick=\"convertToInteractive('df-04a3a76e-e69a-4ee9-a76d-a6a4d569be80')\"\n",
              "              title=\"Convert this dataframe to an interactive table.\"\n",
              "              style=\"display:none;\">\n",
              "        \n",
              "  <svg xmlns=\"http://www.w3.org/2000/svg\" height=\"24px\"viewBox=\"0 0 24 24\"\n",
              "       width=\"24px\">\n",
              "    <path d=\"M0 0h24v24H0V0z\" fill=\"none\"/>\n",
              "    <path d=\"M18.56 5.44l.94 2.06.94-2.06 2.06-.94-2.06-.94-.94-2.06-.94 2.06-2.06.94zm-11 1L8.5 8.5l.94-2.06 2.06-.94-2.06-.94L8.5 2.5l-.94 2.06-2.06.94zm10 10l.94 2.06.94-2.06 2.06-.94-2.06-.94-.94-2.06-.94 2.06-2.06.94z\"/><path d=\"M17.41 7.96l-1.37-1.37c-.4-.4-.92-.59-1.43-.59-.52 0-1.04.2-1.43.59L10.3 9.45l-7.72 7.72c-.78.78-.78 2.05 0 2.83L4 21.41c.39.39.9.59 1.41.59.51 0 1.02-.2 1.41-.59l7.78-7.78 2.81-2.81c.8-.78.8-2.07 0-2.86zM5.41 20L4 18.59l7.72-7.72 1.47 1.35L5.41 20z\"/>\n",
              "  </svg>\n",
              "      </button>\n",
              "      \n",
              "  <style>\n",
              "    .colab-df-container {\n",
              "      display:flex;\n",
              "      flex-wrap:wrap;\n",
              "      gap: 12px;\n",
              "    }\n",
              "\n",
              "    .colab-df-convert {\n",
              "      background-color: #E8F0FE;\n",
              "      border: none;\n",
              "      border-radius: 50%;\n",
              "      cursor: pointer;\n",
              "      display: none;\n",
              "      fill: #1967D2;\n",
              "      height: 32px;\n",
              "      padding: 0 0 0 0;\n",
              "      width: 32px;\n",
              "    }\n",
              "\n",
              "    .colab-df-convert:hover {\n",
              "      background-color: #E2EBFA;\n",
              "      box-shadow: 0px 1px 2px rgba(60, 64, 67, 0.3), 0px 1px 3px 1px rgba(60, 64, 67, 0.15);\n",
              "      fill: #174EA6;\n",
              "    }\n",
              "\n",
              "    [theme=dark] .colab-df-convert {\n",
              "      background-color: #3B4455;\n",
              "      fill: #D2E3FC;\n",
              "    }\n",
              "\n",
              "    [theme=dark] .colab-df-convert:hover {\n",
              "      background-color: #434B5C;\n",
              "      box-shadow: 0px 1px 3px 1px rgba(0, 0, 0, 0.15);\n",
              "      filter: drop-shadow(0px 1px 2px rgba(0, 0, 0, 0.3));\n",
              "      fill: #FFFFFF;\n",
              "    }\n",
              "  </style>\n",
              "\n",
              "      <script>\n",
              "        const buttonEl =\n",
              "          document.querySelector('#df-04a3a76e-e69a-4ee9-a76d-a6a4d569be80 button.colab-df-convert');\n",
              "        buttonEl.style.display =\n",
              "          google.colab.kernel.accessAllowed ? 'block' : 'none';\n",
              "\n",
              "        async function convertToInteractive(key) {\n",
              "          const element = document.querySelector('#df-04a3a76e-e69a-4ee9-a76d-a6a4d569be80');\n",
              "          const dataTable =\n",
              "            await google.colab.kernel.invokeFunction('convertToInteractive',\n",
              "                                                     [key], {});\n",
              "          if (!dataTable) return;\n",
              "\n",
              "          const docLinkHtml = 'Like what you see? Visit the ' +\n",
              "            '<a target=\"_blank\" href=https://colab.research.google.com/notebooks/data_table.ipynb>data table notebook</a>'\n",
              "            + ' to learn more about interactive tables.';\n",
              "          element.innerHTML = '';\n",
              "          dataTable['output_type'] = 'display_data';\n",
              "          await google.colab.output.renderOutput(dataTable, element);\n",
              "          const docLink = document.createElement('div');\n",
              "          docLink.innerHTML = docLinkHtml;\n",
              "          element.appendChild(docLink);\n",
              "        }\n",
              "      </script>\n",
              "    </div>\n",
              "  </div>\n",
              "  "
            ]
          },
          "metadata": {},
          "execution_count": 3
        }
      ],
      "source": [
        "df.head()"
      ]
    },
    {
      "cell_type": "code",
      "execution_count": 4,
      "id": "54fc1c9c",
      "metadata": {
        "id": "54fc1c9c",
        "colab": {
          "base_uri": "https://localhost:8080/"
        },
        "outputId": "2f2d0d40-60a3-4eb1-9097-85b4ecc9f0b1"
      },
      "outputs": [
        {
          "output_type": "execute_result",
          "data": {
            "text/plain": [
              "(10683, 11)"
            ]
          },
          "metadata": {},
          "execution_count": 4
        }
      ],
      "source": [
        "df.shape"
      ]
    },
    {
      "cell_type": "code",
      "execution_count": 5,
      "id": "5ee24e9a",
      "metadata": {
        "id": "5ee24e9a"
      },
      "outputs": [],
      "source": [
        "df1= pd.read_csv(\"flight test.csv\")"
      ]
    },
    {
      "cell_type": "code",
      "execution_count": 6,
      "id": "46538d88",
      "metadata": {
        "id": "46538d88",
        "colab": {
          "base_uri": "https://localhost:8080/",
          "height": 206
        },
        "outputId": "bd67fbbb-869d-4800-80a7-6f8ecaf104c7"
      },
      "outputs": [
        {
          "output_type": "execute_result",
          "data": {
            "text/plain": [
              "             Airline Date_of_Journey    Source Destination            Route  \\\n",
              "0        Jet Airways       6/06/2019     Delhi      Cochin  DEL → BOM → COK   \n",
              "1             IndiGo      12/05/2019   Kolkata    Banglore  CCU → MAA → BLR   \n",
              "2        Jet Airways      21/05/2019     Delhi      Cochin  DEL → BOM → COK   \n",
              "3  Multiple carriers      21/05/2019     Delhi      Cochin  DEL → BOM → COK   \n",
              "4           Air Asia      24/06/2019  Banglore       Delhi        BLR → DEL   \n",
              "\n",
              "  Dep_Time  Arrival_Time Duration Total_Stops              Additional_Info  \n",
              "0    17:30  04:25 07 Jun  10h 55m      1 stop                      No info  \n",
              "1    06:20         10:20       4h      1 stop                      No info  \n",
              "2    19:15  19:00 22 May  23h 45m      1 stop  In-flight meal not included  \n",
              "3    08:00         21:00      13h      1 stop                      No info  \n",
              "4    23:55  02:45 25 Jun   2h 50m    non-stop                      No info  "
            ],
            "text/html": [
              "\n",
              "  <div id=\"df-6427a3df-10cd-423f-a658-684d31d8aefd\">\n",
              "    <div class=\"colab-df-container\">\n",
              "      <div>\n",
              "<style scoped>\n",
              "    .dataframe tbody tr th:only-of-type {\n",
              "        vertical-align: middle;\n",
              "    }\n",
              "\n",
              "    .dataframe tbody tr th {\n",
              "        vertical-align: top;\n",
              "    }\n",
              "\n",
              "    .dataframe thead th {\n",
              "        text-align: right;\n",
              "    }\n",
              "</style>\n",
              "<table border=\"1\" class=\"dataframe\">\n",
              "  <thead>\n",
              "    <tr style=\"text-align: right;\">\n",
              "      <th></th>\n",
              "      <th>Airline</th>\n",
              "      <th>Date_of_Journey</th>\n",
              "      <th>Source</th>\n",
              "      <th>Destination</th>\n",
              "      <th>Route</th>\n",
              "      <th>Dep_Time</th>\n",
              "      <th>Arrival_Time</th>\n",
              "      <th>Duration</th>\n",
              "      <th>Total_Stops</th>\n",
              "      <th>Additional_Info</th>\n",
              "    </tr>\n",
              "  </thead>\n",
              "  <tbody>\n",
              "    <tr>\n",
              "      <th>0</th>\n",
              "      <td>Jet Airways</td>\n",
              "      <td>6/06/2019</td>\n",
              "      <td>Delhi</td>\n",
              "      <td>Cochin</td>\n",
              "      <td>DEL → BOM → COK</td>\n",
              "      <td>17:30</td>\n",
              "      <td>04:25 07 Jun</td>\n",
              "      <td>10h 55m</td>\n",
              "      <td>1 stop</td>\n",
              "      <td>No info</td>\n",
              "    </tr>\n",
              "    <tr>\n",
              "      <th>1</th>\n",
              "      <td>IndiGo</td>\n",
              "      <td>12/05/2019</td>\n",
              "      <td>Kolkata</td>\n",
              "      <td>Banglore</td>\n",
              "      <td>CCU → MAA → BLR</td>\n",
              "      <td>06:20</td>\n",
              "      <td>10:20</td>\n",
              "      <td>4h</td>\n",
              "      <td>1 stop</td>\n",
              "      <td>No info</td>\n",
              "    </tr>\n",
              "    <tr>\n",
              "      <th>2</th>\n",
              "      <td>Jet Airways</td>\n",
              "      <td>21/05/2019</td>\n",
              "      <td>Delhi</td>\n",
              "      <td>Cochin</td>\n",
              "      <td>DEL → BOM → COK</td>\n",
              "      <td>19:15</td>\n",
              "      <td>19:00 22 May</td>\n",
              "      <td>23h 45m</td>\n",
              "      <td>1 stop</td>\n",
              "      <td>In-flight meal not included</td>\n",
              "    </tr>\n",
              "    <tr>\n",
              "      <th>3</th>\n",
              "      <td>Multiple carriers</td>\n",
              "      <td>21/05/2019</td>\n",
              "      <td>Delhi</td>\n",
              "      <td>Cochin</td>\n",
              "      <td>DEL → BOM → COK</td>\n",
              "      <td>08:00</td>\n",
              "      <td>21:00</td>\n",
              "      <td>13h</td>\n",
              "      <td>1 stop</td>\n",
              "      <td>No info</td>\n",
              "    </tr>\n",
              "    <tr>\n",
              "      <th>4</th>\n",
              "      <td>Air Asia</td>\n",
              "      <td>24/06/2019</td>\n",
              "      <td>Banglore</td>\n",
              "      <td>Delhi</td>\n",
              "      <td>BLR → DEL</td>\n",
              "      <td>23:55</td>\n",
              "      <td>02:45 25 Jun</td>\n",
              "      <td>2h 50m</td>\n",
              "      <td>non-stop</td>\n",
              "      <td>No info</td>\n",
              "    </tr>\n",
              "  </tbody>\n",
              "</table>\n",
              "</div>\n",
              "      <button class=\"colab-df-convert\" onclick=\"convertToInteractive('df-6427a3df-10cd-423f-a658-684d31d8aefd')\"\n",
              "              title=\"Convert this dataframe to an interactive table.\"\n",
              "              style=\"display:none;\">\n",
              "        \n",
              "  <svg xmlns=\"http://www.w3.org/2000/svg\" height=\"24px\"viewBox=\"0 0 24 24\"\n",
              "       width=\"24px\">\n",
              "    <path d=\"M0 0h24v24H0V0z\" fill=\"none\"/>\n",
              "    <path d=\"M18.56 5.44l.94 2.06.94-2.06 2.06-.94-2.06-.94-.94-2.06-.94 2.06-2.06.94zm-11 1L8.5 8.5l.94-2.06 2.06-.94-2.06-.94L8.5 2.5l-.94 2.06-2.06.94zm10 10l.94 2.06.94-2.06 2.06-.94-2.06-.94-.94-2.06-.94 2.06-2.06.94z\"/><path d=\"M17.41 7.96l-1.37-1.37c-.4-.4-.92-.59-1.43-.59-.52 0-1.04.2-1.43.59L10.3 9.45l-7.72 7.72c-.78.78-.78 2.05 0 2.83L4 21.41c.39.39.9.59 1.41.59.51 0 1.02-.2 1.41-.59l7.78-7.78 2.81-2.81c.8-.78.8-2.07 0-2.86zM5.41 20L4 18.59l7.72-7.72 1.47 1.35L5.41 20z\"/>\n",
              "  </svg>\n",
              "      </button>\n",
              "      \n",
              "  <style>\n",
              "    .colab-df-container {\n",
              "      display:flex;\n",
              "      flex-wrap:wrap;\n",
              "      gap: 12px;\n",
              "    }\n",
              "\n",
              "    .colab-df-convert {\n",
              "      background-color: #E8F0FE;\n",
              "      border: none;\n",
              "      border-radius: 50%;\n",
              "      cursor: pointer;\n",
              "      display: none;\n",
              "      fill: #1967D2;\n",
              "      height: 32px;\n",
              "      padding: 0 0 0 0;\n",
              "      width: 32px;\n",
              "    }\n",
              "\n",
              "    .colab-df-convert:hover {\n",
              "      background-color: #E2EBFA;\n",
              "      box-shadow: 0px 1px 2px rgba(60, 64, 67, 0.3), 0px 1px 3px 1px rgba(60, 64, 67, 0.15);\n",
              "      fill: #174EA6;\n",
              "    }\n",
              "\n",
              "    [theme=dark] .colab-df-convert {\n",
              "      background-color: #3B4455;\n",
              "      fill: #D2E3FC;\n",
              "    }\n",
              "\n",
              "    [theme=dark] .colab-df-convert:hover {\n",
              "      background-color: #434B5C;\n",
              "      box-shadow: 0px 1px 3px 1px rgba(0, 0, 0, 0.15);\n",
              "      filter: drop-shadow(0px 1px 2px rgba(0, 0, 0, 0.3));\n",
              "      fill: #FFFFFF;\n",
              "    }\n",
              "  </style>\n",
              "\n",
              "      <script>\n",
              "        const buttonEl =\n",
              "          document.querySelector('#df-6427a3df-10cd-423f-a658-684d31d8aefd button.colab-df-convert');\n",
              "        buttonEl.style.display =\n",
              "          google.colab.kernel.accessAllowed ? 'block' : 'none';\n",
              "\n",
              "        async function convertToInteractive(key) {\n",
              "          const element = document.querySelector('#df-6427a3df-10cd-423f-a658-684d31d8aefd');\n",
              "          const dataTable =\n",
              "            await google.colab.kernel.invokeFunction('convertToInteractive',\n",
              "                                                     [key], {});\n",
              "          if (!dataTable) return;\n",
              "\n",
              "          const docLinkHtml = 'Like what you see? Visit the ' +\n",
              "            '<a target=\"_blank\" href=https://colab.research.google.com/notebooks/data_table.ipynb>data table notebook</a>'\n",
              "            + ' to learn more about interactive tables.';\n",
              "          element.innerHTML = '';\n",
              "          dataTable['output_type'] = 'display_data';\n",
              "          await google.colab.output.renderOutput(dataTable, element);\n",
              "          const docLink = document.createElement('div');\n",
              "          docLink.innerHTML = docLinkHtml;\n",
              "          element.appendChild(docLink);\n",
              "        }\n",
              "      </script>\n",
              "    </div>\n",
              "  </div>\n",
              "  "
            ]
          },
          "metadata": {},
          "execution_count": 6
        }
      ],
      "source": [
        "df1.head()"
      ]
    },
    {
      "cell_type": "code",
      "execution_count": 7,
      "id": "e87f7e7a",
      "metadata": {
        "id": "e87f7e7a",
        "colab": {
          "base_uri": "https://localhost:8080/"
        },
        "outputId": "1d6758d5-5c56-42b3-bcbd-e55a2d4fac80"
      },
      "outputs": [
        {
          "output_type": "execute_result",
          "data": {
            "text/plain": [
              "(2671, 10)"
            ]
          },
          "metadata": {},
          "execution_count": 7
        }
      ],
      "source": [
        "df1.shape"
      ]
    },
    {
      "cell_type": "markdown",
      "id": "b60ea8e7",
      "metadata": {
        "id": "b60ea8e7"
      },
      "source": [
        "### We will combine both the data for the purpose of Feature Engineering"
      ]
    },
    {
      "cell_type": "code",
      "execution_count": 8,
      "id": "feddbe73",
      "metadata": {
        "id": "feddbe73"
      },
      "outputs": [],
      "source": [
        "total_df= df.append(df1,sort= False)"
      ]
    },
    {
      "cell_type": "code",
      "execution_count": 9,
      "id": "21f8346b",
      "metadata": {
        "id": "21f8346b",
        "colab": {
          "base_uri": "https://localhost:8080/",
          "height": 206
        },
        "outputId": "897856e1-b14f-423a-bef0-604d51788f7f"
      },
      "outputs": [
        {
          "output_type": "execute_result",
          "data": {
            "text/plain": [
              "                Airline Date_of_Journey   Source Destination            Route  \\\n",
              "2666          Air India       6/06/2019  Kolkata    Banglore  CCU → DEL → BLR   \n",
              "2667             IndiGo      27/03/2019  Kolkata    Banglore        CCU → BLR   \n",
              "2668        Jet Airways       6/03/2019    Delhi      Cochin  DEL → BOM → COK   \n",
              "2669          Air India       6/03/2019    Delhi      Cochin  DEL → BOM → COK   \n",
              "2670  Multiple carriers      15/06/2019    Delhi      Cochin  DEL → BOM → COK   \n",
              "\n",
              "     Dep_Time  Arrival_Time Duration Total_Stops Additional_Info  Price  \n",
              "2666    20:30  20:25 07 Jun  23h 55m      1 stop         No info    NaN  \n",
              "2667    14:20         16:55   2h 35m    non-stop         No info    NaN  \n",
              "2668    21:50  04:25 07 Mar   6h 35m      1 stop         No info    NaN  \n",
              "2669    04:00         19:15  15h 15m      1 stop         No info    NaN  \n",
              "2670    04:55         19:15  14h 20m      1 stop         No info    NaN  "
            ],
            "text/html": [
              "\n",
              "  <div id=\"df-e7f3e684-a093-44f8-a46d-76e4b567a502\">\n",
              "    <div class=\"colab-df-container\">\n",
              "      <div>\n",
              "<style scoped>\n",
              "    .dataframe tbody tr th:only-of-type {\n",
              "        vertical-align: middle;\n",
              "    }\n",
              "\n",
              "    .dataframe tbody tr th {\n",
              "        vertical-align: top;\n",
              "    }\n",
              "\n",
              "    .dataframe thead th {\n",
              "        text-align: right;\n",
              "    }\n",
              "</style>\n",
              "<table border=\"1\" class=\"dataframe\">\n",
              "  <thead>\n",
              "    <tr style=\"text-align: right;\">\n",
              "      <th></th>\n",
              "      <th>Airline</th>\n",
              "      <th>Date_of_Journey</th>\n",
              "      <th>Source</th>\n",
              "      <th>Destination</th>\n",
              "      <th>Route</th>\n",
              "      <th>Dep_Time</th>\n",
              "      <th>Arrival_Time</th>\n",
              "      <th>Duration</th>\n",
              "      <th>Total_Stops</th>\n",
              "      <th>Additional_Info</th>\n",
              "      <th>Price</th>\n",
              "    </tr>\n",
              "  </thead>\n",
              "  <tbody>\n",
              "    <tr>\n",
              "      <th>2666</th>\n",
              "      <td>Air India</td>\n",
              "      <td>6/06/2019</td>\n",
              "      <td>Kolkata</td>\n",
              "      <td>Banglore</td>\n",
              "      <td>CCU → DEL → BLR</td>\n",
              "      <td>20:30</td>\n",
              "      <td>20:25 07 Jun</td>\n",
              "      <td>23h 55m</td>\n",
              "      <td>1 stop</td>\n",
              "      <td>No info</td>\n",
              "      <td>NaN</td>\n",
              "    </tr>\n",
              "    <tr>\n",
              "      <th>2667</th>\n",
              "      <td>IndiGo</td>\n",
              "      <td>27/03/2019</td>\n",
              "      <td>Kolkata</td>\n",
              "      <td>Banglore</td>\n",
              "      <td>CCU → BLR</td>\n",
              "      <td>14:20</td>\n",
              "      <td>16:55</td>\n",
              "      <td>2h 35m</td>\n",
              "      <td>non-stop</td>\n",
              "      <td>No info</td>\n",
              "      <td>NaN</td>\n",
              "    </tr>\n",
              "    <tr>\n",
              "      <th>2668</th>\n",
              "      <td>Jet Airways</td>\n",
              "      <td>6/03/2019</td>\n",
              "      <td>Delhi</td>\n",
              "      <td>Cochin</td>\n",
              "      <td>DEL → BOM → COK</td>\n",
              "      <td>21:50</td>\n",
              "      <td>04:25 07 Mar</td>\n",
              "      <td>6h 35m</td>\n",
              "      <td>1 stop</td>\n",
              "      <td>No info</td>\n",
              "      <td>NaN</td>\n",
              "    </tr>\n",
              "    <tr>\n",
              "      <th>2669</th>\n",
              "      <td>Air India</td>\n",
              "      <td>6/03/2019</td>\n",
              "      <td>Delhi</td>\n",
              "      <td>Cochin</td>\n",
              "      <td>DEL → BOM → COK</td>\n",
              "      <td>04:00</td>\n",
              "      <td>19:15</td>\n",
              "      <td>15h 15m</td>\n",
              "      <td>1 stop</td>\n",
              "      <td>No info</td>\n",
              "      <td>NaN</td>\n",
              "    </tr>\n",
              "    <tr>\n",
              "      <th>2670</th>\n",
              "      <td>Multiple carriers</td>\n",
              "      <td>15/06/2019</td>\n",
              "      <td>Delhi</td>\n",
              "      <td>Cochin</td>\n",
              "      <td>DEL → BOM → COK</td>\n",
              "      <td>04:55</td>\n",
              "      <td>19:15</td>\n",
              "      <td>14h 20m</td>\n",
              "      <td>1 stop</td>\n",
              "      <td>No info</td>\n",
              "      <td>NaN</td>\n",
              "    </tr>\n",
              "  </tbody>\n",
              "</table>\n",
              "</div>\n",
              "      <button class=\"colab-df-convert\" onclick=\"convertToInteractive('df-e7f3e684-a093-44f8-a46d-76e4b567a502')\"\n",
              "              title=\"Convert this dataframe to an interactive table.\"\n",
              "              style=\"display:none;\">\n",
              "        \n",
              "  <svg xmlns=\"http://www.w3.org/2000/svg\" height=\"24px\"viewBox=\"0 0 24 24\"\n",
              "       width=\"24px\">\n",
              "    <path d=\"M0 0h24v24H0V0z\" fill=\"none\"/>\n",
              "    <path d=\"M18.56 5.44l.94 2.06.94-2.06 2.06-.94-2.06-.94-.94-2.06-.94 2.06-2.06.94zm-11 1L8.5 8.5l.94-2.06 2.06-.94-2.06-.94L8.5 2.5l-.94 2.06-2.06.94zm10 10l.94 2.06.94-2.06 2.06-.94-2.06-.94-.94-2.06-.94 2.06-2.06.94z\"/><path d=\"M17.41 7.96l-1.37-1.37c-.4-.4-.92-.59-1.43-.59-.52 0-1.04.2-1.43.59L10.3 9.45l-7.72 7.72c-.78.78-.78 2.05 0 2.83L4 21.41c.39.39.9.59 1.41.59.51 0 1.02-.2 1.41-.59l7.78-7.78 2.81-2.81c.8-.78.8-2.07 0-2.86zM5.41 20L4 18.59l7.72-7.72 1.47 1.35L5.41 20z\"/>\n",
              "  </svg>\n",
              "      </button>\n",
              "      \n",
              "  <style>\n",
              "    .colab-df-container {\n",
              "      display:flex;\n",
              "      flex-wrap:wrap;\n",
              "      gap: 12px;\n",
              "    }\n",
              "\n",
              "    .colab-df-convert {\n",
              "      background-color: #E8F0FE;\n",
              "      border: none;\n",
              "      border-radius: 50%;\n",
              "      cursor: pointer;\n",
              "      display: none;\n",
              "      fill: #1967D2;\n",
              "      height: 32px;\n",
              "      padding: 0 0 0 0;\n",
              "      width: 32px;\n",
              "    }\n",
              "\n",
              "    .colab-df-convert:hover {\n",
              "      background-color: #E2EBFA;\n",
              "      box-shadow: 0px 1px 2px rgba(60, 64, 67, 0.3), 0px 1px 3px 1px rgba(60, 64, 67, 0.15);\n",
              "      fill: #174EA6;\n",
              "    }\n",
              "\n",
              "    [theme=dark] .colab-df-convert {\n",
              "      background-color: #3B4455;\n",
              "      fill: #D2E3FC;\n",
              "    }\n",
              "\n",
              "    [theme=dark] .colab-df-convert:hover {\n",
              "      background-color: #434B5C;\n",
              "      box-shadow: 0px 1px 3px 1px rgba(0, 0, 0, 0.15);\n",
              "      filter: drop-shadow(0px 1px 2px rgba(0, 0, 0, 0.3));\n",
              "      fill: #FFFFFF;\n",
              "    }\n",
              "  </style>\n",
              "\n",
              "      <script>\n",
              "        const buttonEl =\n",
              "          document.querySelector('#df-e7f3e684-a093-44f8-a46d-76e4b567a502 button.colab-df-convert');\n",
              "        buttonEl.style.display =\n",
              "          google.colab.kernel.accessAllowed ? 'block' : 'none';\n",
              "\n",
              "        async function convertToInteractive(key) {\n",
              "          const element = document.querySelector('#df-e7f3e684-a093-44f8-a46d-76e4b567a502');\n",
              "          const dataTable =\n",
              "            await google.colab.kernel.invokeFunction('convertToInteractive',\n",
              "                                                     [key], {});\n",
              "          if (!dataTable) return;\n",
              "\n",
              "          const docLinkHtml = 'Like what you see? Visit the ' +\n",
              "            '<a target=\"_blank\" href=https://colab.research.google.com/notebooks/data_table.ipynb>data table notebook</a>'\n",
              "            + ' to learn more about interactive tables.';\n",
              "          element.innerHTML = '';\n",
              "          dataTable['output_type'] = 'display_data';\n",
              "          await google.colab.output.renderOutput(dataTable, element);\n",
              "          const docLink = document.createElement('div');\n",
              "          docLink.innerHTML = docLinkHtml;\n",
              "          element.appendChild(docLink);\n",
              "        }\n",
              "      </script>\n",
              "    </div>\n",
              "  </div>\n",
              "  "
            ]
          },
          "metadata": {},
          "execution_count": 9
        }
      ],
      "source": [
        "total_df.tail()"
      ]
    },
    {
      "cell_type": "code",
      "execution_count": 10,
      "id": "a89da9b1",
      "metadata": {
        "id": "a89da9b1",
        "colab": {
          "base_uri": "https://localhost:8080/",
          "height": 206
        },
        "outputId": "3a776b48-31a3-4add-afe9-81da36fc8ba5"
      },
      "outputs": [
        {
          "output_type": "execute_result",
          "data": {
            "text/plain": [
              "       Airline Date_of_Journey    Source Destination                  Route  \\\n",
              "0       IndiGo      24/03/2019  Banglore   New Delhi              BLR → DEL   \n",
              "1    Air India       1/05/2019   Kolkata    Banglore  CCU → IXR → BBI → BLR   \n",
              "2  Jet Airways       9/06/2019     Delhi      Cochin  DEL → LKO → BOM → COK   \n",
              "3       IndiGo      12/05/2019   Kolkata    Banglore        CCU → NAG → BLR   \n",
              "4       IndiGo      01/03/2019  Banglore   New Delhi        BLR → NAG → DEL   \n",
              "\n",
              "  Dep_Time  Arrival_Time Duration Total_Stops Additional_Info    Price  \n",
              "0    22:20  01:10 22 Mar   2h 50m    non-stop         No info   3897.0  \n",
              "1    05:50         13:15   7h 25m     2 stops         No info   7662.0  \n",
              "2    09:25  04:25 10 Jun      19h     2 stops         No info  13882.0  \n",
              "3    18:05         23:30   5h 25m      1 stop         No info   6218.0  \n",
              "4    16:50         21:35   4h 45m      1 stop         No info  13302.0  "
            ],
            "text/html": [
              "\n",
              "  <div id=\"df-5353c1ee-d037-4c67-9972-9a2f7670da11\">\n",
              "    <div class=\"colab-df-container\">\n",
              "      <div>\n",
              "<style scoped>\n",
              "    .dataframe tbody tr th:only-of-type {\n",
              "        vertical-align: middle;\n",
              "    }\n",
              "\n",
              "    .dataframe tbody tr th {\n",
              "        vertical-align: top;\n",
              "    }\n",
              "\n",
              "    .dataframe thead th {\n",
              "        text-align: right;\n",
              "    }\n",
              "</style>\n",
              "<table border=\"1\" class=\"dataframe\">\n",
              "  <thead>\n",
              "    <tr style=\"text-align: right;\">\n",
              "      <th></th>\n",
              "      <th>Airline</th>\n",
              "      <th>Date_of_Journey</th>\n",
              "      <th>Source</th>\n",
              "      <th>Destination</th>\n",
              "      <th>Route</th>\n",
              "      <th>Dep_Time</th>\n",
              "      <th>Arrival_Time</th>\n",
              "      <th>Duration</th>\n",
              "      <th>Total_Stops</th>\n",
              "      <th>Additional_Info</th>\n",
              "      <th>Price</th>\n",
              "    </tr>\n",
              "  </thead>\n",
              "  <tbody>\n",
              "    <tr>\n",
              "      <th>0</th>\n",
              "      <td>IndiGo</td>\n",
              "      <td>24/03/2019</td>\n",
              "      <td>Banglore</td>\n",
              "      <td>New Delhi</td>\n",
              "      <td>BLR → DEL</td>\n",
              "      <td>22:20</td>\n",
              "      <td>01:10 22 Mar</td>\n",
              "      <td>2h 50m</td>\n",
              "      <td>non-stop</td>\n",
              "      <td>No info</td>\n",
              "      <td>3897.0</td>\n",
              "    </tr>\n",
              "    <tr>\n",
              "      <th>1</th>\n",
              "      <td>Air India</td>\n",
              "      <td>1/05/2019</td>\n",
              "      <td>Kolkata</td>\n",
              "      <td>Banglore</td>\n",
              "      <td>CCU → IXR → BBI → BLR</td>\n",
              "      <td>05:50</td>\n",
              "      <td>13:15</td>\n",
              "      <td>7h 25m</td>\n",
              "      <td>2 stops</td>\n",
              "      <td>No info</td>\n",
              "      <td>7662.0</td>\n",
              "    </tr>\n",
              "    <tr>\n",
              "      <th>2</th>\n",
              "      <td>Jet Airways</td>\n",
              "      <td>9/06/2019</td>\n",
              "      <td>Delhi</td>\n",
              "      <td>Cochin</td>\n",
              "      <td>DEL → LKO → BOM → COK</td>\n",
              "      <td>09:25</td>\n",
              "      <td>04:25 10 Jun</td>\n",
              "      <td>19h</td>\n",
              "      <td>2 stops</td>\n",
              "      <td>No info</td>\n",
              "      <td>13882.0</td>\n",
              "    </tr>\n",
              "    <tr>\n",
              "      <th>3</th>\n",
              "      <td>IndiGo</td>\n",
              "      <td>12/05/2019</td>\n",
              "      <td>Kolkata</td>\n",
              "      <td>Banglore</td>\n",
              "      <td>CCU → NAG → BLR</td>\n",
              "      <td>18:05</td>\n",
              "      <td>23:30</td>\n",
              "      <td>5h 25m</td>\n",
              "      <td>1 stop</td>\n",
              "      <td>No info</td>\n",
              "      <td>6218.0</td>\n",
              "    </tr>\n",
              "    <tr>\n",
              "      <th>4</th>\n",
              "      <td>IndiGo</td>\n",
              "      <td>01/03/2019</td>\n",
              "      <td>Banglore</td>\n",
              "      <td>New Delhi</td>\n",
              "      <td>BLR → NAG → DEL</td>\n",
              "      <td>16:50</td>\n",
              "      <td>21:35</td>\n",
              "      <td>4h 45m</td>\n",
              "      <td>1 stop</td>\n",
              "      <td>No info</td>\n",
              "      <td>13302.0</td>\n",
              "    </tr>\n",
              "  </tbody>\n",
              "</table>\n",
              "</div>\n",
              "      <button class=\"colab-df-convert\" onclick=\"convertToInteractive('df-5353c1ee-d037-4c67-9972-9a2f7670da11')\"\n",
              "              title=\"Convert this dataframe to an interactive table.\"\n",
              "              style=\"display:none;\">\n",
              "        \n",
              "  <svg xmlns=\"http://www.w3.org/2000/svg\" height=\"24px\"viewBox=\"0 0 24 24\"\n",
              "       width=\"24px\">\n",
              "    <path d=\"M0 0h24v24H0V0z\" fill=\"none\"/>\n",
              "    <path d=\"M18.56 5.44l.94 2.06.94-2.06 2.06-.94-2.06-.94-.94-2.06-.94 2.06-2.06.94zm-11 1L8.5 8.5l.94-2.06 2.06-.94-2.06-.94L8.5 2.5l-.94 2.06-2.06.94zm10 10l.94 2.06.94-2.06 2.06-.94-2.06-.94-.94-2.06-.94 2.06-2.06.94z\"/><path d=\"M17.41 7.96l-1.37-1.37c-.4-.4-.92-.59-1.43-.59-.52 0-1.04.2-1.43.59L10.3 9.45l-7.72 7.72c-.78.78-.78 2.05 0 2.83L4 21.41c.39.39.9.59 1.41.59.51 0 1.02-.2 1.41-.59l7.78-7.78 2.81-2.81c.8-.78.8-2.07 0-2.86zM5.41 20L4 18.59l7.72-7.72 1.47 1.35L5.41 20z\"/>\n",
              "  </svg>\n",
              "      </button>\n",
              "      \n",
              "  <style>\n",
              "    .colab-df-container {\n",
              "      display:flex;\n",
              "      flex-wrap:wrap;\n",
              "      gap: 12px;\n",
              "    }\n",
              "\n",
              "    .colab-df-convert {\n",
              "      background-color: #E8F0FE;\n",
              "      border: none;\n",
              "      border-radius: 50%;\n",
              "      cursor: pointer;\n",
              "      display: none;\n",
              "      fill: #1967D2;\n",
              "      height: 32px;\n",
              "      padding: 0 0 0 0;\n",
              "      width: 32px;\n",
              "    }\n",
              "\n",
              "    .colab-df-convert:hover {\n",
              "      background-color: #E2EBFA;\n",
              "      box-shadow: 0px 1px 2px rgba(60, 64, 67, 0.3), 0px 1px 3px 1px rgba(60, 64, 67, 0.15);\n",
              "      fill: #174EA6;\n",
              "    }\n",
              "\n",
              "    [theme=dark] .colab-df-convert {\n",
              "      background-color: #3B4455;\n",
              "      fill: #D2E3FC;\n",
              "    }\n",
              "\n",
              "    [theme=dark] .colab-df-convert:hover {\n",
              "      background-color: #434B5C;\n",
              "      box-shadow: 0px 1px 3px 1px rgba(0, 0, 0, 0.15);\n",
              "      filter: drop-shadow(0px 1px 2px rgba(0, 0, 0, 0.3));\n",
              "      fill: #FFFFFF;\n",
              "    }\n",
              "  </style>\n",
              "\n",
              "      <script>\n",
              "        const buttonEl =\n",
              "          document.querySelector('#df-5353c1ee-d037-4c67-9972-9a2f7670da11 button.colab-df-convert');\n",
              "        buttonEl.style.display =\n",
              "          google.colab.kernel.accessAllowed ? 'block' : 'none';\n",
              "\n",
              "        async function convertToInteractive(key) {\n",
              "          const element = document.querySelector('#df-5353c1ee-d037-4c67-9972-9a2f7670da11');\n",
              "          const dataTable =\n",
              "            await google.colab.kernel.invokeFunction('convertToInteractive',\n",
              "                                                     [key], {});\n",
              "          if (!dataTable) return;\n",
              "\n",
              "          const docLinkHtml = 'Like what you see? Visit the ' +\n",
              "            '<a target=\"_blank\" href=https://colab.research.google.com/notebooks/data_table.ipynb>data table notebook</a>'\n",
              "            + ' to learn more about interactive tables.';\n",
              "          element.innerHTML = '';\n",
              "          dataTable['output_type'] = 'display_data';\n",
              "          await google.colab.output.renderOutput(dataTable, element);\n",
              "          const docLink = document.createElement('div');\n",
              "          docLink.innerHTML = docLinkHtml;\n",
              "          element.appendChild(docLink);\n",
              "        }\n",
              "      </script>\n",
              "    </div>\n",
              "  </div>\n",
              "  "
            ]
          },
          "metadata": {},
          "execution_count": 10
        }
      ],
      "source": [
        "total_df.head()"
      ]
    },
    {
      "cell_type": "code",
      "execution_count": 11,
      "id": "567bac47",
      "metadata": {
        "id": "567bac47",
        "colab": {
          "base_uri": "https://localhost:8080/"
        },
        "outputId": "8e80b422-7ab3-46df-84c8-21fcac77ca08"
      },
      "outputs": [
        {
          "output_type": "execute_result",
          "data": {
            "text/plain": [
              "(13354, 11)"
            ]
          },
          "metadata": {},
          "execution_count": 11
        }
      ],
      "source": [
        "total_df.shape"
      ]
    },
    {
      "cell_type": "markdown",
      "id": "73f81240",
      "metadata": {
        "id": "73f81240"
      },
      "source": [
        "### Understanding our Data"
      ]
    },
    {
      "cell_type": "markdown",
      "id": "8d3b4af4",
      "metadata": {
        "id": "8d3b4af4"
      },
      "source": [
        "#### Size of training set: 10683 records\n",
        "\n",
        "#### Size of test set: 2671 records\n",
        "\n",
        "### FEATURES: \n",
        "\n",
        "#### Airline: The name of the airline.\n",
        "\n",
        "#### Date_of_Journey: The date of the journey\n",
        "\n",
        "#### Source: The source from which the service begins.\n",
        "\n",
        "#### Destination: The destination where the service ends.\n",
        "\n",
        "#### Route: The route taken by the flight to reach the destination.\n",
        "\n",
        "#### Dep_Time: The time when the journey starts from the source.\n",
        "\n",
        "#### Arrival_Time: Time of arrival at the destination.\n",
        "\n",
        "#### Duration: Total duration of the flight.\n",
        "\n",
        "#### Total_Stops: Total stops between the source and destination.\n",
        "\n",
        "#### Additional_Info: Additional information about the flight\n",
        "\n",
        "#### Price: The price of the ticket"
      ]
    },
    {
      "cell_type": "markdown",
      "id": "bd527a32",
      "metadata": {
        "id": "bd527a32"
      },
      "source": [
        "### Data Analysis"
      ]
    },
    {
      "cell_type": "markdown",
      "id": "28eb6130",
      "metadata": {
        "id": "28eb6130"
      },
      "source": [
        "#### We will be doing this on our Train data only"
      ]
    },
    {
      "cell_type": "code",
      "execution_count": 12,
      "id": "1d109672",
      "metadata": {
        "id": "1d109672",
        "colab": {
          "base_uri": "https://localhost:8080/"
        },
        "outputId": "c2314cbe-1e9c-4371-f706-df0e14276484"
      },
      "outputs": [
        {
          "output_type": "execute_result",
          "data": {
            "text/plain": [
              "Jet Airways                          3849\n",
              "IndiGo                               2053\n",
              "Air India                            1752\n",
              "Multiple carriers                    1196\n",
              "SpiceJet                              818\n",
              "Vistara                               479\n",
              "Air Asia                              319\n",
              "GoAir                                 194\n",
              "Multiple carriers Premium economy      13\n",
              "Jet Airways Business                    6\n",
              "Vistara Premium economy                 3\n",
              "Trujet                                  1\n",
              "Name: Airline, dtype: int64"
            ]
          },
          "metadata": {},
          "execution_count": 12
        }
      ],
      "source": [
        "df['Airline'].value_counts() ## checking for airline data"
      ]
    },
    {
      "cell_type": "markdown",
      "id": "a3531169",
      "metadata": {
        "id": "a3531169"
      },
      "source": [
        "### Let's see the relation b/w airline and price"
      ]
    },
    {
      "cell_type": "code",
      "execution_count": 13,
      "id": "bcff41da",
      "metadata": {
        "id": "bcff41da",
        "colab": {
          "base_uri": "https://localhost:8080/",
          "height": 458
        },
        "outputId": "40b68bfd-8358-44f5-f722-ad9ba1f809f9"
      },
      "outputs": [
        {
          "output_type": "execute_result",
          "data": {
            "text/plain": [
              "<function matplotlib.pyplot.show(*args, **kw)>"
            ]
          },
          "metadata": {},
          "execution_count": 13
        },
        {
          "output_type": "display_data",
          "data": {
            "text/plain": [
              "<Figure size 1296x432 with 1 Axes>"
            ],
            "image/png": "[encoded data removed]"
          },
          "metadata": {
            "needs_background": "light"
          }
        }
      ],
      "source": [
        "sns.catplot(y='Price',x='Airline',data= df.sort_values('Price',ascending=False),kind=\"boxen\",height=6, aspect=3)\n",
        "plt.show"
      ]
    },
    {
      "cell_type": "markdown",
      "id": "23a81688",
      "metadata": {
        "id": "23a81688"
      },
      "source": [
        "#### Jet airways business have the highest fare"
      ]
    },
    {
      "cell_type": "code",
      "execution_count": 14,
      "id": "fd73a7af",
      "metadata": {
        "id": "fd73a7af",
        "colab": {
          "base_uri": "https://localhost:8080/"
        },
        "outputId": "152255ad-558e-442c-f708-341ffd817d69"
      },
      "outputs": [
        {
          "output_type": "execute_result",
          "data": {
            "text/plain": [
              "Delhi       4537\n",
              "Kolkata     2871\n",
              "Banglore    2197\n",
              "Mumbai       697\n",
              "Chennai      381\n",
              "Name: Source, dtype: int64"
            ]
          },
          "metadata": {},
          "execution_count": 14
        }
      ],
      "source": [
        "df['Source'].value_counts() ## checking for Source"
      ]
    },
    {
      "cell_type": "markdown",
      "id": "d5b759ea",
      "metadata": {
        "id": "d5b759ea"
      },
      "source": [
        "### Finding relation b/w Source and price"
      ]
    },
    {
      "cell_type": "code",
      "execution_count": 15,
      "id": "8bc3059c",
      "metadata": {
        "id": "8bc3059c",
        "colab": {
          "base_uri": "https://localhost:8080/",
          "height": 458
        },
        "outputId": "75dd587e-e0ee-4aa0-a7c8-3b463e680f43"
      },
      "outputs": [
        {
          "output_type": "execute_result",
          "data": {
            "text/plain": [
              "<function matplotlib.pyplot.show(*args, **kw)>"
            ]
          },
          "metadata": {},
          "execution_count": 15
        },
        {
          "output_type": "display_data",
          "data": {
            "text/plain": [
              "<Figure size 1296x432 with 1 Axes>"
            ],
            "image/png": "[encoded data removed]"
          },
          "metadata": {
            "needs_background": "light"
          }
        }
      ],
      "source": [
        "sns.catplot(y='Price',x='Source',data= df.sort_values('Price',ascending=False),kind=\"boxen\",height=6, aspect=3)\n",
        "plt.show"
      ]
    },
    {
      "cell_type": "code",
      "execution_count": 16,
      "id": "50887e37",
      "metadata": {
        "id": "50887e37",
        "colab": {
          "base_uri": "https://localhost:8080/"
        },
        "outputId": "19063dc0-062a-438d-de36-cc55d06632b9"
      },
      "outputs": [
        {
          "output_type": "execute_result",
          "data": {
            "text/plain": [
              "Cochin       4537\n",
              "Banglore     2871\n",
              "Delhi        1265\n",
              "New Delhi     932\n",
              "Hyderabad     697\n",
              "Kolkata       381\n",
              "Name: Destination, dtype: int64"
            ]
          },
          "metadata": {},
          "execution_count": 16
        }
      ],
      "source": [
        "df['Destination'].value_counts() ## checking for Destination"
      ]
    },
    {
      "cell_type": "markdown",
      "id": "92578f4d",
      "metadata": {
        "id": "92578f4d"
      },
      "source": [
        "### Doing the same for destination"
      ]
    },
    {
      "cell_type": "code",
      "execution_count": 17,
      "id": "13311f85",
      "metadata": {
        "id": "13311f85",
        "colab": {
          "base_uri": "https://localhost:8080/",
          "height": 458
        },
        "outputId": "779b9f1c-9430-488f-b0e7-7a0104422598"
      },
      "outputs": [
        {
          "output_type": "execute_result",
          "data": {
            "text/plain": [
              "<function matplotlib.pyplot.show(*args, **kw)>"
            ]
          },
          "metadata": {},
          "execution_count": 17
        },
        {
          "output_type": "display_data",
          "data": {
            "text/plain": [
              "<Figure size 1296x432 with 1 Axes>"
            ],
            "image/png": "[encoded data removed]"
          },
          "metadata": {
            "needs_background": "light"
          }
        }
      ],
      "source": [
        "sns.catplot(y='Price',x='Destination',data= df.sort_values('Price',ascending=False),kind=\"boxen\",height=6, aspect=3)\n",
        "plt.show"
      ]
    },
    {
      "cell_type": "code",
      "execution_count": 18,
      "id": "c8802e9b",
      "metadata": {
        "id": "c8802e9b",
        "colab": {
          "base_uri": "https://localhost:8080/"
        },
        "outputId": "7a14e4b4-0e65-48fc-b6bf-34007cb9e283"
      },
      "outputs": [
        {
          "output_type": "execute_result",
          "data": {
            "text/plain": [
              "2h 50m     550\n",
              "1h 30m     386\n",
              "2h 45m     337\n",
              "2h 55m     337\n",
              "2h 35m     329\n",
              "          ... \n",
              "31h 30m      1\n",
              "30h 25m      1\n",
              "42h 5m       1\n",
              "4h 10m       1\n",
              "47h 40m      1\n",
              "Name: Duration, Length: 368, dtype: int64"
            ]
          },
          "metadata": {},
          "execution_count": 18
        }
      ],
      "source": [
        "df['Duration'].value_counts()"
      ]
    },
    {
      "cell_type": "markdown",
      "id": "fa091487",
      "metadata": {
        "id": "fa091487"
      },
      "source": [
        "### Feature Engineering"
      ]
    },
    {
      "cell_type": "code",
      "execution_count": 19,
      "id": "58a0180a",
      "metadata": {
        "id": "58a0180a"
      },
      "outputs": [],
      "source": [
        "total_df['Date']=total_df['Date_of_Journey'].str.split('/').str[0]\n",
        "total_df['Month']=total_df['Date_of_Journey'].str.split('/').str[1]\n",
        "total_df['Year']=total_df['Date_of_Journey'].str.split('/').str[2]"
      ]
    },
    {
      "cell_type": "code",
      "execution_count": 20,
      "id": "3e2edca8",
      "metadata": {
        "id": "3e2edca8",
        "colab": {
          "base_uri": "https://localhost:8080/",
          "height": 206
        },
        "outputId": "448d5ceb-39ab-48bc-ed7c-c459bec26cad"
      },
      "outputs": [
        {
          "output_type": "execute_result",
          "data": {
            "text/plain": [
              "       Airline Date_of_Journey    Source Destination                  Route  \\\n",
              "0       IndiGo      24/03/2019  Banglore   New Delhi              BLR → DEL   \n",
              "1    Air India       1/05/2019   Kolkata    Banglore  CCU → IXR → BBI → BLR   \n",
              "2  Jet Airways       9/06/2019     Delhi      Cochin  DEL → LKO → BOM → COK   \n",
              "3       IndiGo      12/05/2019   Kolkata    Banglore        CCU → NAG → BLR   \n",
              "4       IndiGo      01/03/2019  Banglore   New Delhi        BLR → NAG → DEL   \n",
              "\n",
              "  Dep_Time  Arrival_Time Duration Total_Stops Additional_Info    Price Date  \\\n",
              "0    22:20  01:10 22 Mar   2h 50m    non-stop         No info   3897.0   24   \n",
              "1    05:50         13:15   7h 25m     2 stops         No info   7662.0    1   \n",
              "2    09:25  04:25 10 Jun      19h     2 stops         No info  13882.0    9   \n",
              "3    18:05         23:30   5h 25m      1 stop         No info   6218.0   12   \n",
              "4    16:50         21:35   4h 45m      1 stop         No info  13302.0   01   \n",
              "\n",
              "  Month  Year  \n",
              "0    03  2019  \n",
              "1    05  2019  \n",
              "2    06  2019  \n",
              "3    05  2019  \n",
              "4    03  2019  "
            ],
            "text/html": [
              "\n",
              "  <div id=\"df-f10769c0-5364-47b1-95ae-98effbc33a55\">\n",
              "    <div class=\"colab-df-container\">\n",
              "      <div>\n",
              "<style scoped>\n",
              "    .dataframe tbody tr th:only-of-type {\n",
              "        vertical-align: middle;\n",
              "    }\n",
              "\n",
              "    .dataframe tbody tr th {\n",
              "        vertical-align: top;\n",
              "    }\n",
              "\n",
              "    .dataframe thead th {\n",
              "        text-align: right;\n",
              "    }\n",
              "</style>\n",
              "<table border=\"1\" class=\"dataframe\">\n",
              "  <thead>\n",
              "    <tr style=\"text-align: right;\">\n",
              "      <th></th>\n",
              "      <th>Airline</th>\n",
              "      <th>Date_of_Journey</th>\n",
              "      <th>Source</th>\n",
              "      <th>Destination</th>\n",
              "      <th>Route</th>\n",
              "      <th>Dep_Time</th>\n",
              "      <th>Arrival_Time</th>\n",
              "      <th>Duration</th>\n",
              "      <th>Total_Stops</th>\n",
              "      <th>Additional_Info</th>\n",
              "      <th>Price</th>\n",
              "      <th>Date</th>\n",
              "      <th>Month</th>\n",
              "      <th>Year</th>\n",
              "    </tr>\n",
              "  </thead>\n",
              "  <tbody>\n",
              "    <tr>\n",
              "      <th>0</th>\n",
              "      <td>IndiGo</td>\n",
              "      <td>24/03/2019</td>\n",
              "      <td>Banglore</td>\n",
              "      <td>New Delhi</td>\n",
              "      <td>BLR → DEL</td>\n",
              "      <td>22:20</td>\n",
              "      <td>01:10 22 Mar</td>\n",
              "      <td>2h 50m</td>\n",
              "      <td>non-stop</td>\n",
              "      <td>No info</td>\n",
              "      <td>3897.0</td>\n",
              "      <td>24</td>\n",
              "      <td>03</td>\n",
              "      <td>2019</td>\n",
              "    </tr>\n",
              "    <tr>\n",
              "      <th>1</th>\n",
              "      <td>Air India</td>\n",
              "      <td>1/05/2019</td>\n",
              "      <td>Kolkata</td>\n",
              "      <td>Banglore</td>\n",
              "      <td>CCU → IXR → BBI → BLR</td>\n",
              "      <td>05:50</td>\n",
              "      <td>13:15</td>\n",
              "      <td>7h 25m</td>\n",
              "      <td>2 stops</td>\n",
              "      <td>No info</td>\n",
              "      <td>7662.0</td>\n",
              "      <td>1</td>\n",
              "      <td>05</td>\n",
              "      <td>2019</td>\n",
              "    </tr>\n",
              "    <tr>\n",
              "      <th>2</th>\n",
              "      <td>Jet Airways</td>\n",
              "      <td>9/06/2019</td>\n",
              "      <td>Delhi</td>\n",
              "      <td>Cochin</td>\n",
              "      <td>DEL → LKO → BOM → COK</td>\n",
              "      <td>09:25</td>\n",
              "      <td>04:25 10 Jun</td>\n",
              "      <td>19h</td>\n",
              "      <td>2 stops</td>\n",
              "      <td>No info</td>\n",
              "      <td>13882.0</td>\n",
              "      <td>9</td>\n",
              "      <td>06</td>\n",
              "      <td>2019</td>\n",
              "    </tr>\n",
              "    <tr>\n",
              "      <th>3</th>\n",
              "      <td>IndiGo</td>\n",
              "      <td>12/05/2019</td>\n",
              "      <td>Kolkata</td>\n",
              "      <td>Banglore</td>\n",
              "      <td>CCU → NAG → BLR</td>\n",
              "      <td>18:05</td>\n",
              "      <td>23:30</td>\n",
              "      <td>5h 25m</td>\n",
              "      <td>1 stop</td>\n",
              "      <td>No info</td>\n",
              "      <td>6218.0</td>\n",
              "      <td>12</td>\n",
              "      <td>05</td>\n",
              "      <td>2019</td>\n",
              "    </tr>\n",
              "    <tr>\n",
              "      <th>4</th>\n",
              "      <td>IndiGo</td>\n",
              "      <td>01/03/2019</td>\n",
              "      <td>Banglore</td>\n",
              "      <td>New Delhi</td>\n",
              "      <td>BLR → NAG → DEL</td>\n",
              "      <td>16:50</td>\n",
              "      <td>21:35</td>\n",
              "      <td>4h 45m</td>\n",
              "      <td>1 stop</td>\n",
              "      <td>No info</td>\n",
              "      <td>13302.0</td>\n",
              "      <td>01</td>\n",
              "      <td>03</td>\n",
              "      <td>2019</td>\n",
              "    </tr>\n",
              "  </tbody>\n",
              "</table>\n",
              "</div>\n",
              "      <button class=\"colab-df-convert\" onclick=\"convertToInteractive('df-f10769c0-5364-47b1-95ae-98effbc33a55')\"\n",
              "              title=\"Convert this dataframe to an interactive table.\"\n",
              "              style=\"display:none;\">\n",
              "        \n",
              "  <svg xmlns=\"http://www.w3.org/2000/svg\" height=\"24px\"viewBox=\"0 0 24 24\"\n",
              "       width=\"24px\">\n",
              "    <path d=\"M0 0h24v24H0V0z\" fill=\"none\"/>\n",
              "    <path d=\"M18.56 5.44l.94 2.06.94-2.06 2.06-.94-2.06-.94-.94-2.06-.94 2.06-2.06.94zm-11 1L8.5 8.5l.94-2.06 2.06-.94-2.06-.94L8.5 2.5l-.94 2.06-2.06.94zm10 10l.94 2.06.94-2.06 2.06-.94-2.06-.94-.94-2.06-.94 2.06-2.06.94z\"/><path d=\"M17.41 7.96l-1.37-1.37c-.4-.4-.92-.59-1.43-.59-.52 0-1.04.2-1.43.59L10.3 9.45l-7.72 7.72c-.78.78-.78 2.05 0 2.83L4 21.41c.39.39.9.59 1.41.59.51 0 1.02-.2 1.41-.59l7.78-7.78 2.81-2.81c.8-.78.8-2.07 0-2.86zM5.41 20L4 18.59l7.72-7.72 1.47 1.35L5.41 20z\"/>\n",
              "  </svg>\n",
              "      </button>\n",
              "      \n",
              "  <style>\n",
              "    .colab-df-container {\n",
              "      display:flex;\n",
              "      flex-wrap:wrap;\n",
              "      gap: 12px;\n",
              "    }\n",
              "\n",
              "    .colab-df-convert {\n",
              "      background-color: #E8F0FE;\n",
              "      border: none;\n",
              "      border-radius: 50%;\n",
              "      cursor: pointer;\n",
              "      display: none;\n",
              "      fill: #1967D2;\n",
              "      height: 32px;\n",
              "      padding: 0 0 0 0;\n",
              "      width: 32px;\n",
              "    }\n",
              "\n",
              "    .colab-df-convert:hover {\n",
              "      background-color: #E2EBFA;\n",
              "      box-shadow: 0px 1px 2px rgba(60, 64, 67, 0.3), 0px 1px 3px 1px rgba(60, 64, 67, 0.15);\n",
              "      fill: #174EA6;\n",
              "    }\n",
              "\n",
              "    [theme=dark] .colab-df-convert {\n",
              "      background-color: #3B4455;\n",
              "      fill: #D2E3FC;\n",
              "    }\n",
              "\n",
              "    [theme=dark] .colab-df-convert:hover {\n",
              "      background-color: #434B5C;\n",
              "      box-shadow: 0px 1px 3px 1px rgba(0, 0, 0, 0.15);\n",
              "      filter: drop-shadow(0px 1px 2px rgba(0, 0, 0, 0.3));\n",
              "      fill: #FFFFFF;\n",
              "    }\n",
              "  </style>\n",
              "\n",
              "      <script>\n",
              "        const buttonEl =\n",
              "          document.querySelector('#df-f10769c0-5364-47b1-95ae-98effbc33a55 button.colab-df-convert');\n",
              "        buttonEl.style.display =\n",
              "          google.colab.kernel.accessAllowed ? 'block' : 'none';\n",
              "\n",
              "        async function convertToInteractive(key) {\n",
              "          const element = document.querySelector('#df-f10769c0-5364-47b1-95ae-98effbc33a55');\n",
              "          const dataTable =\n",
              "            await google.colab.kernel.invokeFunction('convertToInteractive',\n",
              "                                                     [key], {});\n",
              "          if (!dataTable) return;\n",
              "\n",
              "          const docLinkHtml = 'Like what you see? Visit the ' +\n",
              "            '<a target=\"_blank\" href=https://colab.research.google.com/notebooks/data_table.ipynb>data table notebook</a>'\n",
              "            + ' to learn more about interactive tables.';\n",
              "          element.innerHTML = '';\n",
              "          dataTable['output_type'] = 'display_data';\n",
              "          await google.colab.output.renderOutput(dataTable, element);\n",
              "          const docLink = document.createElement('div');\n",
              "          docLink.innerHTML = docLinkHtml;\n",
              "          element.appendChild(docLink);\n",
              "        }\n",
              "      </script>\n",
              "    </div>\n",
              "  </div>\n",
              "  "
            ]
          },
          "metadata": {},
          "execution_count": 20
        }
      ],
      "source": [
        "total_df.head()"
      ]
    },
    {
      "cell_type": "code",
      "execution_count": 21,
      "id": "ac141cfc",
      "metadata": {
        "id": "ac141cfc"
      },
      "outputs": [],
      "source": [
        "total_df=total_df.drop(['Date_of_Journey'],axis=1)"
      ]
    },
    {
      "cell_type": "code",
      "execution_count": 22,
      "id": "f46a34a9",
      "metadata": {
        "id": "f46a34a9",
        "colab": {
          "base_uri": "https://localhost:8080/"
        },
        "outputId": "974090dc-5a74-47ed-8605-b7b329b8c12e"
      },
      "outputs": [
        {
          "output_type": "execute_result",
          "data": {
            "text/plain": [
              "Airline             object\n",
              "Source              object\n",
              "Destination         object\n",
              "Route               object\n",
              "Dep_Time            object\n",
              "Arrival_Time        object\n",
              "Duration            object\n",
              "Total_Stops         object\n",
              "Additional_Info     object\n",
              "Price              float64\n",
              "Date                object\n",
              "Month               object\n",
              "Year                object\n",
              "dtype: object"
            ]
          },
          "metadata": {},
          "execution_count": 22
        }
      ],
      "source": [
        "total_df.dtypes"
      ]
    },
    {
      "cell_type": "code",
      "execution_count": 23,
      "id": "6f9fbab3",
      "metadata": {
        "id": "6f9fbab3"
      },
      "outputs": [],
      "source": [
        "total_df['Date']=total_df['Date'].astype(int)\n",
        "total_df['Month']=total_df['Month'].astype(int)\n",
        "total_df['Year']=total_df['Year'].astype(int)"
      ]
    },
    {
      "cell_type": "code",
      "execution_count": 24,
      "id": "97d6e70b",
      "metadata": {
        "id": "97d6e70b",
        "colab": {
          "base_uri": "https://localhost:8080/"
        },
        "outputId": "ed6b4002-f4e6-4509-e8f1-0b6c9a50d793"
      },
      "outputs": [
        {
          "output_type": "execute_result",
          "data": {
            "text/plain": [
              "Airline             object\n",
              "Source              object\n",
              "Destination         object\n",
              "Route               object\n",
              "Dep_Time            object\n",
              "Arrival_Time        object\n",
              "Duration            object\n",
              "Total_Stops         object\n",
              "Additional_Info     object\n",
              "Price              float64\n",
              "Date                 int64\n",
              "Month                int64\n",
              "Year                 int64\n",
              "dtype: object"
            ]
          },
          "metadata": {},
          "execution_count": 24
        }
      ],
      "source": [
        "total_df.dtypes"
      ]
    },
    {
      "cell_type": "code",
      "execution_count": 25,
      "id": "51a5bfb5",
      "metadata": {
        "id": "51a5bfb5",
        "colab": {
          "base_uri": "https://localhost:8080/",
          "height": 206
        },
        "outputId": "2844b56a-3d8a-4b37-97cf-2083b969c31b"
      },
      "outputs": [
        {
          "output_type": "execute_result",
          "data": {
            "text/plain": [
              "       Airline    Source Destination                  Route Dep_Time  \\\n",
              "0       IndiGo  Banglore   New Delhi              BLR → DEL    22:20   \n",
              "1    Air India   Kolkata    Banglore  CCU → IXR → BBI → BLR    05:50   \n",
              "2  Jet Airways     Delhi      Cochin  DEL → LKO → BOM → COK    09:25   \n",
              "3       IndiGo   Kolkata    Banglore        CCU → NAG → BLR    18:05   \n",
              "4       IndiGo  Banglore   New Delhi        BLR → NAG → DEL    16:50   \n",
              "\n",
              "   Arrival_Time Duration Total_Stops Additional_Info    Price  Date  Month  \\\n",
              "0  01:10 22 Mar   2h 50m    non-stop         No info   3897.0    24      3   \n",
              "1         13:15   7h 25m     2 stops         No info   7662.0     1      5   \n",
              "2  04:25 10 Jun      19h     2 stops         No info  13882.0     9      6   \n",
              "3         23:30   5h 25m      1 stop         No info   6218.0    12      5   \n",
              "4         21:35   4h 45m      1 stop         No info  13302.0     1      3   \n",
              "\n",
              "   Year  \n",
              "0  2019  \n",
              "1  2019  \n",
              "2  2019  \n",
              "3  2019  \n",
              "4  2019  "
            ],
            "text/html": [
              "\n",
              "  <div id=\"df-9b97c948-e550-4d7c-a384-6714928ce76d\">\n",
              "    <div class=\"colab-df-container\">\n",
              "      <div>\n",
              "<style scoped>\n",
              "    .dataframe tbody tr th:only-of-type {\n",
              "        vertical-align: middle;\n",
              "    }\n",
              "\n",
              "    .dataframe tbody tr th {\n",
              "        vertical-align: top;\n",
              "    }\n",
              "\n",
              "    .dataframe thead th {\n",
              "        text-align: right;\n",
              "    }\n",
              "</style>\n",
              "<table border=\"1\" class=\"dataframe\">\n",
              "  <thead>\n",
              "    <tr style=\"text-align: right;\">\n",
              "      <th></th>\n",
              "      <th>Airline</th>\n",
              "      <th>Source</th>\n",
              "      <th>Destination</th>\n",
              "      <th>Route</th>\n",
              "      <th>Dep_Time</th>\n",
              "      <th>Arrival_Time</th>\n",
              "      <th>Duration</th>\n",
              "      <th>Total_Stops</th>\n",
              "      <th>Additional_Info</th>\n",
              "      <th>Price</th>\n",
              "      <th>Date</th>\n",
              "      <th>Month</th>\n",
              "      <th>Year</th>\n",
              "    </tr>\n",
              "  </thead>\n",
              "  <tbody>\n",
              "    <tr>\n",
              "      <th>0</th>\n",
              "      <td>IndiGo</td>\n",
              "      <td>Banglore</td>\n",
              "      <td>New Delhi</td>\n",
              "      <td>BLR → DEL</td>\n",
              "      <td>22:20</td>\n",
              "      <td>01:10 22 Mar</td>\n",
              "      <td>2h 50m</td>\n",
              "      <td>non-stop</td>\n",
              "      <td>No info</td>\n",
              "      <td>3897.0</td>\n",
              "      <td>24</td>\n",
              "      <td>3</td>\n",
              "      <td>2019</td>\n",
              "    </tr>\n",
              "    <tr>\n",
              "      <th>1</th>\n",
              "      <td>Air India</td>\n",
              "      <td>Kolkata</td>\n",
              "      <td>Banglore</td>\n",
              "      <td>CCU → IXR → BBI → BLR</td>\n",
              "      <td>05:50</td>\n",
              "      <td>13:15</td>\n",
              "      <td>7h 25m</td>\n",
              "      <td>2 stops</td>\n",
              "      <td>No info</td>\n",
              "      <td>7662.0</td>\n",
              "      <td>1</td>\n",
              "      <td>5</td>\n",
              "      <td>2019</td>\n",
              "    </tr>\n",
              "    <tr>\n",
              "      <th>2</th>\n",
              "      <td>Jet Airways</td>\n",
              "      <td>Delhi</td>\n",
              "      <td>Cochin</td>\n",
              "      <td>DEL → LKO → BOM → COK</td>\n",
              "      <td>09:25</td>\n",
              "      <td>04:25 10 Jun</td>\n",
              "      <td>19h</td>\n",
              "      <td>2 stops</td>\n",
              "      <td>No info</td>\n",
              "      <td>13882.0</td>\n",
              "      <td>9</td>\n",
              "      <td>6</td>\n",
              "      <td>2019</td>\n",
              "    </tr>\n",
              "    <tr>\n",
              "      <th>3</th>\n",
              "      <td>IndiGo</td>\n",
              "      <td>Kolkata</td>\n",
              "      <td>Banglore</td>\n",
              "      <td>CCU → NAG → BLR</td>\n",
              "      <td>18:05</td>\n",
              "      <td>23:30</td>\n",
              "      <td>5h 25m</td>\n",
              "      <td>1 stop</td>\n",
              "      <td>No info</td>\n",
              "      <td>6218.0</td>\n",
              "      <td>12</td>\n",
              "      <td>5</td>\n",
              "      <td>2019</td>\n",
              "    </tr>\n",
              "    <tr>\n",
              "      <th>4</th>\n",
              "      <td>IndiGo</td>\n",
              "      <td>Banglore</td>\n",
              "      <td>New Delhi</td>\n",
              "      <td>BLR → NAG → DEL</td>\n",
              "      <td>16:50</td>\n",
              "      <td>21:35</td>\n",
              "      <td>4h 45m</td>\n",
              "      <td>1 stop</td>\n",
              "      <td>No info</td>\n",
              "      <td>13302.0</td>\n",
              "      <td>1</td>\n",
              "      <td>3</td>\n",
              "      <td>2019</td>\n",
              "    </tr>\n",
              "  </tbody>\n",
              "</table>\n",
              "</div>\n",
              "      <button class=\"colab-df-convert\" onclick=\"convertToInteractive('df-9b97c948-e550-4d7c-a384-6714928ce76d')\"\n",
              "              title=\"Convert this dataframe to an interactive table.\"\n",
              "              style=\"display:none;\">\n",
              "        \n",
              "  <svg xmlns=\"http://www.w3.org/2000/svg\" height=\"24px\"viewBox=\"0 0 24 24\"\n",
              "       width=\"24px\">\n",
              "    <path d=\"M0 0h24v24H0V0z\" fill=\"none\"/>\n",
              "    <path d=\"M18.56 5.44l.94 2.06.94-2.06 2.06-.94-2.06-.94-.94-2.06-.94 2.06-2.06.94zm-11 1L8.5 8.5l.94-2.06 2.06-.94-2.06-.94L8.5 2.5l-.94 2.06-2.06.94zm10 10l.94 2.06.94-2.06 2.06-.94-2.06-.94-.94-2.06-.94 2.06-2.06.94z\"/><path d=\"M17.41 7.96l-1.37-1.37c-.4-.4-.92-.59-1.43-.59-.52 0-1.04.2-1.43.59L10.3 9.45l-7.72 7.72c-.78.78-.78 2.05 0 2.83L4 21.41c.39.39.9.59 1.41.59.51 0 1.02-.2 1.41-.59l7.78-7.78 2.81-2.81c.8-.78.8-2.07 0-2.86zM5.41 20L4 18.59l7.72-7.72 1.47 1.35L5.41 20z\"/>\n",
              "  </svg>\n",
              "      </button>\n",
              "      \n",
              "  <style>\n",
              "    .colab-df-container {\n",
              "      display:flex;\n",
              "      flex-wrap:wrap;\n",
              "      gap: 12px;\n",
              "    }\n",
              "\n",
              "    .colab-df-convert {\n",
              "      background-color: #E8F0FE;\n",
              "      border: none;\n",
              "      border-radius: 50%;\n",
              "      cursor: pointer;\n",
              "      display: none;\n",
              "      fill: #1967D2;\n",
              "      height: 32px;\n",
              "      padding: 0 0 0 0;\n",
              "      width: 32px;\n",
              "    }\n",
              "\n",
              "    .colab-df-convert:hover {\n",
              "      background-color: #E2EBFA;\n",
              "      box-shadow: 0px 1px 2px rgba(60, 64, 67, 0.3), 0px 1px 3px 1px rgba(60, 64, 67, 0.15);\n",
              "      fill: #174EA6;\n",
              "    }\n",
              "\n",
              "    [theme=dark] .colab-df-convert {\n",
              "      background-color: #3B4455;\n",
              "      fill: #D2E3FC;\n",
              "    }\n",
              "\n",
              "    [theme=dark] .colab-df-convert:hover {\n",
              "      background-color: #434B5C;\n",
              "      box-shadow: 0px 1px 3px 1px rgba(0, 0, 0, 0.15);\n",
              "      filter: drop-shadow(0px 1px 2px rgba(0, 0, 0, 0.3));\n",
              "      fill: #FFFFFF;\n",
              "    }\n",
              "  </style>\n",
              "\n",
              "      <script>\n",
              "        const buttonEl =\n",
              "          document.querySelector('#df-9b97c948-e550-4d7c-a384-6714928ce76d button.colab-df-convert');\n",
              "        buttonEl.style.display =\n",
              "          google.colab.kernel.accessAllowed ? 'block' : 'none';\n",
              "\n",
              "        async function convertToInteractive(key) {\n",
              "          const element = document.querySelector('#df-9b97c948-e550-4d7c-a384-6714928ce76d');\n",
              "          const dataTable =\n",
              "            await google.colab.kernel.invokeFunction('convertToInteractive',\n",
              "                                                     [key], {});\n",
              "          if (!dataTable) return;\n",
              "\n",
              "          const docLinkHtml = 'Like what you see? Visit the ' +\n",
              "            '<a target=\"_blank\" href=https://colab.research.google.com/notebooks/data_table.ipynb>data table notebook</a>'\n",
              "            + ' to learn more about interactive tables.';\n",
              "          element.innerHTML = '';\n",
              "          dataTable['output_type'] = 'display_data';\n",
              "          await google.colab.output.renderOutput(dataTable, element);\n",
              "          const docLink = document.createElement('div');\n",
              "          docLink.innerHTML = docLinkHtml;\n",
              "          element.appendChild(docLink);\n",
              "        }\n",
              "      </script>\n",
              "    </div>\n",
              "  </div>\n",
              "  "
            ]
          },
          "metadata": {},
          "execution_count": 25
        }
      ],
      "source": [
        "total_df.head()"
      ]
    },
    {
      "cell_type": "markdown",
      "id": "f2c1aba7",
      "metadata": {
        "id": "f2c1aba7"
      },
      "source": [
        "### Let's see if Additional Info has any effect on price"
      ]
    },
    {
      "cell_type": "code",
      "execution_count": 26,
      "id": "bd294f7b",
      "metadata": {
        "id": "bd294f7b",
        "colab": {
          "base_uri": "https://localhost:8080/"
        },
        "outputId": "5c172f67-cb27-448c-85a7-1ccdb51e33df"
      },
      "outputs": [
        {
          "output_type": "execute_result",
          "data": {
            "text/plain": [
              "No info                         10493\n",
              "In-flight meal not included      2426\n",
              "No check-in baggage included      396\n",
              "1 Long layover                     20\n",
              "Change airports                     8\n",
              "Business class                      5\n",
              "No Info                             3\n",
              "1 Short layover                     1\n",
              "Red-eye flight                      1\n",
              "2 Long layover                      1\n",
              "Name: Additional_Info, dtype: int64"
            ]
          },
          "metadata": {},
          "execution_count": 26
        }
      ],
      "source": [
        "total_df['Additional_Info'].value_counts()"
      ]
    },
    {
      "cell_type": "code",
      "execution_count": 27,
      "id": "03cc9780",
      "metadata": {
        "id": "03cc9780",
        "colab": {
          "base_uri": "https://localhost:8080/",
          "height": 458
        },
        "outputId": "a228a348-d9a9-420d-eced-75c0fc9edb01"
      },
      "outputs": [
        {
          "output_type": "execute_result",
          "data": {
            "text/plain": [
              "<function matplotlib.pyplot.show(*args, **kw)>"
            ]
          },
          "metadata": {},
          "execution_count": 27
        },
        {
          "output_type": "display_data",
          "data": {
            "text/plain": [
              "<Figure size 1296x432 with 1 Axes>"
            ],
            "image/png": "[encoded data removed]"
          },
          "metadata": {
            "needs_background": "light"
          }
        }
      ],
      "source": [
        "sns.catplot(y='Price',x='Additional_Info',data= df.sort_values('Price',ascending=False),kind=\"boxen\",height=6, aspect=3)\n",
        "plt.show"
      ]
    },
    {
      "cell_type": "markdown",
      "id": "89e35256",
      "metadata": {
        "id": "89e35256"
      },
      "source": [
        "### Filtering the Arrival Time"
      ]
    },
    {
      "cell_type": "code",
      "execution_count": 28,
      "id": "c17ebd9e",
      "metadata": {
        "id": "c17ebd9e"
      },
      "outputs": [],
      "source": [
        "total_df['Arrival_Time']=total_df['Arrival_Time'].str.split(' ').str[0]"
      ]
    },
    {
      "cell_type": "code",
      "execution_count": 29,
      "id": "1db38991",
      "metadata": {
        "id": "1db38991",
        "colab": {
          "base_uri": "https://localhost:8080/",
          "height": 206
        },
        "outputId": "06bbf218-d440-429e-b86c-e4cb351afe83"
      },
      "outputs": [
        {
          "output_type": "execute_result",
          "data": {
            "text/plain": [
              "       Airline    Source Destination                  Route Dep_Time  \\\n",
              "0       IndiGo  Banglore   New Delhi              BLR → DEL    22:20   \n",
              "1    Air India   Kolkata    Banglore  CCU → IXR → BBI → BLR    05:50   \n",
              "2  Jet Airways     Delhi      Cochin  DEL → LKO → BOM → COK    09:25   \n",
              "3       IndiGo   Kolkata    Banglore        CCU → NAG → BLR    18:05   \n",
              "4       IndiGo  Banglore   New Delhi        BLR → NAG → DEL    16:50   \n",
              "\n",
              "  Arrival_Time Duration Total_Stops Additional_Info    Price  Date  Month  \\\n",
              "0        01:10   2h 50m    non-stop         No info   3897.0    24      3   \n",
              "1        13:15   7h 25m     2 stops         No info   7662.0     1      5   \n",
              "2        04:25      19h     2 stops         No info  13882.0     9      6   \n",
              "3        23:30   5h 25m      1 stop         No info   6218.0    12      5   \n",
              "4        21:35   4h 45m      1 stop         No info  13302.0     1      3   \n",
              "\n",
              "   Year  \n",
              "0  2019  \n",
              "1  2019  \n",
              "2  2019  \n",
              "3  2019  \n",
              "4  2019  "
            ],
            "text/html": [
              "\n",
              "  <div id=\"df-bf514fc1-37ad-4d42-bb17-554f3c7093df\">\n",
              "    <div class=\"colab-df-container\">\n",
              "      <div>\n",
              "<style scoped>\n",
              "    .dataframe tbody tr th:only-of-type {\n",
              "        vertical-align: middle;\n",
              "    }\n",
              "\n",
              "    .dataframe tbody tr th {\n",
              "        vertical-align: top;\n",
              "    }\n",
              "\n",
              "    .dataframe thead th {\n",
              "        text-align: right;\n",
              "    }\n",
              "</style>\n",
              "<table border=\"1\" class=\"dataframe\">\n",
              "  <thead>\n",
              "    <tr style=\"text-align: right;\">\n",
              "      <th></th>\n",
              "      <th>Airline</th>\n",
              "      <th>Source</th>\n",
              "      <th>Destination</th>\n",
              "      <th>Route</th>\n",
              "      <th>Dep_Time</th>\n",
              "      <th>Arrival_Time</th>\n",
              "      <th>Duration</th>\n",
              "      <th>Total_Stops</th>\n",
              "      <th>Additional_Info</th>\n",
              "      <th>Price</th>\n",
              "      <th>Date</th>\n",
              "      <th>Month</th>\n",
              "      <th>Year</th>\n",
              "    </tr>\n",
              "  </thead>\n",
              "  <tbody>\n",
              "    <tr>\n",
              "      <th>0</th>\n",
              "      <td>IndiGo</td>\n",
              "      <td>Banglore</td>\n",
              "      <td>New Delhi</td>\n",
              "      <td>BLR → DEL</td>\n",
              "      <td>22:20</td>\n",
              "      <td>01:10</td>\n",
              "      <td>2h 50m</td>\n",
              "      <td>non-stop</td>\n",
              "      <td>No info</td>\n",
              "      <td>3897.0</td>\n",
              "      <td>24</td>\n",
              "      <td>3</td>\n",
              "      <td>2019</td>\n",
              "    </tr>\n",
              "    <tr>\n",
              "      <th>1</th>\n",
              "      <td>Air India</td>\n",
              "      <td>Kolkata</td>\n",
              "      <td>Banglore</td>\n",
              "      <td>CCU → IXR → BBI → BLR</td>\n",
              "      <td>05:50</td>\n",
              "      <td>13:15</td>\n",
              "      <td>7h 25m</td>\n",
              "      <td>2 stops</td>\n",
              "      <td>No info</td>\n",
              "      <td>7662.0</td>\n",
              "      <td>1</td>\n",
              "      <td>5</td>\n",
              "      <td>2019</td>\n",
              "    </tr>\n",
              "    <tr>\n",
              "      <th>2</th>\n",
              "      <td>Jet Airways</td>\n",
              "      <td>Delhi</td>\n",
              "      <td>Cochin</td>\n",
              "      <td>DEL → LKO → BOM → COK</td>\n",
              "      <td>09:25</td>\n",
              "      <td>04:25</td>\n",
              "      <td>19h</td>\n",
              "      <td>2 stops</td>\n",
              "      <td>No info</td>\n",
              "      <td>13882.0</td>\n",
              "      <td>9</td>\n",
              "      <td>6</td>\n",
              "      <td>2019</td>\n",
              "    </tr>\n",
              "    <tr>\n",
              "      <th>3</th>\n",
              "      <td>IndiGo</td>\n",
              "      <td>Kolkata</td>\n",
              "      <td>Banglore</td>\n",
              "      <td>CCU → NAG → BLR</td>\n",
              "      <td>18:05</td>\n",
              "      <td>23:30</td>\n",
              "      <td>5h 25m</td>\n",
              "      <td>1 stop</td>\n",
              "      <td>No info</td>\n",
              "      <td>6218.0</td>\n",
              "      <td>12</td>\n",
              "      <td>5</td>\n",
              "      <td>2019</td>\n",
              "    </tr>\n",
              "    <tr>\n",
              "      <th>4</th>\n",
              "      <td>IndiGo</td>\n",
              "      <td>Banglore</td>\n",
              "      <td>New Delhi</td>\n",
              "      <td>BLR → NAG → DEL</td>\n",
              "      <td>16:50</td>\n",
              "      <td>21:35</td>\n",
              "      <td>4h 45m</td>\n",
              "      <td>1 stop</td>\n",
              "      <td>No info</td>\n",
              "      <td>13302.0</td>\n",
              "      <td>1</td>\n",
              "      <td>3</td>\n",
              "      <td>2019</td>\n",
              "    </tr>\n",
              "  </tbody>\n",
              "</table>\n",
              "</div>\n",
              "      <button class=\"colab-df-convert\" onclick=\"convertToInteractive('df-bf514fc1-37ad-4d42-bb17-554f3c7093df')\"\n",
              "              title=\"Convert this dataframe to an interactive table.\"\n",
              "              style=\"display:none;\">\n",
              "        \n",
              "  <svg xmlns=\"http://www.w3.org/2000/svg\" height=\"24px\"viewBox=\"0 0 24 24\"\n",
              "       width=\"24px\">\n",
              "    <path d=\"M0 0h24v24H0V0z\" fill=\"none\"/>\n",
              "    <path d=\"M18.56 5.44l.94 2.06.94-2.06 2.06-.94-2.06-.94-.94-2.06-.94 2.06-2.06.94zm-11 1L8.5 8.5l.94-2.06 2.06-.94-2.06-.94L8.5 2.5l-.94 2.06-2.06.94zm10 10l.94 2.06.94-2.06 2.06-.94-2.06-.94-.94-2.06-.94 2.06-2.06.94z\"/><path d=\"M17.41 7.96l-1.37-1.37c-.4-.4-.92-.59-1.43-.59-.52 0-1.04.2-1.43.59L10.3 9.45l-7.72 7.72c-.78.78-.78 2.05 0 2.83L4 21.41c.39.39.9.59 1.41.59.51 0 1.02-.2 1.41-.59l7.78-7.78 2.81-2.81c.8-.78.8-2.07 0-2.86zM5.41 20L4 18.59l7.72-7.72 1.47 1.35L5.41 20z\"/>\n",
              "  </svg>\n",
              "      </button>\n",
              "      \n",
              "  <style>\n",
              "    .colab-df-container {\n",
              "      display:flex;\n",
              "      flex-wrap:wrap;\n",
              "      gap: 12px;\n",
              "    }\n",
              "\n",
              "    .colab-df-convert {\n",
              "      background-color: #E8F0FE;\n",
              "      border: none;\n",
              "      border-radius: 50%;\n",
              "      cursor: pointer;\n",
              "      display: none;\n",
              "      fill: #1967D2;\n",
              "      height: 32px;\n",
              "      padding: 0 0 0 0;\n",
              "      width: 32px;\n",
              "    }\n",
              "\n",
              "    .colab-df-convert:hover {\n",
              "      background-color: #E2EBFA;\n",
              "      box-shadow: 0px 1px 2px rgba(60, 64, 67, 0.3), 0px 1px 3px 1px rgba(60, 64, 67, 0.15);\n",
              "      fill: #174EA6;\n",
              "    }\n",
              "\n",
              "    [theme=dark] .colab-df-convert {\n",
              "      background-color: #3B4455;\n",
              "      fill: #D2E3FC;\n",
              "    }\n",
              "\n",
              "    [theme=dark] .colab-df-convert:hover {\n",
              "      background-color: #434B5C;\n",
              "      box-shadow: 0px 1px 3px 1px rgba(0, 0, 0, 0.15);\n",
              "      filter: drop-shadow(0px 1px 2px rgba(0, 0, 0, 0.3));\n",
              "      fill: #FFFFFF;\n",
              "    }\n",
              "  </style>\n",
              "\n",
              "      <script>\n",
              "        const buttonEl =\n",
              "          document.querySelector('#df-bf514fc1-37ad-4d42-bb17-554f3c7093df button.colab-df-convert');\n",
              "        buttonEl.style.display =\n",
              "          google.colab.kernel.accessAllowed ? 'block' : 'none';\n",
              "\n",
              "        async function convertToInteractive(key) {\n",
              "          const element = document.querySelector('#df-bf514fc1-37ad-4d42-bb17-554f3c7093df');\n",
              "          const dataTable =\n",
              "            await google.colab.kernel.invokeFunction('convertToInteractive',\n",
              "                                                     [key], {});\n",
              "          if (!dataTable) return;\n",
              "\n",
              "          const docLinkHtml = 'Like what you see? Visit the ' +\n",
              "            '<a target=\"_blank\" href=https://colab.research.google.com/notebooks/data_table.ipynb>data table notebook</a>'\n",
              "            + ' to learn more about interactive tables.';\n",
              "          element.innerHTML = '';\n",
              "          dataTable['output_type'] = 'display_data';\n",
              "          await google.colab.output.renderOutput(dataTable, element);\n",
              "          const docLink = document.createElement('div');\n",
              "          docLink.innerHTML = docLinkHtml;\n",
              "          element.appendChild(docLink);\n",
              "        }\n",
              "      </script>\n",
              "    </div>\n",
              "  </div>\n",
              "  "
            ]
          },
          "metadata": {},
          "execution_count": 29
        }
      ],
      "source": [
        "total_df.head()"
      ]
    },
    {
      "cell_type": "markdown",
      "id": "b0fbb2a2",
      "metadata": {
        "id": "b0fbb2a2"
      },
      "source": [
        "### Let's anlyse our Stop coloumn"
      ]
    },
    {
      "cell_type": "code",
      "execution_count": 30,
      "id": "b2a4f88b",
      "metadata": {
        "id": "b2a4f88b",
        "colab": {
          "base_uri": "https://localhost:8080/"
        },
        "outputId": "8f3bb4c9-8409-4ae9-c852-2d404accfa9a"
      },
      "outputs": [
        {
          "output_type": "execute_result",
          "data": {
            "text/plain": [
              "1 stop      7056\n",
              "non-stop    4340\n",
              "2 stops     1899\n",
              "3 stops       56\n",
              "4 stops        2\n",
              "Name: Total_Stops, dtype: int64"
            ]
          },
          "metadata": {},
          "execution_count": 30
        }
      ],
      "source": [
        "total_df['Total_Stops'].value_counts()"
      ]
    },
    {
      "cell_type": "code",
      "execution_count": 31,
      "id": "dd64da25",
      "metadata": {
        "id": "dd64da25"
      },
      "outputs": [],
      "source": [
        "total_df['Total_Stops']=total_df['Total_Stops'].fillna('1 stop')"
      ]
    },
    {
      "cell_type": "code",
      "execution_count": 32,
      "id": "4ae59ad9",
      "metadata": {
        "id": "4ae59ad9",
        "colab": {
          "base_uri": "https://localhost:8080/"
        },
        "outputId": "9320225f-4435-48b9-bee0-4a143876dfb7"
      },
      "outputs": [
        {
          "output_type": "execute_result",
          "data": {
            "text/plain": [
              "0"
            ]
          },
          "metadata": {},
          "execution_count": 32
        }
      ],
      "source": [
        "total_df['Total_Stops'].isnull().sum()"
      ]
    },
    {
      "cell_type": "markdown",
      "id": "86884b6e",
      "metadata": {
        "id": "86884b6e"
      },
      "source": [
        "### Let us make the Stop column numeric"
      ]
    },
    {
      "cell_type": "code",
      "execution_count": 33,
      "id": "951f9a5e",
      "metadata": {
        "id": "951f9a5e"
      },
      "outputs": [],
      "source": [
        "total_df['Total_Stops']=total_df['Total_Stops'].replace('non-stop','0 stop')"
      ]
    },
    {
      "cell_type": "code",
      "execution_count": 34,
      "id": "ce044a5a",
      "metadata": {
        "id": "ce044a5a",
        "colab": {
          "base_uri": "https://localhost:8080/",
          "height": 206
        },
        "outputId": "8d87bc6c-fe93-4c05-ab0d-206d50409435"
      },
      "outputs": [
        {
          "output_type": "execute_result",
          "data": {
            "text/plain": [
              "       Airline    Source Destination                  Route Dep_Time  \\\n",
              "0       IndiGo  Banglore   New Delhi              BLR → DEL    22:20   \n",
              "1    Air India   Kolkata    Banglore  CCU → IXR → BBI → BLR    05:50   \n",
              "2  Jet Airways     Delhi      Cochin  DEL → LKO → BOM → COK    09:25   \n",
              "3       IndiGo   Kolkata    Banglore        CCU → NAG → BLR    18:05   \n",
              "4       IndiGo  Banglore   New Delhi        BLR → NAG → DEL    16:50   \n",
              "\n",
              "  Arrival_Time Duration Total_Stops Additional_Info    Price  Date  Month  \\\n",
              "0        01:10   2h 50m      0 stop         No info   3897.0    24      3   \n",
              "1        13:15   7h 25m     2 stops         No info   7662.0     1      5   \n",
              "2        04:25      19h     2 stops         No info  13882.0     9      6   \n",
              "3        23:30   5h 25m      1 stop         No info   6218.0    12      5   \n",
              "4        21:35   4h 45m      1 stop         No info  13302.0     1      3   \n",
              "\n",
              "   Year  \n",
              "0  2019  \n",
              "1  2019  \n",
              "2  2019  \n",
              "3  2019  \n",
              "4  2019  "
            ],
            "text/html": [
              "\n",
              "  <div id=\"df-a42a5b1f-b0c7-4f83-ab78-db27faa374ce\">\n",
              "    <div class=\"colab-df-container\">\n",
              "      <div>\n",
              "<style scoped>\n",
              "    .dataframe tbody tr th:only-of-type {\n",
              "        vertical-align: middle;\n",
              "    }\n",
              "\n",
              "    .dataframe tbody tr th {\n",
              "        vertical-align: top;\n",
              "    }\n",
              "\n",
              "    .dataframe thead th {\n",
              "        text-align: right;\n",
              "    }\n",
              "</style>\n",
              "<table border=\"1\" class=\"dataframe\">\n",
              "  <thead>\n",
              "    <tr style=\"text-align: right;\">\n",
              "      <th></th>\n",
              "      <th>Airline</th>\n",
              "      <th>Source</th>\n",
              "      <th>Destination</th>\n",
              "      <th>Route</th>\n",
              "      <th>Dep_Time</th>\n",
              "      <th>Arrival_Time</th>\n",
              "      <th>Duration</th>\n",
              "      <th>Total_Stops</th>\n",
              "      <th>Additional_Info</th>\n",
              "      <th>Price</th>\n",
              "      <th>Date</th>\n",
              "      <th>Month</th>\n",
              "      <th>Year</th>\n",
              "    </tr>\n",
              "  </thead>\n",
              "  <tbody>\n",
              "    <tr>\n",
              "      <th>0</th>\n",
              "      <td>IndiGo</td>\n",
              "      <td>Banglore</td>\n",
              "      <td>New Delhi</td>\n",
              "      <td>BLR → DEL</td>\n",
              "      <td>22:20</td>\n",
              "      <td>01:10</td>\n",
              "      <td>2h 50m</td>\n",
              "      <td>0 stop</td>\n",
              "      <td>No info</td>\n",
              "      <td>3897.0</td>\n",
              "      <td>24</td>\n",
              "      <td>3</td>\n",
              "      <td>2019</td>\n",
              "    </tr>\n",
              "    <tr>\n",
              "      <th>1</th>\n",
              "      <td>Air India</td>\n",
              "      <td>Kolkata</td>\n",
              "      <td>Banglore</td>\n",
              "      <td>CCU → IXR → BBI → BLR</td>\n",
              "      <td>05:50</td>\n",
              "      <td>13:15</td>\n",
              "      <td>7h 25m</td>\n",
              "      <td>2 stops</td>\n",
              "      <td>No info</td>\n",
              "      <td>7662.0</td>\n",
              "      <td>1</td>\n",
              "      <td>5</td>\n",
              "      <td>2019</td>\n",
              "    </tr>\n",
              "    <tr>\n",
              "      <th>2</th>\n",
              "      <td>Jet Airways</td>\n",
              "      <td>Delhi</td>\n",
              "      <td>Cochin</td>\n",
              "      <td>DEL → LKO → BOM → COK</td>\n",
              "      <td>09:25</td>\n",
              "      <td>04:25</td>\n",
              "      <td>19h</td>\n",
              "      <td>2 stops</td>\n",
              "      <td>No info</td>\n",
              "      <td>13882.0</td>\n",
              "      <td>9</td>\n",
              "      <td>6</td>\n",
              "      <td>2019</td>\n",
              "    </tr>\n",
              "    <tr>\n",
              "      <th>3</th>\n",
              "      <td>IndiGo</td>\n",
              "      <td>Kolkata</td>\n",
              "      <td>Banglore</td>\n",
              "      <td>CCU → NAG → BLR</td>\n",
              "      <td>18:05</td>\n",
              "      <td>23:30</td>\n",
              "      <td>5h 25m</td>\n",
              "      <td>1 stop</td>\n",
              "      <td>No info</td>\n",
              "      <td>6218.0</td>\n",
              "      <td>12</td>\n",
              "      <td>5</td>\n",
              "      <td>2019</td>\n",
              "    </tr>\n",
              "    <tr>\n",
              "      <th>4</th>\n",
              "      <td>IndiGo</td>\n",
              "      <td>Banglore</td>\n",
              "      <td>New Delhi</td>\n",
              "      <td>BLR → NAG → DEL</td>\n",
              "      <td>16:50</td>\n",
              "      <td>21:35</td>\n",
              "      <td>4h 45m</td>\n",
              "      <td>1 stop</td>\n",
              "      <td>No info</td>\n",
              "      <td>13302.0</td>\n",
              "      <td>1</td>\n",
              "      <td>3</td>\n",
              "      <td>2019</td>\n",
              "    </tr>\n",
              "  </tbody>\n",
              "</table>\n",
              "</div>\n",
              "      <button class=\"colab-df-convert\" onclick=\"convertToInteractive('df-a42a5b1f-b0c7-4f83-ab78-db27faa374ce')\"\n",
              "              title=\"Convert this dataframe to an interactive table.\"\n",
              "              style=\"display:none;\">\n",
              "        \n",
              "  <svg xmlns=\"http://www.w3.org/2000/svg\" height=\"24px\"viewBox=\"0 0 24 24\"\n",
              "       width=\"24px\">\n",
              "    <path d=\"M0 0h24v24H0V0z\" fill=\"none\"/>\n",
              "    <path d=\"M18.56 5.44l.94 2.06.94-2.06 2.06-.94-2.06-.94-.94-2.06-.94 2.06-2.06.94zm-11 1L8.5 8.5l.94-2.06 2.06-.94-2.06-.94L8.5 2.5l-.94 2.06-2.06.94zm10 10l.94 2.06.94-2.06 2.06-.94-2.06-.94-.94-2.06-.94 2.06-2.06.94z\"/><path d=\"M17.41 7.96l-1.37-1.37c-.4-.4-.92-.59-1.43-.59-.52 0-1.04.2-1.43.59L10.3 9.45l-7.72 7.72c-.78.78-.78 2.05 0 2.83L4 21.41c.39.39.9.59 1.41.59.51 0 1.02-.2 1.41-.59l7.78-7.78 2.81-2.81c.8-.78.8-2.07 0-2.86zM5.41 20L4 18.59l7.72-7.72 1.47 1.35L5.41 20z\"/>\n",
              "  </svg>\n",
              "      </button>\n",
              "      \n",
              "  <style>\n",
              "    .colab-df-container {\n",
              "      display:flex;\n",
              "      flex-wrap:wrap;\n",
              "      gap: 12px;\n",
              "    }\n",
              "\n",
              "    .colab-df-convert {\n",
              "      background-color: #E8F0FE;\n",
              "      border: none;\n",
              "      border-radius: 50%;\n",
              "      cursor: pointer;\n",
              "      display: none;\n",
              "      fill: #1967D2;\n",
              "      height: 32px;\n",
              "      padding: 0 0 0 0;\n",
              "      width: 32px;\n",
              "    }\n",
              "\n",
              "    .colab-df-convert:hover {\n",
              "      background-color: #E2EBFA;\n",
              "      box-shadow: 0px 1px 2px rgba(60, 64, 67, 0.3), 0px 1px 3px 1px rgba(60, 64, 67, 0.15);\n",
              "      fill: #174EA6;\n",
              "    }\n",
              "\n",
              "    [theme=dark] .colab-df-convert {\n",
              "      background-color: #3B4455;\n",
              "      fill: #D2E3FC;\n",
              "    }\n",
              "\n",
              "    [theme=dark] .colab-df-convert:hover {\n",
              "      background-color: #434B5C;\n",
              "      box-shadow: 0px 1px 3px 1px rgba(0, 0, 0, 0.15);\n",
              "      filter: drop-shadow(0px 1px 2px rgba(0, 0, 0, 0.3));\n",
              "      fill: #FFFFFF;\n",
              "    }\n",
              "  </style>\n",
              "\n",
              "      <script>\n",
              "        const buttonEl =\n",
              "          document.querySelector('#df-a42a5b1f-b0c7-4f83-ab78-db27faa374ce button.colab-df-convert');\n",
              "        buttonEl.style.display =\n",
              "          google.colab.kernel.accessAllowed ? 'block' : 'none';\n",
              "\n",
              "        async function convertToInteractive(key) {\n",
              "          const element = document.querySelector('#df-a42a5b1f-b0c7-4f83-ab78-db27faa374ce');\n",
              "          const dataTable =\n",
              "            await google.colab.kernel.invokeFunction('convertToInteractive',\n",
              "                                                     [key], {});\n",
              "          if (!dataTable) return;\n",
              "\n",
              "          const docLinkHtml = 'Like what you see? Visit the ' +\n",
              "            '<a target=\"_blank\" href=https://colab.research.google.com/notebooks/data_table.ipynb>data table notebook</a>'\n",
              "            + ' to learn more about interactive tables.';\n",
              "          element.innerHTML = '';\n",
              "          dataTable['output_type'] = 'display_data';\n",
              "          await google.colab.output.renderOutput(dataTable, element);\n",
              "          const docLink = document.createElement('div');\n",
              "          docLink.innerHTML = docLinkHtml;\n",
              "          element.appendChild(docLink);\n",
              "        }\n",
              "      </script>\n",
              "    </div>\n",
              "  </div>\n",
              "  "
            ]
          },
          "metadata": {},
          "execution_count": 34
        }
      ],
      "source": [
        "total_df.head()"
      ]
    },
    {
      "cell_type": "code",
      "execution_count": 35,
      "id": "f3a42ce8",
      "metadata": {
        "id": "f3a42ce8"
      },
      "outputs": [],
      "source": [
        "total_df['Stop'] = total_df['Total_Stops'].str.split(' ').str[0]"
      ]
    },
    {
      "cell_type": "code",
      "execution_count": 36,
      "id": "9c5cea6f",
      "metadata": {
        "id": "9c5cea6f",
        "colab": {
          "base_uri": "https://localhost:8080/",
          "height": 206
        },
        "outputId": "38cf96da-a75b-464e-83bc-5e082137232f"
      },
      "outputs": [
        {
          "output_type": "execute_result",
          "data": {
            "text/plain": [
              "       Airline    Source Destination                  Route Dep_Time  \\\n",
              "0       IndiGo  Banglore   New Delhi              BLR → DEL    22:20   \n",
              "1    Air India   Kolkata    Banglore  CCU → IXR → BBI → BLR    05:50   \n",
              "2  Jet Airways     Delhi      Cochin  DEL → LKO → BOM → COK    09:25   \n",
              "3       IndiGo   Kolkata    Banglore        CCU → NAG → BLR    18:05   \n",
              "4       IndiGo  Banglore   New Delhi        BLR → NAG → DEL    16:50   \n",
              "\n",
              "  Arrival_Time Duration Total_Stops Additional_Info    Price  Date  Month  \\\n",
              "0        01:10   2h 50m      0 stop         No info   3897.0    24      3   \n",
              "1        13:15   7h 25m     2 stops         No info   7662.0     1      5   \n",
              "2        04:25      19h     2 stops         No info  13882.0     9      6   \n",
              "3        23:30   5h 25m      1 stop         No info   6218.0    12      5   \n",
              "4        21:35   4h 45m      1 stop         No info  13302.0     1      3   \n",
              "\n",
              "   Year Stop  \n",
              "0  2019    0  \n",
              "1  2019    2  \n",
              "2  2019    2  \n",
              "3  2019    1  \n",
              "4  2019    1  "
            ],
            "text/html": [
              "\n",
              "  <div id=\"df-b8b6905c-473d-4060-b5f2-1e14871f2906\">\n",
              "    <div class=\"colab-df-container\">\n",
              "      <div>\n",
              "<style scoped>\n",
              "    .dataframe tbody tr th:only-of-type {\n",
              "        vertical-align: middle;\n",
              "    }\n",
              "\n",
              "    .dataframe tbody tr th {\n",
              "        vertical-align: top;\n",
              "    }\n",
              "\n",
              "    .dataframe thead th {\n",
              "        text-align: right;\n",
              "    }\n",
              "</style>\n",
              "<table border=\"1\" class=\"dataframe\">\n",
              "  <thead>\n",
              "    <tr style=\"text-align: right;\">\n",
              "      <th></th>\n",
              "      <th>Airline</th>\n",
              "      <th>Source</th>\n",
              "      <th>Destination</th>\n",
              "      <th>Route</th>\n",
              "      <th>Dep_Time</th>\n",
              "      <th>Arrival_Time</th>\n",
              "      <th>Duration</th>\n",
              "      <th>Total_Stops</th>\n",
              "      <th>Additional_Info</th>\n",
              "      <th>Price</th>\n",
              "      <th>Date</th>\n",
              "      <th>Month</th>\n",
              "      <th>Year</th>\n",
              "      <th>Stop</th>\n",
              "    </tr>\n",
              "  </thead>\n",
              "  <tbody>\n",
              "    <tr>\n",
              "      <th>0</th>\n",
              "      <td>IndiGo</td>\n",
              "      <td>Banglore</td>\n",
              "      <td>New Delhi</td>\n",
              "      <td>BLR → DEL</td>\n",
              "      <td>22:20</td>\n",
              "      <td>01:10</td>\n",
              "      <td>2h 50m</td>\n",
              "      <td>0 stop</td>\n",
              "      <td>No info</td>\n",
              "      <td>3897.0</td>\n",
              "      <td>24</td>\n",
              "      <td>3</td>\n",
              "      <td>2019</td>\n",
              "      <td>0</td>\n",
              "    </tr>\n",
              "    <tr>\n",
              "      <th>1</th>\n",
              "      <td>Air India</td>\n",
              "      <td>Kolkata</td>\n",
              "      <td>Banglore</td>\n",
              "      <td>CCU → IXR → BBI → BLR</td>\n",
              "      <td>05:50</td>\n",
              "      <td>13:15</td>\n",
              "      <td>7h 25m</td>\n",
              "      <td>2 stops</td>\n",
              "      <td>No info</td>\n",
              "      <td>7662.0</td>\n",
              "      <td>1</td>\n",
              "      <td>5</td>\n",
              "      <td>2019</td>\n",
              "      <td>2</td>\n",
              "    </tr>\n",
              "    <tr>\n",
              "      <th>2</th>\n",
              "      <td>Jet Airways</td>\n",
              "      <td>Delhi</td>\n",
              "      <td>Cochin</td>\n",
              "      <td>DEL → LKO → BOM → COK</td>\n",
              "      <td>09:25</td>\n",
              "      <td>04:25</td>\n",
              "      <td>19h</td>\n",
              "      <td>2 stops</td>\n",
              "      <td>No info</td>\n",
              "      <td>13882.0</td>\n",
              "      <td>9</td>\n",
              "      <td>6</td>\n",
              "      <td>2019</td>\n",
              "      <td>2</td>\n",
              "    </tr>\n",
              "    <tr>\n",
              "      <th>3</th>\n",
              "      <td>IndiGo</td>\n",
              "      <td>Kolkata</td>\n",
              "      <td>Banglore</td>\n",
              "      <td>CCU → NAG → BLR</td>\n",
              "      <td>18:05</td>\n",
              "      <td>23:30</td>\n",
              "      <td>5h 25m</td>\n",
              "      <td>1 stop</td>\n",
              "      <td>No info</td>\n",
              "      <td>6218.0</td>\n",
              "      <td>12</td>\n",
              "      <td>5</td>\n",
              "      <td>2019</td>\n",
              "      <td>1</td>\n",
              "    </tr>\n",
              "    <tr>\n",
              "      <th>4</th>\n",
              "      <td>IndiGo</td>\n",
              "      <td>Banglore</td>\n",
              "      <td>New Delhi</td>\n",
              "      <td>BLR → NAG → DEL</td>\n",
              "      <td>16:50</td>\n",
              "      <td>21:35</td>\n",
              "      <td>4h 45m</td>\n",
              "      <td>1 stop</td>\n",
              "      <td>No info</td>\n",
              "      <td>13302.0</td>\n",
              "      <td>1</td>\n",
              "      <td>3</td>\n",
              "      <td>2019</td>\n",
              "      <td>1</td>\n",
              "    </tr>\n",
              "  </tbody>\n",
              "</table>\n",
              "</div>\n",
              "      <button class=\"colab-df-convert\" onclick=\"convertToInteractive('df-b8b6905c-473d-4060-b5f2-1e14871f2906')\"\n",
              "              title=\"Convert this dataframe to an interactive table.\"\n",
              "              style=\"display:none;\">\n",
              "        \n",
              "  <svg xmlns=\"http://www.w3.org/2000/svg\" height=\"24px\"viewBox=\"0 0 24 24\"\n",
              "       width=\"24px\">\n",
              "    <path d=\"M0 0h24v24H0V0z\" fill=\"none\"/>\n",
              "    <path d=\"M18.56 5.44l.94 2.06.94-2.06 2.06-.94-2.06-.94-.94-2.06-.94 2.06-2.06.94zm-11 1L8.5 8.5l.94-2.06 2.06-.94-2.06-.94L8.5 2.5l-.94 2.06-2.06.94zm10 10l.94 2.06.94-2.06 2.06-.94-2.06-.94-.94-2.06-.94 2.06-2.06.94z\"/><path d=\"M17.41 7.96l-1.37-1.37c-.4-.4-.92-.59-1.43-.59-.52 0-1.04.2-1.43.59L10.3 9.45l-7.72 7.72c-.78.78-.78 2.05 0 2.83L4 21.41c.39.39.9.59 1.41.59.51 0 1.02-.2 1.41-.59l7.78-7.78 2.81-2.81c.8-.78.8-2.07 0-2.86zM5.41 20L4 18.59l7.72-7.72 1.47 1.35L5.41 20z\"/>\n",
              "  </svg>\n",
              "      </button>\n",
              "      \n",
              "  <style>\n",
              "    .colab-df-container {\n",
              "      display:flex;\n",
              "      flex-wrap:wrap;\n",
              "      gap: 12px;\n",
              "    }\n",
              "\n",
              "    .colab-df-convert {\n",
              "      background-color: #E8F0FE;\n",
              "      border: none;\n",
              "      border-radius: 50%;\n",
              "      cursor: pointer;\n",
              "      display: none;\n",
              "      fill: #1967D2;\n",
              "      height: 32px;\n",
              "      padding: 0 0 0 0;\n",
              "      width: 32px;\n",
              "    }\n",
              "\n",
              "    .colab-df-convert:hover {\n",
              "      background-color: #E2EBFA;\n",
              "      box-shadow: 0px 1px 2px rgba(60, 64, 67, 0.3), 0px 1px 3px 1px rgba(60, 64, 67, 0.15);\n",
              "      fill: #174EA6;\n",
              "    }\n",
              "\n",
              "    [theme=dark] .colab-df-convert {\n",
              "      background-color: #3B4455;\n",
              "      fill: #D2E3FC;\n",
              "    }\n",
              "\n",
              "    [theme=dark] .colab-df-convert:hover {\n",
              "      background-color: #434B5C;\n",
              "      box-shadow: 0px 1px 3px 1px rgba(0, 0, 0, 0.15);\n",
              "      filter: drop-shadow(0px 1px 2px rgba(0, 0, 0, 0.3));\n",
              "      fill: #FFFFFF;\n",
              "    }\n",
              "  </style>\n",
              "\n",
              "      <script>\n",
              "        const buttonEl =\n",
              "          document.querySelector('#df-b8b6905c-473d-4060-b5f2-1e14871f2906 button.colab-df-convert');\n",
              "        buttonEl.style.display =\n",
              "          google.colab.kernel.accessAllowed ? 'block' : 'none';\n",
              "\n",
              "        async function convertToInteractive(key) {\n",
              "          const element = document.querySelector('#df-b8b6905c-473d-4060-b5f2-1e14871f2906');\n",
              "          const dataTable =\n",
              "            await google.colab.kernel.invokeFunction('convertToInteractive',\n",
              "                                                     [key], {});\n",
              "          if (!dataTable) return;\n",
              "\n",
              "          const docLinkHtml = 'Like what you see? Visit the ' +\n",
              "            '<a target=\"_blank\" href=https://colab.research.google.com/notebooks/data_table.ipynb>data table notebook</a>'\n",
              "            + ' to learn more about interactive tables.';\n",
              "          element.innerHTML = '';\n",
              "          dataTable['output_type'] = 'display_data';\n",
              "          await google.colab.output.renderOutput(dataTable, element);\n",
              "          const docLink = document.createElement('div');\n",
              "          docLink.innerHTML = docLinkHtml;\n",
              "          element.appendChild(docLink);\n",
              "        }\n",
              "      </script>\n",
              "    </div>\n",
              "  </div>\n",
              "  "
            ]
          },
          "metadata": {},
          "execution_count": 36
        }
      ],
      "source": [
        "total_df.head()"
      ]
    },
    {
      "cell_type": "code",
      "execution_count": 37,
      "id": "5f07cbee",
      "metadata": {
        "id": "5f07cbee"
      },
      "outputs": [],
      "source": [
        "total_df=total_df.drop(['Total_Stops'],axis=1)"
      ]
    },
    {
      "cell_type": "code",
      "execution_count": 38,
      "id": "96c7a6e3",
      "metadata": {
        "id": "96c7a6e3",
        "colab": {
          "base_uri": "https://localhost:8080/",
          "height": 206
        },
        "outputId": "3a9b303a-48d7-4b83-a8f4-1f8dcdd3c369"
      },
      "outputs": [
        {
          "output_type": "execute_result",
          "data": {
            "text/plain": [
              "       Airline    Source Destination                  Route Dep_Time  \\\n",
              "0       IndiGo  Banglore   New Delhi              BLR → DEL    22:20   \n",
              "1    Air India   Kolkata    Banglore  CCU → IXR → BBI → BLR    05:50   \n",
              "2  Jet Airways     Delhi      Cochin  DEL → LKO → BOM → COK    09:25   \n",
              "3       IndiGo   Kolkata    Banglore        CCU → NAG → BLR    18:05   \n",
              "4       IndiGo  Banglore   New Delhi        BLR → NAG → DEL    16:50   \n",
              "\n",
              "  Arrival_Time Duration Additional_Info    Price  Date  Month  Year Stop  \n",
              "0        01:10   2h 50m         No info   3897.0    24      3  2019    0  \n",
              "1        13:15   7h 25m         No info   7662.0     1      5  2019    2  \n",
              "2        04:25      19h         No info  13882.0     9      6  2019    2  \n",
              "3        23:30   5h 25m         No info   6218.0    12      5  2019    1  \n",
              "4        21:35   4h 45m         No info  13302.0     1      3  2019    1  "
            ],
            "text/html": [
              "\n",
              "  <div id=\"df-1d57fa42-c857-402f-be5d-a89d7fb61bcf\">\n",
              "    <div class=\"colab-df-container\">\n",
              "      <div>\n",
              "<style scoped>\n",
              "    .dataframe tbody tr th:only-of-type {\n",
              "        vertical-align: middle;\n",
              "    }\n",
              "\n",
              "    .dataframe tbody tr th {\n",
              "        vertical-align: top;\n",
              "    }\n",
              "\n",
              "    .dataframe thead th {\n",
              "        text-align: right;\n",
              "    }\n",
              "</style>\n",
              "<table border=\"1\" class=\"dataframe\">\n",
              "  <thead>\n",
              "    <tr style=\"text-align: right;\">\n",
              "      <th></th>\n",
              "      <th>Airline</th>\n",
              "      <th>Source</th>\n",
              "      <th>Destination</th>\n",
              "      <th>Route</th>\n",
              "      <th>Dep_Time</th>\n",
              "      <th>Arrival_Time</th>\n",
              "      <th>Duration</th>\n",
              "      <th>Additional_Info</th>\n",
              "      <th>Price</th>\n",
              "      <th>Date</th>\n",
              "      <th>Month</th>\n",
              "      <th>Year</th>\n",
              "      <th>Stop</th>\n",
              "    </tr>\n",
              "  </thead>\n",
              "  <tbody>\n",
              "    <tr>\n",
              "      <th>0</th>\n",
              "      <td>IndiGo</td>\n",
              "      <td>Banglore</td>\n",
              "      <td>New Delhi</td>\n",
              "      <td>BLR → DEL</td>\n",
              "      <td>22:20</td>\n",
              "      <td>01:10</td>\n",
              "      <td>2h 50m</td>\n",
              "      <td>No info</td>\n",
              "      <td>3897.0</td>\n",
              "      <td>24</td>\n",
              "      <td>3</td>\n",
              "      <td>2019</td>\n",
              "      <td>0</td>\n",
              "    </tr>\n",
              "    <tr>\n",
              "      <th>1</th>\n",
              "      <td>Air India</td>\n",
              "      <td>Kolkata</td>\n",
              "      <td>Banglore</td>\n",
              "      <td>CCU → IXR → BBI → BLR</td>\n",
              "      <td>05:50</td>\n",
              "      <td>13:15</td>\n",
              "      <td>7h 25m</td>\n",
              "      <td>No info</td>\n",
              "      <td>7662.0</td>\n",
              "      <td>1</td>\n",
              "      <td>5</td>\n",
              "      <td>2019</td>\n",
              "      <td>2</td>\n",
              "    </tr>\n",
              "    <tr>\n",
              "      <th>2</th>\n",
              "      <td>Jet Airways</td>\n",
              "      <td>Delhi</td>\n",
              "      <td>Cochin</td>\n",
              "      <td>DEL → LKO → BOM → COK</td>\n",
              "      <td>09:25</td>\n",
              "      <td>04:25</td>\n",
              "      <td>19h</td>\n",
              "      <td>No info</td>\n",
              "      <td>13882.0</td>\n",
              "      <td>9</td>\n",
              "      <td>6</td>\n",
              "      <td>2019</td>\n",
              "      <td>2</td>\n",
              "    </tr>\n",
              "    <tr>\n",
              "      <th>3</th>\n",
              "      <td>IndiGo</td>\n",
              "      <td>Kolkata</td>\n",
              "      <td>Banglore</td>\n",
              "      <td>CCU → NAG → BLR</td>\n",
              "      <td>18:05</td>\n",
              "      <td>23:30</td>\n",
              "      <td>5h 25m</td>\n",
              "      <td>No info</td>\n",
              "      <td>6218.0</td>\n",
              "      <td>12</td>\n",
              "      <td>5</td>\n",
              "      <td>2019</td>\n",
              "      <td>1</td>\n",
              "    </tr>\n",
              "    <tr>\n",
              "      <th>4</th>\n",
              "      <td>IndiGo</td>\n",
              "      <td>Banglore</td>\n",
              "      <td>New Delhi</td>\n",
              "      <td>BLR → NAG → DEL</td>\n",
              "      <td>16:50</td>\n",
              "      <td>21:35</td>\n",
              "      <td>4h 45m</td>\n",
              "      <td>No info</td>\n",
              "      <td>13302.0</td>\n",
              "      <td>1</td>\n",
              "      <td>3</td>\n",
              "      <td>2019</td>\n",
              "      <td>1</td>\n",
              "    </tr>\n",
              "  </tbody>\n",
              "</table>\n",
              "</div>\n",
              "      <button class=\"colab-df-convert\" onclick=\"convertToInteractive('df-1d57fa42-c857-402f-be5d-a89d7fb61bcf')\"\n",
              "              title=\"Convert this dataframe to an interactive table.\"\n",
              "              style=\"display:none;\">\n",
              "        \n",
              "  <svg xmlns=\"http://www.w3.org/2000/svg\" height=\"24px\"viewBox=\"0 0 24 24\"\n",
              "       width=\"24px\">\n",
              "    <path d=\"M0 0h24v24H0V0z\" fill=\"none\"/>\n",
              "    <path d=\"M18.56 5.44l.94 2.06.94-2.06 2.06-.94-2.06-.94-.94-2.06-.94 2.06-2.06.94zm-11 1L8.5 8.5l.94-2.06 2.06-.94-2.06-.94L8.5 2.5l-.94 2.06-2.06.94zm10 10l.94 2.06.94-2.06 2.06-.94-2.06-.94-.94-2.06-.94 2.06-2.06.94z\"/><path d=\"M17.41 7.96l-1.37-1.37c-.4-.4-.92-.59-1.43-.59-.52 0-1.04.2-1.43.59L10.3 9.45l-7.72 7.72c-.78.78-.78 2.05 0 2.83L4 21.41c.39.39.9.59 1.41.59.51 0 1.02-.2 1.41-.59l7.78-7.78 2.81-2.81c.8-.78.8-2.07 0-2.86zM5.41 20L4 18.59l7.72-7.72 1.47 1.35L5.41 20z\"/>\n",
              "  </svg>\n",
              "      </button>\n",
              "      \n",
              "  <style>\n",
              "    .colab-df-container {\n",
              "      display:flex;\n",
              "      flex-wrap:wrap;\n",
              "      gap: 12px;\n",
              "    }\n",
              "\n",
              "    .colab-df-convert {\n",
              "      background-color: #E8F0FE;\n",
              "      border: none;\n",
              "      border-radius: 50%;\n",
              "      cursor: pointer;\n",
              "      display: none;\n",
              "      fill: #1967D2;\n",
              "      height: 32px;\n",
              "      padding: 0 0 0 0;\n",
              "      width: 32px;\n",
              "    }\n",
              "\n",
              "    .colab-df-convert:hover {\n",
              "      background-color: #E2EBFA;\n",
              "      box-shadow: 0px 1px 2px rgba(60, 64, 67, 0.3), 0px 1px 3px 1px rgba(60, 64, 67, 0.15);\n",
              "      fill: #174EA6;\n",
              "    }\n",
              "\n",
              "    [theme=dark] .colab-df-convert {\n",
              "      background-color: #3B4455;\n",
              "      fill: #D2E3FC;\n",
              "    }\n",
              "\n",
              "    [theme=dark] .colab-df-convert:hover {\n",
              "      background-color: #434B5C;\n",
              "      box-shadow: 0px 1px 3px 1px rgba(0, 0, 0, 0.15);\n",
              "      filter: drop-shadow(0px 1px 2px rgba(0, 0, 0, 0.3));\n",
              "      fill: #FFFFFF;\n",
              "    }\n",
              "  </style>\n",
              "\n",
              "      <script>\n",
              "        const buttonEl =\n",
              "          document.querySelector('#df-1d57fa42-c857-402f-be5d-a89d7fb61bcf button.colab-df-convert');\n",
              "        buttonEl.style.display =\n",
              "          google.colab.kernel.accessAllowed ? 'block' : 'none';\n",
              "\n",
              "        async function convertToInteractive(key) {\n",
              "          const element = document.querySelector('#df-1d57fa42-c857-402f-be5d-a89d7fb61bcf');\n",
              "          const dataTable =\n",
              "            await google.colab.kernel.invokeFunction('convertToInteractive',\n",
              "                                                     [key], {});\n",
              "          if (!dataTable) return;\n",
              "\n",
              "          const docLinkHtml = 'Like what you see? Visit the ' +\n",
              "            '<a target=\"_blank\" href=https://colab.research.google.com/notebooks/data_table.ipynb>data table notebook</a>'\n",
              "            + ' to learn more about interactive tables.';\n",
              "          element.innerHTML = '';\n",
              "          dataTable['output_type'] = 'display_data';\n",
              "          await google.colab.output.renderOutput(dataTable, element);\n",
              "          const docLink = document.createElement('div');\n",
              "          docLink.innerHTML = docLinkHtml;\n",
              "          element.appendChild(docLink);\n",
              "        }\n",
              "      </script>\n",
              "    </div>\n",
              "  </div>\n",
              "  "
            ]
          },
          "metadata": {},
          "execution_count": 38
        }
      ],
      "source": [
        "total_df.head()"
      ]
    },
    {
      "cell_type": "code",
      "execution_count": 39,
      "id": "146ea9a3",
      "metadata": {
        "id": "146ea9a3",
        "colab": {
          "base_uri": "https://localhost:8080/"
        },
        "outputId": "d0b19719-be26-4109-c45f-0a1cd065d174"
      },
      "outputs": [
        {
          "output_type": "execute_result",
          "data": {
            "text/plain": [
              "Airline             object\n",
              "Source              object\n",
              "Destination         object\n",
              "Route               object\n",
              "Dep_Time            object\n",
              "Arrival_Time        object\n",
              "Duration            object\n",
              "Additional_Info     object\n",
              "Price              float64\n",
              "Date                 int64\n",
              "Month                int64\n",
              "Year                 int64\n",
              "Stop                object\n",
              "dtype: object"
            ]
          },
          "metadata": {},
          "execution_count": 39
        }
      ],
      "source": [
        "total_df.dtypes"
      ]
    },
    {
      "cell_type": "code",
      "execution_count": 40,
      "id": "f9110ca0",
      "metadata": {
        "id": "f9110ca0"
      },
      "outputs": [],
      "source": [
        "total_df['Stop']=total_df['Stop'].astype(int)"
      ]
    },
    {
      "cell_type": "code",
      "execution_count": 41,
      "id": "68c500fb",
      "metadata": {
        "id": "68c500fb",
        "colab": {
          "base_uri": "https://localhost:8080/"
        },
        "outputId": "87daa23f-2ecc-46b8-9450-9712e37e4bb1"
      },
      "outputs": [
        {
          "output_type": "execute_result",
          "data": {
            "text/plain": [
              "Airline             object\n",
              "Source              object\n",
              "Destination         object\n",
              "Route               object\n",
              "Dep_Time            object\n",
              "Arrival_Time        object\n",
              "Duration            object\n",
              "Additional_Info     object\n",
              "Price              float64\n",
              "Date                 int64\n",
              "Month                int64\n",
              "Year                 int64\n",
              "Stop                 int64\n",
              "dtype: object"
            ]
          },
          "metadata": {},
          "execution_count": 41
        }
      ],
      "source": [
        "total_df.dtypes"
      ]
    },
    {
      "cell_type": "markdown",
      "id": "db4af08f",
      "metadata": {
        "id": "db4af08f"
      },
      "source": [
        "### Similarly we will try to convert all the features to numerical variables"
      ]
    },
    {
      "cell_type": "code",
      "execution_count": 42,
      "id": "c865904c",
      "metadata": {
        "id": "c865904c"
      },
      "outputs": [],
      "source": [
        "total_df['Arrival_Hour'] = total_df['Arrival_Time'] .str.split(':').str[0]\n",
        "total_df['Arrival_Minute'] = total_df['Arrival_Time'] .str.split(':').str[1]"
      ]
    },
    {
      "cell_type": "code",
      "execution_count": 43,
      "id": "5455f87c",
      "metadata": {
        "id": "5455f87c"
      },
      "outputs": [],
      "source": [
        "total_df['Arrival_Hour']=total_df['Arrival_Hour'].astype(int)\n",
        "total_df['Arrival_Minute']=total_df['Arrival_Minute'].astype(int)\n",
        "total_df=total_df.drop(['Arrival_Time'],axis=1)"
      ]
    },
    {
      "cell_type": "code",
      "execution_count": 44,
      "id": "afe984e0",
      "metadata": {
        "id": "afe984e0",
        "colab": {
          "base_uri": "https://localhost:8080/",
          "height": 206
        },
        "outputId": "38c65e24-6ff9-490d-d691-8b90fa0bd92c"
      },
      "outputs": [
        {
          "output_type": "execute_result",
          "data": {
            "text/plain": [
              "       Airline    Source Destination                  Route Dep_Time Duration  \\\n",
              "0       IndiGo  Banglore   New Delhi              BLR → DEL    22:20   2h 50m   \n",
              "1    Air India   Kolkata    Banglore  CCU → IXR → BBI → BLR    05:50   7h 25m   \n",
              "2  Jet Airways     Delhi      Cochin  DEL → LKO → BOM → COK    09:25      19h   \n",
              "3       IndiGo   Kolkata    Banglore        CCU → NAG → BLR    18:05   5h 25m   \n",
              "4       IndiGo  Banglore   New Delhi        BLR → NAG → DEL    16:50   4h 45m   \n",
              "\n",
              "  Additional_Info    Price  Date  Month  Year  Stop  Arrival_Hour  \\\n",
              "0         No info   3897.0    24      3  2019     0             1   \n",
              "1         No info   7662.0     1      5  2019     2            13   \n",
              "2         No info  13882.0     9      6  2019     2             4   \n",
              "3         No info   6218.0    12      5  2019     1            23   \n",
              "4         No info  13302.0     1      3  2019     1            21   \n",
              "\n",
              "   Arrival_Minute  \n",
              "0              10  \n",
              "1              15  \n",
              "2              25  \n",
              "3              30  \n",
              "4              35  "
            ],
            "text/html": [
              "\n",
              "  <div id=\"df-b05b5f0e-f671-4e0a-bb90-b76df58aed62\">\n",
              "    <div class=\"colab-df-container\">\n",
              "      <div>\n",
              "<style scoped>\n",
              "    .dataframe tbody tr th:only-of-type {\n",
              "        vertical-align: middle;\n",
              "    }\n",
              "\n",
              "    .dataframe tbody tr th {\n",
              "        vertical-align: top;\n",
              "    }\n",
              "\n",
              "    .dataframe thead th {\n",
              "        text-align: right;\n",
              "    }\n",
              "</style>\n",
              "<table border=\"1\" class=\"dataframe\">\n",
              "  <thead>\n",
              "    <tr style=\"text-align: right;\">\n",
              "      <th></th>\n",
              "      <th>Airline</th>\n",
              "      <th>Source</th>\n",
              "      <th>Destination</th>\n",
              "      <th>Route</th>\n",
              "      <th>Dep_Time</th>\n",
              "      <th>Duration</th>\n",
              "      <th>Additional_Info</th>\n",
              "      <th>Price</th>\n",
              "      <th>Date</th>\n",
              "      <th>Month</th>\n",
              "      <th>Year</th>\n",
              "      <th>Stop</th>\n",
              "      <th>Arrival_Hour</th>\n",
              "      <th>Arrival_Minute</th>\n",
              "    </tr>\n",
              "  </thead>\n",
              "  <tbody>\n",
              "    <tr>\n",
              "      <th>0</th>\n",
              "      <td>IndiGo</td>\n",
              "      <td>Banglore</td>\n",
              "      <td>New Delhi</td>\n",
              "      <td>BLR → DEL</td>\n",
              "      <td>22:20</td>\n",
              "      <td>2h 50m</td>\n",
              "      <td>No info</td>\n",
              "      <td>3897.0</td>\n",
              "      <td>24</td>\n",
              "      <td>3</td>\n",
              "      <td>2019</td>\n",
              "      <td>0</td>\n",
              "      <td>1</td>\n",
              "      <td>10</td>\n",
              "    </tr>\n",
              "    <tr>\n",
              "      <th>1</th>\n",
              "      <td>Air India</td>\n",
              "      <td>Kolkata</td>\n",
              "      <td>Banglore</td>\n",
              "      <td>CCU → IXR → BBI → BLR</td>\n",
              "      <td>05:50</td>\n",
              "      <td>7h 25m</td>\n",
              "      <td>No info</td>\n",
              "      <td>7662.0</td>\n",
              "      <td>1</td>\n",
              "      <td>5</td>\n",
              "      <td>2019</td>\n",
              "      <td>2</td>\n",
              "      <td>13</td>\n",
              "      <td>15</td>\n",
              "    </tr>\n",
              "    <tr>\n",
              "      <th>2</th>\n",
              "      <td>Jet Airways</td>\n",
              "      <td>Delhi</td>\n",
              "      <td>Cochin</td>\n",
              "      <td>DEL → LKO → BOM → COK</td>\n",
              "      <td>09:25</td>\n",
              "      <td>19h</td>\n",
              "      <td>No info</td>\n",
              "      <td>13882.0</td>\n",
              "      <td>9</td>\n",
              "      <td>6</td>\n",
              "      <td>2019</td>\n",
              "      <td>2</td>\n",
              "      <td>4</td>\n",
              "      <td>25</td>\n",
              "    </tr>\n",
              "    <tr>\n",
              "      <th>3</th>\n",
              "      <td>IndiGo</td>\n",
              "      <td>Kolkata</td>\n",
              "      <td>Banglore</td>\n",
              "      <td>CCU → NAG → BLR</td>\n",
              "      <td>18:05</td>\n",
              "      <td>5h 25m</td>\n",
              "      <td>No info</td>\n",
              "      <td>6218.0</td>\n",
              "      <td>12</td>\n",
              "      <td>5</td>\n",
              "      <td>2019</td>\n",
              "      <td>1</td>\n",
              "      <td>23</td>\n",
              "      <td>30</td>\n",
              "    </tr>\n",
              "    <tr>\n",
              "      <th>4</th>\n",
              "      <td>IndiGo</td>\n",
              "      <td>Banglore</td>\n",
              "      <td>New Delhi</td>\n",
              "      <td>BLR → NAG → DEL</td>\n",
              "      <td>16:50</td>\n",
              "      <td>4h 45m</td>\n",
              "      <td>No info</td>\n",
              "      <td>13302.0</td>\n",
              "      <td>1</td>\n",
              "      <td>3</td>\n",
              "      <td>2019</td>\n",
              "      <td>1</td>\n",
              "      <td>21</td>\n",
              "      <td>35</td>\n",
              "    </tr>\n",
              "  </tbody>\n",
              "</table>\n",
              "</div>\n",
              "      <button class=\"colab-df-convert\" onclick=\"convertToInteractive('df-b05b5f0e-f671-4e0a-bb90-b76df58aed62')\"\n",
              "              title=\"Convert this dataframe to an interactive table.\"\n",
              "              style=\"display:none;\">\n",
              "        \n",
              "  <svg xmlns=\"http://www.w3.org/2000/svg\" height=\"24px\"viewBox=\"0 0 24 24\"\n",
              "       width=\"24px\">\n",
              "    <path d=\"M0 0h24v24H0V0z\" fill=\"none\"/>\n",
              "    <path d=\"M18.56 5.44l.94 2.06.94-2.06 2.06-.94-2.06-.94-.94-2.06-.94 2.06-2.06.94zm-11 1L8.5 8.5l.94-2.06 2.06-.94-2.06-.94L8.5 2.5l-.94 2.06-2.06.94zm10 10l.94 2.06.94-2.06 2.06-.94-2.06-.94-.94-2.06-.94 2.06-2.06.94z\"/><path d=\"M17.41 7.96l-1.37-1.37c-.4-.4-.92-.59-1.43-.59-.52 0-1.04.2-1.43.59L10.3 9.45l-7.72 7.72c-.78.78-.78 2.05 0 2.83L4 21.41c.39.39.9.59 1.41.59.51 0 1.02-.2 1.41-.59l7.78-7.78 2.81-2.81c.8-.78.8-2.07 0-2.86zM5.41 20L4 18.59l7.72-7.72 1.47 1.35L5.41 20z\"/>\n",
              "  </svg>\n",
              "      </button>\n",
              "      \n",
              "  <style>\n",
              "    .colab-df-container {\n",
              "      display:flex;\n",
              "      flex-wrap:wrap;\n",
              "      gap: 12px;\n",
              "    }\n",
              "\n",
              "    .colab-df-convert {\n",
              "      background-color: #E8F0FE;\n",
              "      border: none;\n",
              "      border-radius: 50%;\n",
              "      cursor: pointer;\n",
              "      display: none;\n",
              "      fill: #1967D2;\n",
              "      height: 32px;\n",
              "      padding: 0 0 0 0;\n",
              "      width: 32px;\n",
              "    }\n",
              "\n",
              "    .colab-df-convert:hover {\n",
              "      background-color: #E2EBFA;\n",
              "      box-shadow: 0px 1px 2px rgba(60, 64, 67, 0.3), 0px 1px 3px 1px rgba(60, 64, 67, 0.15);\n",
              "      fill: #174EA6;\n",
              "    }\n",
              "\n",
              "    [theme=dark] .colab-df-convert {\n",
              "      background-color: #3B4455;\n",
              "      fill: #D2E3FC;\n",
              "    }\n",
              "\n",
              "    [theme=dark] .colab-df-convert:hover {\n",
              "      background-color: #434B5C;\n",
              "      box-shadow: 0px 1px 3px 1px rgba(0, 0, 0, 0.15);\n",
              "      filter: drop-shadow(0px 1px 2px rgba(0, 0, 0, 0.3));\n",
              "      fill: #FFFFFF;\n",
              "    }\n",
              "  </style>\n",
              "\n",
              "      <script>\n",
              "        const buttonEl =\n",
              "          document.querySelector('#df-b05b5f0e-f671-4e0a-bb90-b76df58aed62 button.colab-df-convert');\n",
              "        buttonEl.style.display =\n",
              "          google.colab.kernel.accessAllowed ? 'block' : 'none';\n",
              "\n",
              "        async function convertToInteractive(key) {\n",
              "          const element = document.querySelector('#df-b05b5f0e-f671-4e0a-bb90-b76df58aed62');\n",
              "          const dataTable =\n",
              "            await google.colab.kernel.invokeFunction('convertToInteractive',\n",
              "                                                     [key], {});\n",
              "          if (!dataTable) return;\n",
              "\n",
              "          const docLinkHtml = 'Like what you see? Visit the ' +\n",
              "            '<a target=\"_blank\" href=https://colab.research.google.com/notebooks/data_table.ipynb>data table notebook</a>'\n",
              "            + ' to learn more about interactive tables.';\n",
              "          element.innerHTML = '';\n",
              "          dataTable['output_type'] = 'display_data';\n",
              "          await google.colab.output.renderOutput(dataTable, element);\n",
              "          const docLink = document.createElement('div');\n",
              "          docLink.innerHTML = docLinkHtml;\n",
              "          element.appendChild(docLink);\n",
              "        }\n",
              "      </script>\n",
              "    </div>\n",
              "  </div>\n",
              "  "
            ]
          },
          "metadata": {},
          "execution_count": 44
        }
      ],
      "source": [
        "total_df.head()"
      ]
    },
    {
      "cell_type": "code",
      "execution_count": 45,
      "id": "de7bc2cf",
      "metadata": {
        "id": "de7bc2cf"
      },
      "outputs": [],
      "source": [
        "total_df['Departure_Hour'] = total_df['Dep_Time'] .str.split(':').str[0]\n",
        "total_df['Departure_Minute'] = total_df['Dep_Time'] .str.split(':').str[1]"
      ]
    },
    {
      "cell_type": "code",
      "execution_count": 46,
      "id": "cdcf2456",
      "metadata": {
        "id": "cdcf2456"
      },
      "outputs": [],
      "source": [
        "total_df['Departure_Hour']=total_df['Departure_Hour'].astype(int)\n",
        "total_df['Departure_Minute']=total_df['Departure_Minute'].astype(int)\n",
        "total_df=total_df.drop(['Dep_Time'],axis=1)"
      ]
    },
    {
      "cell_type": "code",
      "execution_count": 47,
      "id": "23ed1fbe",
      "metadata": {
        "id": "23ed1fbe",
        "colab": {
          "base_uri": "https://localhost:8080/",
          "height": 250
        },
        "outputId": "c02a3e34-a431-4c91-eea2-9c78bd2e9925"
      },
      "outputs": [
        {
          "output_type": "execute_result",
          "data": {
            "text/plain": [
              "       Airline    Source Destination                  Route Duration  \\\n",
              "0       IndiGo  Banglore   New Delhi              BLR → DEL   2h 50m   \n",
              "1    Air India   Kolkata    Banglore  CCU → IXR → BBI → BLR   7h 25m   \n",
              "2  Jet Airways     Delhi      Cochin  DEL → LKO → BOM → COK      19h   \n",
              "3       IndiGo   Kolkata    Banglore        CCU → NAG → BLR   5h 25m   \n",
              "4       IndiGo  Banglore   New Delhi        BLR → NAG → DEL   4h 45m   \n",
              "\n",
              "  Additional_Info    Price  Date  Month  Year  Stop  Arrival_Hour  \\\n",
              "0         No info   3897.0    24      3  2019     0             1   \n",
              "1         No info   7662.0     1      5  2019     2            13   \n",
              "2         No info  13882.0     9      6  2019     2             4   \n",
              "3         No info   6218.0    12      5  2019     1            23   \n",
              "4         No info  13302.0     1      3  2019     1            21   \n",
              "\n",
              "   Arrival_Minute  Departure_Hour  Departure_Minute  \n",
              "0              10              22                20  \n",
              "1              15               5                50  \n",
              "2              25               9                25  \n",
              "3              30              18                 5  \n",
              "4              35              16                50  "
            ],
            "text/html": [
              "\n",
              "  <div id=\"df-5f94ac84-c23c-4323-98e9-45ea0c52a992\">\n",
              "    <div class=\"colab-df-container\">\n",
              "      <div>\n",
              "<style scoped>\n",
              "    .dataframe tbody tr th:only-of-type {\n",
              "        vertical-align: middle;\n",
              "    }\n",
              "\n",
              "    .dataframe tbody tr th {\n",
              "        vertical-align: top;\n",
              "    }\n",
              "\n",
              "    .dataframe thead th {\n",
              "        text-align: right;\n",
              "    }\n",
              "</style>\n",
              "<table border=\"1\" class=\"dataframe\">\n",
              "  <thead>\n",
              "    <tr style=\"text-align: right;\">\n",
              "      <th></th>\n",
              "      <th>Airline</th>\n",
              "      <th>Source</th>\n",
              "      <th>Destination</th>\n",
              "      <th>Route</th>\n",
              "      <th>Duration</th>\n",
              "      <th>Additional_Info</th>\n",
              "      <th>Price</th>\n",
              "      <th>Date</th>\n",
              "      <th>Month</th>\n",
              "      <th>Year</th>\n",
              "      <th>Stop</th>\n",
              "      <th>Arrival_Hour</th>\n",
              "      <th>Arrival_Minute</th>\n",
              "      <th>Departure_Hour</th>\n",
              "      <th>Departure_Minute</th>\n",
              "    </tr>\n",
              "  </thead>\n",
              "  <tbody>\n",
              "    <tr>\n",
              "      <th>0</th>\n",
              "      <td>IndiGo</td>\n",
              "      <td>Banglore</td>\n",
              "      <td>New Delhi</td>\n",
              "      <td>BLR → DEL</td>\n",
              "      <td>2h 50m</td>\n",
              "      <td>No info</td>\n",
              "      <td>3897.0</td>\n",
              "      <td>24</td>\n",
              "      <td>3</td>\n",
              "      <td>2019</td>\n",
              "      <td>0</td>\n",
              "      <td>1</td>\n",
              "      <td>10</td>\n",
              "      <td>22</td>\n",
              "      <td>20</td>\n",
              "    </tr>\n",
              "    <tr>\n",
              "      <th>1</th>\n",
              "      <td>Air India</td>\n",
              "      <td>Kolkata</td>\n",
              "      <td>Banglore</td>\n",
              "      <td>CCU → IXR → BBI → BLR</td>\n",
              "      <td>7h 25m</td>\n",
              "      <td>No info</td>\n",
              "      <td>7662.0</td>\n",
              "      <td>1</td>\n",
              "      <td>5</td>\n",
              "      <td>2019</td>\n",
              "      <td>2</td>\n",
              "      <td>13</td>\n",
              "      <td>15</td>\n",
              "      <td>5</td>\n",
              "      <td>50</td>\n",
              "    </tr>\n",
              "    <tr>\n",
              "      <th>2</th>\n",
              "      <td>Jet Airways</td>\n",
              "      <td>Delhi</td>\n",
              "      <td>Cochin</td>\n",
              "      <td>DEL → LKO → BOM → COK</td>\n",
              "      <td>19h</td>\n",
              "      <td>No info</td>\n",
              "      <td>13882.0</td>\n",
              "      <td>9</td>\n",
              "      <td>6</td>\n",
              "      <td>2019</td>\n",
              "      <td>2</td>\n",
              "      <td>4</td>\n",
              "      <td>25</td>\n",
              "      <td>9</td>\n",
              "      <td>25</td>\n",
              "    </tr>\n",
              "    <tr>\n",
              "      <th>3</th>\n",
              "      <td>IndiGo</td>\n",
              "      <td>Kolkata</td>\n",
              "      <td>Banglore</td>\n",
              "      <td>CCU → NAG → BLR</td>\n",
              "      <td>5h 25m</td>\n",
              "      <td>No info</td>\n",
              "      <td>6218.0</td>\n",
              "      <td>12</td>\n",
              "      <td>5</td>\n",
              "      <td>2019</td>\n",
              "      <td>1</td>\n",
              "      <td>23</td>\n",
              "      <td>30</td>\n",
              "      <td>18</td>\n",
              "      <td>5</td>\n",
              "    </tr>\n",
              "    <tr>\n",
              "      <th>4</th>\n",
              "      <td>IndiGo</td>\n",
              "      <td>Banglore</td>\n",
              "      <td>New Delhi</td>\n",
              "      <td>BLR → NAG → DEL</td>\n",
              "      <td>4h 45m</td>\n",
              "      <td>No info</td>\n",
              "      <td>13302.0</td>\n",
              "      <td>1</td>\n",
              "      <td>3</td>\n",
              "      <td>2019</td>\n",
              "      <td>1</td>\n",
              "      <td>21</td>\n",
              "      <td>35</td>\n",
              "      <td>16</td>\n",
              "      <td>50</td>\n",
              "    </tr>\n",
              "  </tbody>\n",
              "</table>\n",
              "</div>\n",
              "      <button class=\"colab-df-convert\" onclick=\"convertToInteractive('df-5f94ac84-c23c-4323-98e9-45ea0c52a992')\"\n",
              "              title=\"Convert this dataframe to an interactive table.\"\n",
              "              style=\"display:none;\">\n",
              "        \n",
              "  <svg xmlns=\"http://www.w3.org/2000/svg\" height=\"24px\"viewBox=\"0 0 24 24\"\n",
              "       width=\"24px\">\n",
              "    <path d=\"M0 0h24v24H0V0z\" fill=\"none\"/>\n",
              "    <path d=\"M18.56 5.44l.94 2.06.94-2.06 2.06-.94-2.06-.94-.94-2.06-.94 2.06-2.06.94zm-11 1L8.5 8.5l.94-2.06 2.06-.94-2.06-.94L8.5 2.5l-.94 2.06-2.06.94zm10 10l.94 2.06.94-2.06 2.06-.94-2.06-.94-.94-2.06-.94 2.06-2.06.94z\"/><path d=\"M17.41 7.96l-1.37-1.37c-.4-.4-.92-.59-1.43-.59-.52 0-1.04.2-1.43.59L10.3 9.45l-7.72 7.72c-.78.78-.78 2.05 0 2.83L4 21.41c.39.39.9.59 1.41.59.51 0 1.02-.2 1.41-.59l7.78-7.78 2.81-2.81c.8-.78.8-2.07 0-2.86zM5.41 20L4 18.59l7.72-7.72 1.47 1.35L5.41 20z\"/>\n",
              "  </svg>\n",
              "      </button>\n",
              "      \n",
              "  <style>\n",
              "    .colab-df-container {\n",
              "      display:flex;\n",
              "      flex-wrap:wrap;\n",
              "      gap: 12px;\n",
              "    }\n",
              "\n",
              "    .colab-df-convert {\n",
              "      background-color: #E8F0FE;\n",
              "      border: none;\n",
              "      border-radius: 50%;\n",
              "      cursor: pointer;\n",
              "      display: none;\n",
              "      fill: #1967D2;\n",
              "      height: 32px;\n",
              "      padding: 0 0 0 0;\n",
              "      width: 32px;\n",
              "    }\n",
              "\n",
              "    .colab-df-convert:hover {\n",
              "      background-color: #E2EBFA;\n",
              "      box-shadow: 0px 1px 2px rgba(60, 64, 67, 0.3), 0px 1px 3px 1px rgba(60, 64, 67, 0.15);\n",
              "      fill: #174EA6;\n",
              "    }\n",
              "\n",
              "    [theme=dark] .colab-df-convert {\n",
              "      background-color: #3B4455;\n",
              "      fill: #D2E3FC;\n",
              "    }\n",
              "\n",
              "    [theme=dark] .colab-df-convert:hover {\n",
              "      background-color: #434B5C;\n",
              "      box-shadow: 0px 1px 3px 1px rgba(0, 0, 0, 0.15);\n",
              "      filter: drop-shadow(0px 1px 2px rgba(0, 0, 0, 0.3));\n",
              "      fill: #FFFFFF;\n",
              "    }\n",
              "  </style>\n",
              "\n",
              "      <script>\n",
              "        const buttonEl =\n",
              "          document.querySelector('#df-5f94ac84-c23c-4323-98e9-45ea0c52a992 button.colab-df-convert');\n",
              "        buttonEl.style.display =\n",
              "          google.colab.kernel.accessAllowed ? 'block' : 'none';\n",
              "\n",
              "        async function convertToInteractive(key) {\n",
              "          const element = document.querySelector('#df-5f94ac84-c23c-4323-98e9-45ea0c52a992');\n",
              "          const dataTable =\n",
              "            await google.colab.kernel.invokeFunction('convertToInteractive',\n",
              "                                                     [key], {});\n",
              "          if (!dataTable) return;\n",
              "\n",
              "          const docLinkHtml = 'Like what you see? Visit the ' +\n",
              "            '<a target=\"_blank\" href=https://colab.research.google.com/notebooks/data_table.ipynb>data table notebook</a>'\n",
              "            + ' to learn more about interactive tables.';\n",
              "          element.innerHTML = '';\n",
              "          dataTable['output_type'] = 'display_data';\n",
              "          await google.colab.output.renderOutput(dataTable, element);\n",
              "          const docLink = document.createElement('div');\n",
              "          docLink.innerHTML = docLinkHtml;\n",
              "          element.appendChild(docLink);\n",
              "        }\n",
              "      </script>\n",
              "    </div>\n",
              "  </div>\n",
              "  "
            ]
          },
          "metadata": {},
          "execution_count": 47
        }
      ],
      "source": [
        "total_df.head()"
      ]
    },
    {
      "cell_type": "markdown",
      "id": "c95d67a5",
      "metadata": {
        "id": "c95d67a5"
      },
      "source": [
        "### Let's devide the route into different columns"
      ]
    },
    {
      "cell_type": "code",
      "execution_count": 48,
      "id": "69c1e568",
      "metadata": {
        "id": "69c1e568"
      },
      "outputs": [],
      "source": [
        "total_df['Route_1']= total_df['Route'].str.split('→ ').str[0]\n",
        "total_df['Route_2']= total_df['Route'].str.split('→ ').str[1]\n",
        "total_df['Route_3']= total_df['Route'].str.split('→ ').str[2]\n",
        "total_df['Route_4']= total_df['Route'].str.split('→ ').str[3]\n",
        "total_df['Route_5']= total_df['Route'].str.split('→ ').str[4]"
      ]
    },
    {
      "cell_type": "code",
      "execution_count": 49,
      "id": "d8cd4cc9",
      "metadata": {
        "id": "d8cd4cc9"
      },
      "outputs": [],
      "source": [
        "total_df['Route_1'].fillna(\"None\",inplace=True)\n",
        "total_df['Route_2'].fillna(\"None\",inplace=True)\n",
        "total_df['Route_3'].fillna(\"None\",inplace=True)\n",
        "total_df['Route_4'].fillna(\"None\",inplace=True)\n",
        "total_df['Route_5'].fillna(\"None\",inplace=True)"
      ]
    },
    {
      "cell_type": "code",
      "execution_count": 50,
      "id": "d338a750",
      "metadata": {
        "id": "d338a750",
        "colab": {
          "base_uri": "https://localhost:8080/",
          "height": 652
        },
        "outputId": "3a90a48b-5246-4009-8738-c7ecea2a41e5"
      },
      "outputs": [
        {
          "output_type": "execute_result",
          "data": {
            "text/plain": [
              "       Airline    Source Destination                  Route Duration  \\\n",
              "0       IndiGo  Banglore   New Delhi              BLR → DEL   2h 50m   \n",
              "1    Air India   Kolkata    Banglore  CCU → IXR → BBI → BLR   7h 25m   \n",
              "2  Jet Airways     Delhi      Cochin  DEL → LKO → BOM → COK      19h   \n",
              "3       IndiGo   Kolkata    Banglore        CCU → NAG → BLR   5h 25m   \n",
              "4       IndiGo  Banglore   New Delhi        BLR → NAG → DEL   4h 45m   \n",
              "\n",
              "  Additional_Info    Price  Date  Month  Year  Stop  Arrival_Hour  \\\n",
              "0         No info   3897.0    24      3  2019     0             1   \n",
              "1         No info   7662.0     1      5  2019     2            13   \n",
              "2         No info  13882.0     9      6  2019     2             4   \n",
              "3         No info   6218.0    12      5  2019     1            23   \n",
              "4         No info  13302.0     1      3  2019     1            21   \n",
              "\n",
              "   Arrival_Minute  Departure_Hour  Departure_Minute Route_1 Route_2 Route_3  \\\n",
              "0              10              22                20    BLR      DEL    None   \n",
              "1              15               5                50    CCU     IXR     BBI    \n",
              "2              25               9                25    DEL     LKO     BOM    \n",
              "3              30              18                 5    CCU     NAG      BLR   \n",
              "4              35              16                50    BLR     NAG      DEL   \n",
              "\n",
              "  Route_4 Route_5  \n",
              "0    None    None  \n",
              "1     BLR    None  \n",
              "2     COK    None  \n",
              "3    None    None  \n",
              "4    None    None  "
            ],
            "text/html": [
              "\n",
              "  <div id=\"df-73a5ac8e-b8b2-43bd-823f-345a4b92ce89\">\n",
              "    <div class=\"colab-df-container\">\n",
              "      <div>\n",
              "<style scoped>\n",
              "    .dataframe tbody tr th:only-of-type {\n",
              "        vertical-align: middle;\n",
              "    }\n",
              "\n",
              "    .dataframe tbody tr th {\n",
              "        vertical-align: top;\n",
              "    }\n",
              "\n",
              "    .dataframe thead th {\n",
              "        text-align: right;\n",
              "    }\n",
              "</style>\n",
              "<table border=\"1\" class=\"dataframe\">\n",
              "  <thead>\n",
              "    <tr style=\"text-align: right;\">\n",
              "      <th></th>\n",
              "      <th>Airline</th>\n",
              "      <th>Source</th>\n",
              "      <th>Destination</th>\n",
              "      <th>Route</th>\n",
              "      <th>Duration</th>\n",
              "      <th>Additional_Info</th>\n",
              "      <th>Price</th>\n",
              "      <th>Date</th>\n",
              "      <th>Month</th>\n",
              "      <th>Year</th>\n",
              "      <th>Stop</th>\n",
              "      <th>Arrival_Hour</th>\n",
              "      <th>Arrival_Minute</th>\n",
              "      <th>Departure_Hour</th>\n",
              "      <th>Departure_Minute</th>\n",
              "      <th>Route_1</th>\n",
              "      <th>Route_2</th>\n",
              "      <th>Route_3</th>\n",
              "      <th>Route_4</th>\n",
              "      <th>Route_5</th>\n",
              "    </tr>\n",
              "  </thead>\n",
              "  <tbody>\n",
              "    <tr>\n",
              "      <th>0</th>\n",
              "      <td>IndiGo</td>\n",
              "      <td>Banglore</td>\n",
              "      <td>New Delhi</td>\n",
              "      <td>BLR → DEL</td>\n",
              "      <td>2h 50m</td>\n",
              "      <td>No info</td>\n",
              "      <td>3897.0</td>\n",
              "      <td>24</td>\n",
              "      <td>3</td>\n",
              "      <td>2019</td>\n",
              "      <td>0</td>\n",
              "      <td>1</td>\n",
              "      <td>10</td>\n",
              "      <td>22</td>\n",
              "      <td>20</td>\n",
              "      <td>BLR</td>\n",
              "      <td>DEL</td>\n",
              "      <td>None</td>\n",
              "      <td>None</td>\n",
              "      <td>None</td>\n",
              "    </tr>\n",
              "    <tr>\n",
              "      <th>1</th>\n",
              "      <td>Air India</td>\n",
              "      <td>Kolkata</td>\n",
              "      <td>Banglore</td>\n",
              "      <td>CCU → IXR → BBI → BLR</td>\n",
              "      <td>7h 25m</td>\n",
              "      <td>No info</td>\n",
              "      <td>7662.0</td>\n",
              "      <td>1</td>\n",
              "      <td>5</td>\n",
              "      <td>2019</td>\n",
              "      <td>2</td>\n",
              "      <td>13</td>\n",
              "      <td>15</td>\n",
              "      <td>5</td>\n",
              "      <td>50</td>\n",
              "      <td>CCU</td>\n",
              "      <td>IXR</td>\n",
              "      <td>BBI</td>\n",
              "      <td>BLR</td>\n",
              "      <td>None</td>\n",
              "    </tr>\n",
              "    <tr>\n",
              "      <th>2</th>\n",
              "      <td>Jet Airways</td>\n",
              "      <td>Delhi</td>\n",
              "      <td>Cochin</td>\n",
              "      <td>DEL → LKO → BOM → COK</td>\n",
              "      <td>19h</td>\n",
              "      <td>No info</td>\n",
              "      <td>13882.0</td>\n",
              "      <td>9</td>\n",
              "      <td>6</td>\n",
              "      <td>2019</td>\n",
              "      <td>2</td>\n",
              "      <td>4</td>\n",
              "      <td>25</td>\n",
              "      <td>9</td>\n",
              "      <td>25</td>\n",
              "      <td>DEL</td>\n",
              "      <td>LKO</td>\n",
              "      <td>BOM</td>\n",
              "      <td>COK</td>\n",
              "      <td>None</td>\n",
              "    </tr>\n",
              "    <tr>\n",
              "      <th>3</th>\n",
              "      <td>IndiGo</td>\n",
              "      <td>Kolkata</td>\n",
              "      <td>Banglore</td>\n",
              "      <td>CCU → NAG → BLR</td>\n",
              "      <td>5h 25m</td>\n",
              "      <td>No info</td>\n",
              "      <td>6218.0</td>\n",
              "      <td>12</td>\n",
              "      <td>5</td>\n",
              "      <td>2019</td>\n",
              "      <td>1</td>\n",
              "      <td>23</td>\n",
              "      <td>30</td>\n",
              "      <td>18</td>\n",
              "      <td>5</td>\n",
              "      <td>CCU</td>\n",
              "      <td>NAG</td>\n",
              "      <td>BLR</td>\n",
              "      <td>None</td>\n",
              "      <td>None</td>\n",
              "    </tr>\n",
              "    <tr>\n",
              "      <th>4</th>\n",
              "      <td>IndiGo</td>\n",
              "      <td>Banglore</td>\n",
              "      <td>New Delhi</td>\n",
              "      <td>BLR → NAG → DEL</td>\n",
              "      <td>4h 45m</td>\n",
              "      <td>No info</td>\n",
              "      <td>13302.0</td>\n",
              "      <td>1</td>\n",
              "      <td>3</td>\n",
              "      <td>2019</td>\n",
              "      <td>1</td>\n",
              "      <td>21</td>\n",
              "      <td>35</td>\n",
              "      <td>16</td>\n",
              "      <td>50</td>\n",
              "      <td>BLR</td>\n",
              "      <td>NAG</td>\n",
              "      <td>DEL</td>\n",
              "      <td>None</td>\n",
              "      <td>None</td>\n",
              "    </tr>\n",
              "  </tbody>\n",
              "</table>\n",
              "</div>\n",
              "      <button class=\"colab-df-convert\" onclick=\"convertToInteractive('df-73a5ac8e-b8b2-43bd-823f-345a4b92ce89')\"\n",
              "              title=\"Convert this dataframe to an interactive table.\"\n",
              "              style=\"display:none;\">\n",
              "        \n",
              "  <svg xmlns=\"http://www.w3.org/2000/svg\" height=\"24px\"viewBox=\"0 0 24 24\"\n",
              "       width=\"24px\">\n",
              "    <path d=\"M0 0h24v24H0V0z\" fill=\"none\"/>\n",
              "    <path d=\"M18.56 5.44l.94 2.06.94-2.06 2.06-.94-2.06-.94-.94-2.06-.94 2.06-2.06.94zm-11 1L8.5 8.5l.94-2.06 2.06-.94-2.06-.94L8.5 2.5l-.94 2.06-2.06.94zm10 10l.94 2.06.94-2.06 2.06-.94-2.06-.94-.94-2.06-.94 2.06-2.06.94z\"/><path d=\"M17.41 7.96l-1.37-1.37c-.4-.4-.92-.59-1.43-.59-.52 0-1.04.2-1.43.59L10.3 9.45l-7.72 7.72c-.78.78-.78 2.05 0 2.83L4 21.41c.39.39.9.59 1.41.59.51 0 1.02-.2 1.41-.59l7.78-7.78 2.81-2.81c.8-.78.8-2.07 0-2.86zM5.41 20L4 18.59l7.72-7.72 1.47 1.35L5.41 20z\"/>\n",
              "  </svg>\n",
              "      </button>\n",
              "      \n",
              "  <style>\n",
              "    .colab-df-container {\n",
              "      display:flex;\n",
              "      flex-wrap:wrap;\n",
              "      gap: 12px;\n",
              "    }\n",
              "\n",
              "    .colab-df-convert {\n",
              "      background-color: #E8F0FE;\n",
              "      border: none;\n",
              "      border-radius: 50%;\n",
              "      cursor: pointer;\n",
              "      display: none;\n",
              "      fill: #1967D2;\n",
              "      height: 32px;\n",
              "      padding: 0 0 0 0;\n",
              "      width: 32px;\n",
              "    }\n",
              "\n",
              "    .colab-df-convert:hover {\n",
              "      background-color: #E2EBFA;\n",
              "      box-shadow: 0px 1px 2px rgba(60, 64, 67, 0.3), 0px 1px 3px 1px rgba(60, 64, 67, 0.15);\n",
              "      fill: #174EA6;\n",
              "    }\n",
              "\n",
              "    [theme=dark] .colab-df-convert {\n",
              "      background-color: #3B4455;\n",
              "      fill: #D2E3FC;\n",
              "    }\n",
              "\n",
              "    [theme=dark] .colab-df-convert:hover {\n",
              "      background-color: #434B5C;\n",
              "      box-shadow: 0px 1px 3px 1px rgba(0, 0, 0, 0.15);\n",
              "      filter: drop-shadow(0px 1px 2px rgba(0, 0, 0, 0.3));\n",
              "      fill: #FFFFFF;\n",
              "    }\n",
              "  </style>\n",
              "\n",
              "      <script>\n",
              "        const buttonEl =\n",
              "          document.querySelector('#df-73a5ac8e-b8b2-43bd-823f-345a4b92ce89 button.colab-df-convert');\n",
              "        buttonEl.style.display =\n",
              "          google.colab.kernel.accessAllowed ? 'block' : 'none';\n",
              "\n",
              "        async function convertToInteractive(key) {\n",
              "          const element = document.querySelector('#df-73a5ac8e-b8b2-43bd-823f-345a4b92ce89');\n",
              "          const dataTable =\n",
              "            await google.colab.kernel.invokeFunction('convertToInteractive',\n",
              "                                                     [key], {});\n",
              "          if (!dataTable) return;\n",
              "\n",
              "          const docLinkHtml = 'Like what you see? Visit the ' +\n",
              "            '<a target=\"_blank\" href=https://colab.research.google.com/notebooks/data_table.ipynb>data table notebook</a>'\n",
              "            + ' to learn more about interactive tables.';\n",
              "          element.innerHTML = '';\n",
              "          dataTable['output_type'] = 'display_data';\n",
              "          await google.colab.output.renderOutput(dataTable, element);\n",
              "          const docLink = document.createElement('div');\n",
              "          docLink.innerHTML = docLinkHtml;\n",
              "          element.appendChild(docLink);\n",
              "        }\n",
              "      </script>\n",
              "    </div>\n",
              "  </div>\n",
              "  "
            ]
          },
          "metadata": {},
          "execution_count": 50
        }
      ],
      "source": [
        "total_df.head()"
      ]
    },
    {
      "cell_type": "code",
      "execution_count": 51,
      "id": "c3ec1f73",
      "metadata": {
        "id": "c3ec1f73"
      },
      "outputs": [],
      "source": [
        "total_df=total_df.drop(['Route'],axis=1)\n",
        "total_df=total_df.drop(['Duration'],axis=1)"
      ]
    },
    {
      "cell_type": "code",
      "execution_count": 52,
      "id": "f9ef1bf5",
      "metadata": {
        "id": "f9ef1bf5",
        "colab": {
          "base_uri": "https://localhost:8080/",
          "height": 288
        },
        "outputId": "a8486961-8e9e-4254-de5f-7c52a68f98aa"
      },
      "outputs": [
        {
          "output_type": "execute_result",
          "data": {
            "text/plain": [
              "       Airline    Source Destination Additional_Info    Price  Date  Month  \\\n",
              "0       IndiGo  Banglore   New Delhi         No info   3897.0    24      3   \n",
              "1    Air India   Kolkata    Banglore         No info   7662.0     1      5   \n",
              "2  Jet Airways     Delhi      Cochin         No info  13882.0     9      6   \n",
              "3       IndiGo   Kolkata    Banglore         No info   6218.0    12      5   \n",
              "4       IndiGo  Banglore   New Delhi         No info  13302.0     1      3   \n",
              "\n",
              "   Year  Stop  Arrival_Hour  Arrival_Minute  Departure_Hour  Departure_Minute  \\\n",
              "0  2019     0             1              10              22                20   \n",
              "1  2019     2            13              15               5                50   \n",
              "2  2019     2             4              25               9                25   \n",
              "3  2019     1            23              30              18                 5   \n",
              "4  2019     1            21              35              16                50   \n",
              "\n",
              "  Route_1 Route_2 Route_3 Route_4 Route_5  \n",
              "0    BLR      DEL    None    None    None  \n",
              "1    CCU     IXR     BBI      BLR    None  \n",
              "2    DEL     LKO     BOM      COK    None  \n",
              "3    CCU     NAG      BLR    None    None  \n",
              "4    BLR     NAG      DEL    None    None  "
            ],
            "text/html": [
              "\n",
              "  <div id=\"df-9fb900d9-de77-4970-8a7e-d0fc3a7e53f8\">\n",
              "    <div class=\"colab-df-container\">\n",
              "      <div>\n",
              "<style scoped>\n",
              "    .dataframe tbody tr th:only-of-type {\n",
              "        vertical-align: middle;\n",
              "    }\n",
              "\n",
              "    .dataframe tbody tr th {\n",
              "        vertical-align: top;\n",
              "    }\n",
              "\n",
              "    .dataframe thead th {\n",
              "        text-align: right;\n",
              "    }\n",
              "</style>\n",
              "<table border=\"1\" class=\"dataframe\">\n",
              "  <thead>\n",
              "    <tr style=\"text-align: right;\">\n",
              "      <th></th>\n",
              "      <th>Airline</th>\n",
              "      <th>Source</th>\n",
              "      <th>Destination</th>\n",
              "      <th>Additional_Info</th>\n",
              "      <th>Price</th>\n",
              "      <th>Date</th>\n",
              "      <th>Month</th>\n",
              "      <th>Year</th>\n",
              "      <th>Stop</th>\n",
              "      <th>Arrival_Hour</th>\n",
              "      <th>Arrival_Minute</th>\n",
              "      <th>Departure_Hour</th>\n",
              "      <th>Departure_Minute</th>\n",
              "      <th>Route_1</th>\n",
              "      <th>Route_2</th>\n",
              "      <th>Route_3</th>\n",
              "      <th>Route_4</th>\n",
              "      <th>Route_5</th>\n",
              "    </tr>\n",
              "  </thead>\n",
              "  <tbody>\n",
              "    <tr>\n",
              "      <th>0</th>\n",
              "      <td>IndiGo</td>\n",
              "      <td>Banglore</td>\n",
              "      <td>New Delhi</td>\n",
              "      <td>No info</td>\n",
              "      <td>3897.0</td>\n",
              "      <td>24</td>\n",
              "      <td>3</td>\n",
              "      <td>2019</td>\n",
              "      <td>0</td>\n",
              "      <td>1</td>\n",
              "      <td>10</td>\n",
              "      <td>22</td>\n",
              "      <td>20</td>\n",
              "      <td>BLR</td>\n",
              "      <td>DEL</td>\n",
              "      <td>None</td>\n",
              "      <td>None</td>\n",
              "      <td>None</td>\n",
              "    </tr>\n",
              "    <tr>\n",
              "      <th>1</th>\n",
              "      <td>Air India</td>\n",
              "      <td>Kolkata</td>\n",
              "      <td>Banglore</td>\n",
              "      <td>No info</td>\n",
              "      <td>7662.0</td>\n",
              "      <td>1</td>\n",
              "      <td>5</td>\n",
              "      <td>2019</td>\n",
              "      <td>2</td>\n",
              "      <td>13</td>\n",
              "      <td>15</td>\n",
              "      <td>5</td>\n",
              "      <td>50</td>\n",
              "      <td>CCU</td>\n",
              "      <td>IXR</td>\n",
              "      <td>BBI</td>\n",
              "      <td>BLR</td>\n",
              "      <td>None</td>\n",
              "    </tr>\n",
              "    <tr>\n",
              "      <th>2</th>\n",
              "      <td>Jet Airways</td>\n",
              "      <td>Delhi</td>\n",
              "      <td>Cochin</td>\n",
              "      <td>No info</td>\n",
              "      <td>13882.0</td>\n",
              "      <td>9</td>\n",
              "      <td>6</td>\n",
              "      <td>2019</td>\n",
              "      <td>2</td>\n",
              "      <td>4</td>\n",
              "      <td>25</td>\n",
              "      <td>9</td>\n",
              "      <td>25</td>\n",
              "      <td>DEL</td>\n",
              "      <td>LKO</td>\n",
              "      <td>BOM</td>\n",
              "      <td>COK</td>\n",
              "      <td>None</td>\n",
              "    </tr>\n",
              "    <tr>\n",
              "      <th>3</th>\n",
              "      <td>IndiGo</td>\n",
              "      <td>Kolkata</td>\n",
              "      <td>Banglore</td>\n",
              "      <td>No info</td>\n",
              "      <td>6218.0</td>\n",
              "      <td>12</td>\n",
              "      <td>5</td>\n",
              "      <td>2019</td>\n",
              "      <td>1</td>\n",
              "      <td>23</td>\n",
              "      <td>30</td>\n",
              "      <td>18</td>\n",
              "      <td>5</td>\n",
              "      <td>CCU</td>\n",
              "      <td>NAG</td>\n",
              "      <td>BLR</td>\n",
              "      <td>None</td>\n",
              "      <td>None</td>\n",
              "    </tr>\n",
              "    <tr>\n",
              "      <th>4</th>\n",
              "      <td>IndiGo</td>\n",
              "      <td>Banglore</td>\n",
              "      <td>New Delhi</td>\n",
              "      <td>No info</td>\n",
              "      <td>13302.0</td>\n",
              "      <td>1</td>\n",
              "      <td>3</td>\n",
              "      <td>2019</td>\n",
              "      <td>1</td>\n",
              "      <td>21</td>\n",
              "      <td>35</td>\n",
              "      <td>16</td>\n",
              "      <td>50</td>\n",
              "      <td>BLR</td>\n",
              "      <td>NAG</td>\n",
              "      <td>DEL</td>\n",
              "      <td>None</td>\n",
              "      <td>None</td>\n",
              "    </tr>\n",
              "  </tbody>\n",
              "</table>\n",
              "</div>\n",
              "      <button class=\"colab-df-convert\" onclick=\"convertToInteractive('df-9fb900d9-de77-4970-8a7e-d0fc3a7e53f8')\"\n",
              "              title=\"Convert this dataframe to an interactive table.\"\n",
              "              style=\"display:none;\">\n",
              "        \n",
              "  <svg xmlns=\"http://www.w3.org/2000/svg\" height=\"24px\"viewBox=\"0 0 24 24\"\n",
              "       width=\"24px\">\n",
              "    <path d=\"M0 0h24v24H0V0z\" fill=\"none\"/>\n",
              "    <path d=\"M18.56 5.44l.94 2.06.94-2.06 2.06-.94-2.06-.94-.94-2.06-.94 2.06-2.06.94zm-11 1L8.5 8.5l.94-2.06 2.06-.94-2.06-.94L8.5 2.5l-.94 2.06-2.06.94zm10 10l.94 2.06.94-2.06 2.06-.94-2.06-.94-.94-2.06-.94 2.06-2.06.94z\"/><path d=\"M17.41 7.96l-1.37-1.37c-.4-.4-.92-.59-1.43-.59-.52 0-1.04.2-1.43.59L10.3 9.45l-7.72 7.72c-.78.78-.78 2.05 0 2.83L4 21.41c.39.39.9.59 1.41.59.51 0 1.02-.2 1.41-.59l7.78-7.78 2.81-2.81c.8-.78.8-2.07 0-2.86zM5.41 20L4 18.59l7.72-7.72 1.47 1.35L5.41 20z\"/>\n",
              "  </svg>\n",
              "      </button>\n",
              "      \n",
              "  <style>\n",
              "    .colab-df-container {\n",
              "      display:flex;\n",
              "      flex-wrap:wrap;\n",
              "      gap: 12px;\n",
              "    }\n",
              "\n",
              "    .colab-df-convert {\n",
              "      background-color: #E8F0FE;\n",
              "      border: none;\n",
              "      border-radius: 50%;\n",
              "      cursor: pointer;\n",
              "      display: none;\n",
              "      fill: #1967D2;\n",
              "      height: 32px;\n",
              "      padding: 0 0 0 0;\n",
              "      width: 32px;\n",
              "    }\n",
              "\n",
              "    .colab-df-convert:hover {\n",
              "      background-color: #E2EBFA;\n",
              "      box-shadow: 0px 1px 2px rgba(60, 64, 67, 0.3), 0px 1px 3px 1px rgba(60, 64, 67, 0.15);\n",
              "      fill: #174EA6;\n",
              "    }\n",
              "\n",
              "    [theme=dark] .colab-df-convert {\n",
              "      background-color: #3B4455;\n",
              "      fill: #D2E3FC;\n",
              "    }\n",
              "\n",
              "    [theme=dark] .colab-df-convert:hover {\n",
              "      background-color: #434B5C;\n",
              "      box-shadow: 0px 1px 3px 1px rgba(0, 0, 0, 0.15);\n",
              "      filter: drop-shadow(0px 1px 2px rgba(0, 0, 0, 0.3));\n",
              "      fill: #FFFFFF;\n",
              "    }\n",
              "  </style>\n",
              "\n",
              "      <script>\n",
              "        const buttonEl =\n",
              "          document.querySelector('#df-9fb900d9-de77-4970-8a7e-d0fc3a7e53f8 button.colab-df-convert');\n",
              "        buttonEl.style.display =\n",
              "          google.colab.kernel.accessAllowed ? 'block' : 'none';\n",
              "\n",
              "        async function convertToInteractive(key) {\n",
              "          const element = document.querySelector('#df-9fb900d9-de77-4970-8a7e-d0fc3a7e53f8');\n",
              "          const dataTable =\n",
              "            await google.colab.kernel.invokeFunction('convertToInteractive',\n",
              "                                                     [key], {});\n",
              "          if (!dataTable) return;\n",
              "\n",
              "          const docLinkHtml = 'Like what you see? Visit the ' +\n",
              "            '<a target=\"_blank\" href=https://colab.research.google.com/notebooks/data_table.ipynb>data table notebook</a>'\n",
              "            + ' to learn more about interactive tables.';\n",
              "          element.innerHTML = '';\n",
              "          dataTable['output_type'] = 'display_data';\n",
              "          await google.colab.output.renderOutput(dataTable, element);\n",
              "          const docLink = document.createElement('div');\n",
              "          docLink.innerHTML = docLinkHtml;\n",
              "          element.appendChild(docLink);\n",
              "        }\n",
              "      </script>\n",
              "    </div>\n",
              "  </div>\n",
              "  "
            ]
          },
          "metadata": {},
          "execution_count": 52
        }
      ],
      "source": [
        "total_df.head()"
      ]
    },
    {
      "cell_type": "code",
      "execution_count": 53,
      "id": "ccbd025b",
      "metadata": {
        "id": "ccbd025b",
        "colab": {
          "base_uri": "https://localhost:8080/"
        },
        "outputId": "79604008-ccfc-43e7-f023-118eb5150e9d"
      },
      "outputs": [
        {
          "output_type": "execute_result",
          "data": {
            "text/plain": [
              "Airline                0\n",
              "Source                 0\n",
              "Destination            0\n",
              "Additional_Info        0\n",
              "Price               2671\n",
              "Date                   0\n",
              "Month                  0\n",
              "Year                   0\n",
              "Stop                   0\n",
              "Arrival_Hour           0\n",
              "Arrival_Minute         0\n",
              "Departure_Hour         0\n",
              "Departure_Minute       0\n",
              "Route_1                0\n",
              "Route_2                0\n",
              "Route_3                0\n",
              "Route_4                0\n",
              "Route_5                0\n",
              "dtype: int64"
            ]
          },
          "metadata": {},
          "execution_count": 53
        }
      ],
      "source": [
        "total_df.isnull().sum()"
      ]
    },
    {
      "cell_type": "markdown",
      "id": "75393849",
      "metadata": {
        "id": "75393849"
      },
      "source": [
        "#### We will deal with price "
      ]
    },
    {
      "cell_type": "code",
      "execution_count": 54,
      "id": "475d195a",
      "metadata": {
        "id": "475d195a"
      },
      "outputs": [],
      "source": [
        "total_df['Price'].fillna((total_df['Price'].mean()),inplace=True)"
      ]
    },
    {
      "cell_type": "code",
      "execution_count": 55,
      "id": "90aa8b40",
      "metadata": {
        "id": "90aa8b40",
        "colab": {
          "base_uri": "https://localhost:8080/"
        },
        "outputId": "d6ac47ab-a51e-4628-d1f8-022c202d5be4"
      },
      "outputs": [
        {
          "output_type": "execute_result",
          "data": {
            "text/plain": [
              "Airline             0\n",
              "Source              0\n",
              "Destination         0\n",
              "Additional_Info     0\n",
              "Price               0\n",
              "Date                0\n",
              "Month               0\n",
              "Year                0\n",
              "Stop                0\n",
              "Arrival_Hour        0\n",
              "Arrival_Minute      0\n",
              "Departure_Hour      0\n",
              "Departure_Minute    0\n",
              "Route_1             0\n",
              "Route_2             0\n",
              "Route_3             0\n",
              "Route_4             0\n",
              "Route_5             0\n",
              "dtype: int64"
            ]
          },
          "metadata": {},
          "execution_count": 55
        }
      ],
      "source": [
        "total_df.isnull().sum()"
      ]
    },
    {
      "cell_type": "code",
      "execution_count": 56,
      "id": "507ae6ba",
      "metadata": {
        "id": "507ae6ba",
        "colab": {
          "base_uri": "https://localhost:8080/",
          "height": 288
        },
        "outputId": "9fb7d3ab-edc6-4ac0-b800-69ddf07fbc24"
      },
      "outputs": [
        {
          "output_type": "execute_result",
          "data": {
            "text/plain": [
              "       Airline    Source Destination Additional_Info    Price  Date  Month  \\\n",
              "0       IndiGo  Banglore   New Delhi         No info   3897.0    24      3   \n",
              "1    Air India   Kolkata    Banglore         No info   7662.0     1      5   \n",
              "2  Jet Airways     Delhi      Cochin         No info  13882.0     9      6   \n",
              "3       IndiGo   Kolkata    Banglore         No info   6218.0    12      5   \n",
              "4       IndiGo  Banglore   New Delhi         No info  13302.0     1      3   \n",
              "\n",
              "   Year  Stop  Arrival_Hour  Arrival_Minute  Departure_Hour  Departure_Minute  \\\n",
              "0  2019     0             1              10              22                20   \n",
              "1  2019     2            13              15               5                50   \n",
              "2  2019     2             4              25               9                25   \n",
              "3  2019     1            23              30              18                 5   \n",
              "4  2019     1            21              35              16                50   \n",
              "\n",
              "  Route_1 Route_2 Route_3 Route_4 Route_5  \n",
              "0    BLR      DEL    None    None    None  \n",
              "1    CCU     IXR     BBI      BLR    None  \n",
              "2    DEL     LKO     BOM      COK    None  \n",
              "3    CCU     NAG      BLR    None    None  \n",
              "4    BLR     NAG      DEL    None    None  "
            ],
            "text/html": [
              "\n",
              "  <div id=\"df-99f5a6f5-60e7-442c-b5b8-96d876f25121\">\n",
              "    <div class=\"colab-df-container\">\n",
              "      <div>\n",
              "<style scoped>\n",
              "    .dataframe tbody tr th:only-of-type {\n",
              "        vertical-align: middle;\n",
              "    }\n",
              "\n",
              "    .dataframe tbody tr th {\n",
              "        vertical-align: top;\n",
              "    }\n",
              "\n",
              "    .dataframe thead th {\n",
              "        text-align: right;\n",
              "    }\n",
              "</style>\n",
              "<table border=\"1\" class=\"dataframe\">\n",
              "  <thead>\n",
              "    <tr style=\"text-align: right;\">\n",
              "      <th></th>\n",
              "      <th>Airline</th>\n",
              "      <th>Source</th>\n",
              "      <th>Destination</th>\n",
              "      <th>Additional_Info</th>\n",
              "      <th>Price</th>\n",
              "      <th>Date</th>\n",
              "      <th>Month</th>\n",
              "      <th>Year</th>\n",
              "      <th>Stop</th>\n",
              "      <th>Arrival_Hour</th>\n",
              "      <th>Arrival_Minute</th>\n",
              "      <th>Departure_Hour</th>\n",
              "      <th>Departure_Minute</th>\n",
              "      <th>Route_1</th>\n",
              "      <th>Route_2</th>\n",
              "      <th>Route_3</th>\n",
              "      <th>Route_4</th>\n",
              "      <th>Route_5</th>\n",
              "    </tr>\n",
              "  </thead>\n",
              "  <tbody>\n",
              "    <tr>\n",
              "      <th>0</th>\n",
              "      <td>IndiGo</td>\n",
              "      <td>Banglore</td>\n",
              "      <td>New Delhi</td>\n",
              "      <td>No info</td>\n",
              "      <td>3897.0</td>\n",
              "      <td>24</td>\n",
              "      <td>3</td>\n",
              "      <td>2019</td>\n",
              "      <td>0</td>\n",
              "      <td>1</td>\n",
              "      <td>10</td>\n",
              "      <td>22</td>\n",
              "      <td>20</td>\n",
              "      <td>BLR</td>\n",
              "      <td>DEL</td>\n",
              "      <td>None</td>\n",
              "      <td>None</td>\n",
              "      <td>None</td>\n",
              "    </tr>\n",
              "    <tr>\n",
              "      <th>1</th>\n",
              "      <td>Air India</td>\n",
              "      <td>Kolkata</td>\n",
              "      <td>Banglore</td>\n",
              "      <td>No info</td>\n",
              "      <td>7662.0</td>\n",
              "      <td>1</td>\n",
              "      <td>5</td>\n",
              "      <td>2019</td>\n",
              "      <td>2</td>\n",
              "      <td>13</td>\n",
              "      <td>15</td>\n",
              "      <td>5</td>\n",
              "      <td>50</td>\n",
              "      <td>CCU</td>\n",
              "      <td>IXR</td>\n",
              "      <td>BBI</td>\n",
              "      <td>BLR</td>\n",
              "      <td>None</td>\n",
              "    </tr>\n",
              "    <tr>\n",
              "      <th>2</th>\n",
              "      <td>Jet Airways</td>\n",
              "      <td>Delhi</td>\n",
              "      <td>Cochin</td>\n",
              "      <td>No info</td>\n",
              "      <td>13882.0</td>\n",
              "      <td>9</td>\n",
              "      <td>6</td>\n",
              "      <td>2019</td>\n",
              "      <td>2</td>\n",
              "      <td>4</td>\n",
              "      <td>25</td>\n",
              "      <td>9</td>\n",
              "      <td>25</td>\n",
              "      <td>DEL</td>\n",
              "      <td>LKO</td>\n",
              "      <td>BOM</td>\n",
              "      <td>COK</td>\n",
              "      <td>None</td>\n",
              "    </tr>\n",
              "    <tr>\n",
              "      <th>3</th>\n",
              "      <td>IndiGo</td>\n",
              "      <td>Kolkata</td>\n",
              "      <td>Banglore</td>\n",
              "      <td>No info</td>\n",
              "      <td>6218.0</td>\n",
              "      <td>12</td>\n",
              "      <td>5</td>\n",
              "      <td>2019</td>\n",
              "      <td>1</td>\n",
              "      <td>23</td>\n",
              "      <td>30</td>\n",
              "      <td>18</td>\n",
              "      <td>5</td>\n",
              "      <td>CCU</td>\n",
              "      <td>NAG</td>\n",
              "      <td>BLR</td>\n",
              "      <td>None</td>\n",
              "      <td>None</td>\n",
              "    </tr>\n",
              "    <tr>\n",
              "      <th>4</th>\n",
              "      <td>IndiGo</td>\n",
              "      <td>Banglore</td>\n",
              "      <td>New Delhi</td>\n",
              "      <td>No info</td>\n",
              "      <td>13302.0</td>\n",
              "      <td>1</td>\n",
              "      <td>3</td>\n",
              "      <td>2019</td>\n",
              "      <td>1</td>\n",
              "      <td>21</td>\n",
              "      <td>35</td>\n",
              "      <td>16</td>\n",
              "      <td>50</td>\n",
              "      <td>BLR</td>\n",
              "      <td>NAG</td>\n",
              "      <td>DEL</td>\n",
              "      <td>None</td>\n",
              "      <td>None</td>\n",
              "    </tr>\n",
              "  </tbody>\n",
              "</table>\n",
              "</div>\n",
              "      <button class=\"colab-df-convert\" onclick=\"convertToInteractive('df-99f5a6f5-60e7-442c-b5b8-96d876f25121')\"\n",
              "              title=\"Convert this dataframe to an interactive table.\"\n",
              "              style=\"display:none;\">\n",
              "        \n",
              "  <svg xmlns=\"http://www.w3.org/2000/svg\" height=\"24px\"viewBox=\"0 0 24 24\"\n",
              "       width=\"24px\">\n",
              "    <path d=\"M0 0h24v24H0V0z\" fill=\"none\"/>\n",
              "    <path d=\"M18.56 5.44l.94 2.06.94-2.06 2.06-.94-2.06-.94-.94-2.06-.94 2.06-2.06.94zm-11 1L8.5 8.5l.94-2.06 2.06-.94-2.06-.94L8.5 2.5l-.94 2.06-2.06.94zm10 10l.94 2.06.94-2.06 2.06-.94-2.06-.94-.94-2.06-.94 2.06-2.06.94z\"/><path d=\"M17.41 7.96l-1.37-1.37c-.4-.4-.92-.59-1.43-.59-.52 0-1.04.2-1.43.59L10.3 9.45l-7.72 7.72c-.78.78-.78 2.05 0 2.83L4 21.41c.39.39.9.59 1.41.59.51 0 1.02-.2 1.41-.59l7.78-7.78 2.81-2.81c.8-.78.8-2.07 0-2.86zM5.41 20L4 18.59l7.72-7.72 1.47 1.35L5.41 20z\"/>\n",
              "  </svg>\n",
              "      </button>\n",
              "      \n",
              "  <style>\n",
              "    .colab-df-container {\n",
              "      display:flex;\n",
              "      flex-wrap:wrap;\n",
              "      gap: 12px;\n",
              "    }\n",
              "\n",
              "    .colab-df-convert {\n",
              "      background-color: #E8F0FE;\n",
              "      border: none;\n",
              "      border-radius: 50%;\n",
              "      cursor: pointer;\n",
              "      display: none;\n",
              "      fill: #1967D2;\n",
              "      height: 32px;\n",
              "      padding: 0 0 0 0;\n",
              "      width: 32px;\n",
              "    }\n",
              "\n",
              "    .colab-df-convert:hover {\n",
              "      background-color: #E2EBFA;\n",
              "      box-shadow: 0px 1px 2px rgba(60, 64, 67, 0.3), 0px 1px 3px 1px rgba(60, 64, 67, 0.15);\n",
              "      fill: #174EA6;\n",
              "    }\n",
              "\n",
              "    [theme=dark] .colab-df-convert {\n",
              "      background-color: #3B4455;\n",
              "      fill: #D2E3FC;\n",
              "    }\n",
              "\n",
              "    [theme=dark] .colab-df-convert:hover {\n",
              "      background-color: #434B5C;\n",
              "      box-shadow: 0px 1px 3px 1px rgba(0, 0, 0, 0.15);\n",
              "      filter: drop-shadow(0px 1px 2px rgba(0, 0, 0, 0.3));\n",
              "      fill: #FFFFFF;\n",
              "    }\n",
              "  </style>\n",
              "\n",
              "      <script>\n",
              "        const buttonEl =\n",
              "          document.querySelector('#df-99f5a6f5-60e7-442c-b5b8-96d876f25121 button.colab-df-convert');\n",
              "        buttonEl.style.display =\n",
              "          google.colab.kernel.accessAllowed ? 'block' : 'none';\n",
              "\n",
              "        async function convertToInteractive(key) {\n",
              "          const element = document.querySelector('#df-99f5a6f5-60e7-442c-b5b8-96d876f25121');\n",
              "          const dataTable =\n",
              "            await google.colab.kernel.invokeFunction('convertToInteractive',\n",
              "                                                     [key], {});\n",
              "          if (!dataTable) return;\n",
              "\n",
              "          const docLinkHtml = 'Like what you see? Visit the ' +\n",
              "            '<a target=\"_blank\" href=https://colab.research.google.com/notebooks/data_table.ipynb>data table notebook</a>'\n",
              "            + ' to learn more about interactive tables.';\n",
              "          element.innerHTML = '';\n",
              "          dataTable['output_type'] = 'display_data';\n",
              "          await google.colab.output.renderOutput(dataTable, element);\n",
              "          const docLink = document.createElement('div');\n",
              "          docLink.innerHTML = docLinkHtml;\n",
              "          element.appendChild(docLink);\n",
              "        }\n",
              "      </script>\n",
              "    </div>\n",
              "  </div>\n",
              "  "
            ]
          },
          "metadata": {},
          "execution_count": 56
        }
      ],
      "source": [
        "total_df.head()"
      ]
    },
    {
      "cell_type": "markdown",
      "id": "c760d693",
      "metadata": {
        "id": "c760d693"
      },
      "source": [
        "### Let us now convert all these varibales in the form our model can understand, here we will use Lable Enocoder\n"
      ]
    },
    {
      "cell_type": "code",
      "execution_count": 57,
      "id": "efd63cd8",
      "metadata": {
        "id": "efd63cd8"
      },
      "outputs": [],
      "source": [
        "from sklearn.preprocessing import LabelEncoder"
      ]
    },
    {
      "cell_type": "code",
      "execution_count": 58,
      "id": "576e7107",
      "metadata": {
        "id": "576e7107"
      },
      "outputs": [],
      "source": [
        "le= LabelEncoder()"
      ]
    },
    {
      "cell_type": "code",
      "execution_count": 59,
      "id": "5ebed5f4",
      "metadata": {
        "id": "5ebed5f4"
      },
      "outputs": [],
      "source": [
        "total_df[\"Airline\"]=le.fit_transform(total_df['Airline'])\n",
        "total_df[\"Source\"]=le.fit_transform(total_df['Source'])\n",
        "total_df[\"Destination\"]=le.fit_transform(total_df['Destination'])\n",
        "total_df[\"Additional_Info\"]=le.fit_transform(total_df['Additional_Info'])\n",
        "total_df[\"Route_1\"]=le.fit_transform(total_df['Route_1'])\n",
        "total_df[\"Route_2\"]=le.fit_transform(total_df['Route_2'])\n",
        "total_df[\"Route_3\"]=le.fit_transform(total_df['Route_3'])\n",
        "total_df[\"Route_4\"]=le.fit_transform(total_df['Route_4'])\n",
        "total_df[\"Route_5\"]=le.fit_transform(total_df['Route_5'])"
      ]
    },
    {
      "cell_type": "code",
      "execution_count": 60,
      "id": "528e418b",
      "metadata": {
        "id": "528e418b",
        "colab": {
          "base_uri": "https://localhost:8080/",
          "height": 250
        },
        "outputId": "1257d42f-ae4a-4ff1-f2f9-a715db99903f"
      },
      "outputs": [
        {
          "output_type": "execute_result",
          "data": {
            "text/plain": [
              "   Airline  Source  Destination  Additional_Info    Price  Date  Month  Year  \\\n",
              "0        3       0            5                8   3897.0    24      3  2019   \n",
              "1        1       3            0                8   7662.0     1      5  2019   \n",
              "2        4       2            1                8  13882.0     9      6  2019   \n",
              "3        3       3            0                8   6218.0    12      5  2019   \n",
              "4        3       0            5                8  13302.0     1      3  2019   \n",
              "\n",
              "   Stop  Arrival_Hour  Arrival_Minute  Departure_Hour  Departure_Minute  \\\n",
              "0     0             1              10              22                20   \n",
              "1     2            13              15               5                50   \n",
              "2     2             4              25               9                25   \n",
              "3     1            23              30              18                 5   \n",
              "4     1            21              35              16                50   \n",
              "\n",
              "   Route_1  Route_2  Route_3  Route_4  Route_5  \n",
              "0        0       13       24       12        4  \n",
              "1        2       25        1        3        4  \n",
              "2        3       32        4        5        4  \n",
              "3        2       34        3       12        4  \n",
              "4        0       34        8       12        4  "
            ],
            "text/html": [
              "\n",
              "  <div id=\"df-53bd6286-0803-4dbf-8510-f864ab1b0995\">\n",
              "    <div class=\"colab-df-container\">\n",
              "      <div>\n",
              "<style scoped>\n",
              "    .dataframe tbody tr th:only-of-type {\n",
              "        vertical-align: middle;\n",
              "    }\n",
              "\n",
              "    .dataframe tbody tr th {\n",
              "        vertical-align: top;\n",
              "    }\n",
              "\n",
              "    .dataframe thead th {\n",
              "        text-align: right;\n",
              "    }\n",
              "</style>\n",
              "<table border=\"1\" class=\"dataframe\">\n",
              "  <thead>\n",
              "    <tr style=\"text-align: right;\">\n",
              "      <th></th>\n",
              "      <th>Airline</th>\n",
              "      <th>Source</th>\n",
              "      <th>Destination</th>\n",
              "      <th>Additional_Info</th>\n",
              "      <th>Price</th>\n",
              "      <th>Date</th>\n",
              "      <th>Month</th>\n",
              "      <th>Year</th>\n",
              "      <th>Stop</th>\n",
              "      <th>Arrival_Hour</th>\n",
              "      <th>Arrival_Minute</th>\n",
              "      <th>Departure_Hour</th>\n",
              "      <th>Departure_Minute</th>\n",
              "      <th>Route_1</th>\n",
              "      <th>Route_2</th>\n",
              "      <th>Route_3</th>\n",
              "      <th>Route_4</th>\n",
              "      <th>Route_5</th>\n",
              "    </tr>\n",
              "  </thead>\n",
              "  <tbody>\n",
              "    <tr>\n",
              "      <th>0</th>\n",
              "      <td>3</td>\n",
              "      <td>0</td>\n",
              "      <td>5</td>\n",
              "      <td>8</td>\n",
              "      <td>3897.0</td>\n",
              "      <td>24</td>\n",
              "      <td>3</td>\n",
              "      <td>2019</td>\n",
              "      <td>0</td>\n",
              "      <td>1</td>\n",
              "      <td>10</td>\n",
              "      <td>22</td>\n",
              "      <td>20</td>\n",
              "      <td>0</td>\n",
              "      <td>13</td>\n",
              "      <td>24</td>\n",
              "      <td>12</td>\n",
              "      <td>4</td>\n",
              "    </tr>\n",
              "    <tr>\n",
              "      <th>1</th>\n",
              "      <td>1</td>\n",
              "      <td>3</td>\n",
              "      <td>0</td>\n",
              "      <td>8</td>\n",
              "      <td>7662.0</td>\n",
              "      <td>1</td>\n",
              "      <td>5</td>\n",
              "      <td>2019</td>\n",
              "      <td>2</td>\n",
              "      <td>13</td>\n",
              "      <td>15</td>\n",
              "      <td>5</td>\n",
              "      <td>50</td>\n",
              "      <td>2</td>\n",
              "      <td>25</td>\n",
              "      <td>1</td>\n",
              "      <td>3</td>\n",
              "      <td>4</td>\n",
              "    </tr>\n",
              "    <tr>\n",
              "      <th>2</th>\n",
              "      <td>4</td>\n",
              "      <td>2</td>\n",
              "      <td>1</td>\n",
              "      <td>8</td>\n",
              "      <td>13882.0</td>\n",
              "      <td>9</td>\n",
              "      <td>6</td>\n",
              "      <td>2019</td>\n",
              "      <td>2</td>\n",
              "      <td>4</td>\n",
              "      <td>25</td>\n",
              "      <td>9</td>\n",
              "      <td>25</td>\n",
              "      <td>3</td>\n",
              "      <td>32</td>\n",
              "      <td>4</td>\n",
              "      <td>5</td>\n",
              "      <td>4</td>\n",
              "    </tr>\n",
              "    <tr>\n",
              "      <th>3</th>\n",
              "      <td>3</td>\n",
              "      <td>3</td>\n",
              "      <td>0</td>\n",
              "      <td>8</td>\n",
              "      <td>6218.0</td>\n",
              "      <td>12</td>\n",
              "      <td>5</td>\n",
              "      <td>2019</td>\n",
              "      <td>1</td>\n",
              "      <td>23</td>\n",
              "      <td>30</td>\n",
              "      <td>18</td>\n",
              "      <td>5</td>\n",
              "      <td>2</td>\n",
              "      <td>34</td>\n",
              "      <td>3</td>\n",
              "      <td>12</td>\n",
              "      <td>4</td>\n",
              "    </tr>\n",
              "    <tr>\n",
              "      <th>4</th>\n",
              "      <td>3</td>\n",
              "      <td>0</td>\n",
              "      <td>5</td>\n",
              "      <td>8</td>\n",
              "      <td>13302.0</td>\n",
              "      <td>1</td>\n",
              "      <td>3</td>\n",
              "      <td>2019</td>\n",
              "      <td>1</td>\n",
              "      <td>21</td>\n",
              "      <td>35</td>\n",
              "      <td>16</td>\n",
              "      <td>50</td>\n",
              "      <td>0</td>\n",
              "      <td>34</td>\n",
              "      <td>8</td>\n",
              "      <td>12</td>\n",
              "      <td>4</td>\n",
              "    </tr>\n",
              "  </tbody>\n",
              "</table>\n",
              "</div>\n",
              "      <button class=\"colab-df-convert\" onclick=\"convertToInteractive('df-53bd6286-0803-4dbf-8510-f864ab1b0995')\"\n",
              "              title=\"Convert this dataframe to an interactive table.\"\n",
              "              style=\"display:none;\">\n",
              "        \n",
              "  <svg xmlns=\"http://www.w3.org/2000/svg\" height=\"24px\"viewBox=\"0 0 24 24\"\n",
              "       width=\"24px\">\n",
              "    <path d=\"M0 0h24v24H0V0z\" fill=\"none\"/>\n",
              "    <path d=\"M18.56 5.44l.94 2.06.94-2.06 2.06-.94-2.06-.94-.94-2.06-.94 2.06-2.06.94zm-11 1L8.5 8.5l.94-2.06 2.06-.94-2.06-.94L8.5 2.5l-.94 2.06-2.06.94zm10 10l.94 2.06.94-2.06 2.06-.94-2.06-.94-.94-2.06-.94 2.06-2.06.94z\"/><path d=\"M17.41 7.96l-1.37-1.37c-.4-.4-.92-.59-1.43-.59-.52 0-1.04.2-1.43.59L10.3 9.45l-7.72 7.72c-.78.78-.78 2.05 0 2.83L4 21.41c.39.39.9.59 1.41.59.51 0 1.02-.2 1.41-.59l7.78-7.78 2.81-2.81c.8-.78.8-2.07 0-2.86zM5.41 20L4 18.59l7.72-7.72 1.47 1.35L5.41 20z\"/>\n",
              "  </svg>\n",
              "      </button>\n",
              "      \n",
              "  <style>\n",
              "    .colab-df-container {\n",
              "      display:flex;\n",
              "      flex-wrap:wrap;\n",
              "      gap: 12px;\n",
              "    }\n",
              "\n",
              "    .colab-df-convert {\n",
              "      background-color: #E8F0FE;\n",
              "      border: none;\n",
              "      border-radius: 50%;\n",
              "      cursor: pointer;\n",
              "      display: none;\n",
              "      fill: #1967D2;\n",
              "      height: 32px;\n",
              "      padding: 0 0 0 0;\n",
              "      width: 32px;\n",
              "    }\n",
              "\n",
              "    .colab-df-convert:hover {\n",
              "      background-color: #E2EBFA;\n",
              "      box-shadow: 0px 1px 2px rgba(60, 64, 67, 0.3), 0px 1px 3px 1px rgba(60, 64, 67, 0.15);\n",
              "      fill: #174EA6;\n",
              "    }\n",
              "\n",
              "    [theme=dark] .colab-df-convert {\n",
              "      background-color: #3B4455;\n",
              "      fill: #D2E3FC;\n",
              "    }\n",
              "\n",
              "    [theme=dark] .colab-df-convert:hover {\n",
              "      background-color: #434B5C;\n",
              "      box-shadow: 0px 1px 3px 1px rgba(0, 0, 0, 0.15);\n",
              "      filter: drop-shadow(0px 1px 2px rgba(0, 0, 0, 0.3));\n",
              "      fill: #FFFFFF;\n",
              "    }\n",
              "  </style>\n",
              "\n",
              "      <script>\n",
              "        const buttonEl =\n",
              "          document.querySelector('#df-53bd6286-0803-4dbf-8510-f864ab1b0995 button.colab-df-convert');\n",
              "        buttonEl.style.display =\n",
              "          google.colab.kernel.accessAllowed ? 'block' : 'none';\n",
              "\n",
              "        async function convertToInteractive(key) {\n",
              "          const element = document.querySelector('#df-53bd6286-0803-4dbf-8510-f864ab1b0995');\n",
              "          const dataTable =\n",
              "            await google.colab.kernel.invokeFunction('convertToInteractive',\n",
              "                                                     [key], {});\n",
              "          if (!dataTable) return;\n",
              "\n",
              "          const docLinkHtml = 'Like what you see? Visit the ' +\n",
              "            '<a target=\"_blank\" href=https://colab.research.google.com/notebooks/data_table.ipynb>data table notebook</a>'\n",
              "            + ' to learn more about interactive tables.';\n",
              "          element.innerHTML = '';\n",
              "          dataTable['output_type'] = 'display_data';\n",
              "          await google.colab.output.renderOutput(dataTable, element);\n",
              "          const docLink = document.createElement('div');\n",
              "          docLink.innerHTML = docLinkHtml;\n",
              "          element.appendChild(docLink);\n",
              "        }\n",
              "      </script>\n",
              "    </div>\n",
              "  </div>\n",
              "  "
            ]
          },
          "metadata": {},
          "execution_count": 60
        }
      ],
      "source": [
        "total_df.head()"
      ]
    },
    {
      "cell_type": "markdown",
      "id": "2337bcef",
      "metadata": {
        "id": "2337bcef"
      },
      "source": [
        "### We can also perform One Hot Encoding on the categorical variables"
      ]
    },
    {
      "cell_type": "markdown",
      "id": "4a50c10e",
      "metadata": {
        "id": "4a50c10e"
      },
      "source": [
        "### Let us drop the year column because we have the dataset of the same year"
      ]
    },
    {
      "cell_type": "code",
      "execution_count": 61,
      "id": "b8cc2612",
      "metadata": {
        "id": "b8cc2612"
      },
      "outputs": [],
      "source": [
        "total_df= total_df.drop(['Year'], axis=1)"
      ]
    },
    {
      "cell_type": "code",
      "execution_count": 62,
      "id": "6770dbb9",
      "metadata": {
        "id": "6770dbb9",
        "colab": {
          "base_uri": "https://localhost:8080/",
          "height": 206
        },
        "outputId": "3e65b158-94a5-4860-c5b2-51d32fabb90f"
      },
      "outputs": [
        {
          "output_type": "execute_result",
          "data": {
            "text/plain": [
              "   Airline  Source  Destination  Additional_Info    Price  Date  Month  Stop  \\\n",
              "0        3       0            5                8   3897.0    24      3     0   \n",
              "1        1       3            0                8   7662.0     1      5     2   \n",
              "2        4       2            1                8  13882.0     9      6     2   \n",
              "3        3       3            0                8   6218.0    12      5     1   \n",
              "4        3       0            5                8  13302.0     1      3     1   \n",
              "\n",
              "   Arrival_Hour  Arrival_Minute  Departure_Hour  Departure_Minute  Route_1  \\\n",
              "0             1              10              22                20        0   \n",
              "1            13              15               5                50        2   \n",
              "2             4              25               9                25        3   \n",
              "3            23              30              18                 5        2   \n",
              "4            21              35              16                50        0   \n",
              "\n",
              "   Route_2  Route_3  Route_4  Route_5  \n",
              "0       13       24       12        4  \n",
              "1       25        1        3        4  \n",
              "2       32        4        5        4  \n",
              "3       34        3       12        4  \n",
              "4       34        8       12        4  "
            ],
            "text/html": [
              "\n",
              "  <div id=\"df-9522943c-413e-42f0-9e5a-374632080741\">\n",
              "    <div class=\"colab-df-container\">\n",
              "      <div>\n",
              "<style scoped>\n",
              "    .dataframe tbody tr th:only-of-type {\n",
              "        vertical-align: middle;\n",
              "    }\n",
              "\n",
              "    .dataframe tbody tr th {\n",
              "        vertical-align: top;\n",
              "    }\n",
              "\n",
              "    .dataframe thead th {\n",
              "        text-align: right;\n",
              "    }\n",
              "</style>\n",
              "<table border=\"1\" class=\"dataframe\">\n",
              "  <thead>\n",
              "    <tr style=\"text-align: right;\">\n",
              "      <th></th>\n",
              "      <th>Airline</th>\n",
              "      <th>Source</th>\n",
              "      <th>Destination</th>\n",
              "      <th>Additional_Info</th>\n",
              "      <th>Price</th>\n",
              "      <th>Date</th>\n",
              "      <th>Month</th>\n",
              "      <th>Stop</th>\n",
              "      <th>Arrival_Hour</th>\n",
              "      <th>Arrival_Minute</th>\n",
              "      <th>Departure_Hour</th>\n",
              "      <th>Departure_Minute</th>\n",
              "      <th>Route_1</th>\n",
              "      <th>Route_2</th>\n",
              "      <th>Route_3</th>\n",
              "      <th>Route_4</th>\n",
              "      <th>Route_5</th>\n",
              "    </tr>\n",
              "  </thead>\n",
              "  <tbody>\n",
              "    <tr>\n",
              "      <th>0</th>\n",
              "      <td>3</td>\n",
              "      <td>0</td>\n",
              "      <td>5</td>\n",
              "      <td>8</td>\n",
              "      <td>3897.0</td>\n",
              "      <td>24</td>\n",
              "      <td>3</td>\n",
              "      <td>0</td>\n",
              "      <td>1</td>\n",
              "      <td>10</td>\n",
              "      <td>22</td>\n",
              "      <td>20</td>\n",
              "      <td>0</td>\n",
              "      <td>13</td>\n",
              "      <td>24</td>\n",
              "      <td>12</td>\n",
              "      <td>4</td>\n",
              "    </tr>\n",
              "    <tr>\n",
              "      <th>1</th>\n",
              "      <td>1</td>\n",
              "      <td>3</td>\n",
              "      <td>0</td>\n",
              "      <td>8</td>\n",
              "      <td>7662.0</td>\n",
              "      <td>1</td>\n",
              "      <td>5</td>\n",
              "      <td>2</td>\n",
              "      <td>13</td>\n",
              "      <td>15</td>\n",
              "      <td>5</td>\n",
              "      <td>50</td>\n",
              "      <td>2</td>\n",
              "      <td>25</td>\n",
              "      <td>1</td>\n",
              "      <td>3</td>\n",
              "      <td>4</td>\n",
              "    </tr>\n",
              "    <tr>\n",
              "      <th>2</th>\n",
              "      <td>4</td>\n",
              "      <td>2</td>\n",
              "      <td>1</td>\n",
              "      <td>8</td>\n",
              "      <td>13882.0</td>\n",
              "      <td>9</td>\n",
              "      <td>6</td>\n",
              "      <td>2</td>\n",
              "      <td>4</td>\n",
              "      <td>25</td>\n",
              "      <td>9</td>\n",
              "      <td>25</td>\n",
              "      <td>3</td>\n",
              "      <td>32</td>\n",
              "      <td>4</td>\n",
              "      <td>5</td>\n",
              "      <td>4</td>\n",
              "    </tr>\n",
              "    <tr>\n",
              "      <th>3</th>\n",
              "      <td>3</td>\n",
              "      <td>3</td>\n",
              "      <td>0</td>\n",
              "      <td>8</td>\n",
              "      <td>6218.0</td>\n",
              "      <td>12</td>\n",
              "      <td>5</td>\n",
              "      <td>1</td>\n",
              "      <td>23</td>\n",
              "      <td>30</td>\n",
              "      <td>18</td>\n",
              "      <td>5</td>\n",
              "      <td>2</td>\n",
              "      <td>34</td>\n",
              "      <td>3</td>\n",
              "      <td>12</td>\n",
              "      <td>4</td>\n",
              "    </tr>\n",
              "    <tr>\n",
              "      <th>4</th>\n",
              "      <td>3</td>\n",
              "      <td>0</td>\n",
              "      <td>5</td>\n",
              "      <td>8</td>\n",
              "      <td>13302.0</td>\n",
              "      <td>1</td>\n",
              "      <td>3</td>\n",
              "      <td>1</td>\n",
              "      <td>21</td>\n",
              "      <td>35</td>\n",
              "      <td>16</td>\n",
              "      <td>50</td>\n",
              "      <td>0</td>\n",
              "      <td>34</td>\n",
              "      <td>8</td>\n",
              "      <td>12</td>\n",
              "      <td>4</td>\n",
              "    </tr>\n",
              "  </tbody>\n",
              "</table>\n",
              "</div>\n",
              "      <button class=\"colab-df-convert\" onclick=\"convertToInteractive('df-9522943c-413e-42f0-9e5a-374632080741')\"\n",
              "              title=\"Convert this dataframe to an interactive table.\"\n",
              "              style=\"display:none;\">\n",
              "        \n",
              "  <svg xmlns=\"http://www.w3.org/2000/svg\" height=\"24px\"viewBox=\"0 0 24 24\"\n",
              "       width=\"24px\">\n",
              "    <path d=\"M0 0h24v24H0V0z\" fill=\"none\"/>\n",
              "    <path d=\"M18.56 5.44l.94 2.06.94-2.06 2.06-.94-2.06-.94-.94-2.06-.94 2.06-2.06.94zm-11 1L8.5 8.5l.94-2.06 2.06-.94-2.06-.94L8.5 2.5l-.94 2.06-2.06.94zm10 10l.94 2.06.94-2.06 2.06-.94-2.06-.94-.94-2.06-.94 2.06-2.06.94z\"/><path d=\"M17.41 7.96l-1.37-1.37c-.4-.4-.92-.59-1.43-.59-.52 0-1.04.2-1.43.59L10.3 9.45l-7.72 7.72c-.78.78-.78 2.05 0 2.83L4 21.41c.39.39.9.59 1.41.59.51 0 1.02-.2 1.41-.59l7.78-7.78 2.81-2.81c.8-.78.8-2.07 0-2.86zM5.41 20L4 18.59l7.72-7.72 1.47 1.35L5.41 20z\"/>\n",
              "  </svg>\n",
              "      </button>\n",
              "      \n",
              "  <style>\n",
              "    .colab-df-container {\n",
              "      display:flex;\n",
              "      flex-wrap:wrap;\n",
              "      gap: 12px;\n",
              "    }\n",
              "\n",
              "    .colab-df-convert {\n",
              "      background-color: #E8F0FE;\n",
              "      border: none;\n",
              "      border-radius: 50%;\n",
              "      cursor: pointer;\n",
              "      display: none;\n",
              "      fill: #1967D2;\n",
              "      height: 32px;\n",
              "      padding: 0 0 0 0;\n",
              "      width: 32px;\n",
              "    }\n",
              "\n",
              "    .colab-df-convert:hover {\n",
              "      background-color: #E2EBFA;\n",
              "      box-shadow: 0px 1px 2px rgba(60, 64, 67, 0.3), 0px 1px 3px 1px rgba(60, 64, 67, 0.15);\n",
              "      fill: #174EA6;\n",
              "    }\n",
              "\n",
              "    [theme=dark] .colab-df-convert {\n",
              "      background-color: #3B4455;\n",
              "      fill: #D2E3FC;\n",
              "    }\n",
              "\n",
              "    [theme=dark] .colab-df-convert:hover {\n",
              "      background-color: #434B5C;\n",
              "      box-shadow: 0px 1px 3px 1px rgba(0, 0, 0, 0.15);\n",
              "      filter: drop-shadow(0px 1px 2px rgba(0, 0, 0, 0.3));\n",
              "      fill: #FFFFFF;\n",
              "    }\n",
              "  </style>\n",
              "\n",
              "      <script>\n",
              "        const buttonEl =\n",
              "          document.querySelector('#df-9522943c-413e-42f0-9e5a-374632080741 button.colab-df-convert');\n",
              "        buttonEl.style.display =\n",
              "          google.colab.kernel.accessAllowed ? 'block' : 'none';\n",
              "\n",
              "        async function convertToInteractive(key) {\n",
              "          const element = document.querySelector('#df-9522943c-413e-42f0-9e5a-374632080741');\n",
              "          const dataTable =\n",
              "            await google.colab.kernel.invokeFunction('convertToInteractive',\n",
              "                                                     [key], {});\n",
              "          if (!dataTable) return;\n",
              "\n",
              "          const docLinkHtml = 'Like what you see? Visit the ' +\n",
              "            '<a target=\"_blank\" href=https://colab.research.google.com/notebooks/data_table.ipynb>data table notebook</a>'\n",
              "            + ' to learn more about interactive tables.';\n",
              "          element.innerHTML = '';\n",
              "          dataTable['output_type'] = 'display_data';\n",
              "          await google.colab.output.renderOutput(dataTable, element);\n",
              "          const docLink = document.createElement('div');\n",
              "          docLink.innerHTML = docLinkHtml;\n",
              "          element.appendChild(docLink);\n",
              "        }\n",
              "      </script>\n",
              "    </div>\n",
              "  </div>\n",
              "  "
            ]
          },
          "metadata": {},
          "execution_count": 62
        }
      ],
      "source": [
        "total_df.head()"
      ]
    },
    {
      "cell_type": "markdown",
      "id": "57c2f3a7",
      "metadata": {
        "id": "57c2f3a7"
      },
      "source": [
        "## Feature Selection"
      ]
    },
    {
      "cell_type": "markdown",
      "id": "db820106",
      "metadata": {
        "id": "db820106"
      },
      "source": [
        "### Now it is time for us to select the features which are of the most importance"
      ]
    },
    {
      "cell_type": "code",
      "execution_count": 63,
      "id": "0955341e",
      "metadata": {
        "id": "0955341e"
      },
      "outputs": [],
      "source": [
        "x= total_df.drop(['Price'],axis=1)\n",
        "y= total_df['Price']"
      ]
    },
    {
      "cell_type": "code",
      "execution_count": 64,
      "id": "ec701abd",
      "metadata": {
        "id": "ec701abd",
        "colab": {
          "base_uri": "https://localhost:8080/",
          "height": 206
        },
        "outputId": "979947ef-702c-4c84-a90c-d6e7ccaeb86b"
      },
      "outputs": [
        {
          "output_type": "execute_result",
          "data": {
            "text/plain": [
              "   Airline  Source  Destination  Additional_Info  Date  Month  Stop  \\\n",
              "0        3       0            5                8    24      3     0   \n",
              "1        1       3            0                8     1      5     2   \n",
              "2        4       2            1                8     9      6     2   \n",
              "3        3       3            0                8    12      5     1   \n",
              "4        3       0            5                8     1      3     1   \n",
              "\n",
              "   Arrival_Hour  Arrival_Minute  Departure_Hour  Departure_Minute  Route_1  \\\n",
              "0             1              10              22                20        0   \n",
              "1            13              15               5                50        2   \n",
              "2             4              25               9                25        3   \n",
              "3            23              30              18                 5        2   \n",
              "4            21              35              16                50        0   \n",
              "\n",
              "   Route_2  Route_3  Route_4  Route_5  \n",
              "0       13       24       12        4  \n",
              "1       25        1        3        4  \n",
              "2       32        4        5        4  \n",
              "3       34        3       12        4  \n",
              "4       34        8       12        4  "
            ],
            "text/html": [
              "\n",
              "  <div id=\"df-c03326cb-d278-4741-81ee-76b3edd7c46b\">\n",
              "    <div class=\"colab-df-container\">\n",
              "      <div>\n",
              "<style scoped>\n",
              "    .dataframe tbody tr th:only-of-type {\n",
              "        vertical-align: middle;\n",
              "    }\n",
              "\n",
              "    .dataframe tbody tr th {\n",
              "        vertical-align: top;\n",
              "    }\n",
              "\n",
              "    .dataframe thead th {\n",
              "        text-align: right;\n",
              "    }\n",
              "</style>\n",
              "<table border=\"1\" class=\"dataframe\">\n",
              "  <thead>\n",
              "    <tr style=\"text-align: right;\">\n",
              "      <th></th>\n",
              "      <th>Airline</th>\n",
              "      <th>Source</th>\n",
              "      <th>Destination</th>\n",
              "      <th>Additional_Info</th>\n",
              "      <th>Date</th>\n",
              "      <th>Month</th>\n",
              "      <th>Stop</th>\n",
              "      <th>Arrival_Hour</th>\n",
              "      <th>Arrival_Minute</th>\n",
              "      <th>Departure_Hour</th>\n",
              "      <th>Departure_Minute</th>\n",
              "      <th>Route_1</th>\n",
              "      <th>Route_2</th>\n",
              "      <th>Route_3</th>\n",
              "      <th>Route_4</th>\n",
              "      <th>Route_5</th>\n",
              "    </tr>\n",
              "  </thead>\n",
              "  <tbody>\n",
              "    <tr>\n",
              "      <th>0</th>\n",
              "      <td>3</td>\n",
              "      <td>0</td>\n",
              "      <td>5</td>\n",
              "      <td>8</td>\n",
              "      <td>24</td>\n",
              "      <td>3</td>\n",
              "      <td>0</td>\n",
              "      <td>1</td>\n",
              "      <td>10</td>\n",
              "      <td>22</td>\n",
              "      <td>20</td>\n",
              "      <td>0</td>\n",
              "      <td>13</td>\n",
              "      <td>24</td>\n",
              "      <td>12</td>\n",
              "      <td>4</td>\n",
              "    </tr>\n",
              "    <tr>\n",
              "      <th>1</th>\n",
              "      <td>1</td>\n",
              "      <td>3</td>\n",
              "      <td>0</td>\n",
              "      <td>8</td>\n",
              "      <td>1</td>\n",
              "      <td>5</td>\n",
              "      <td>2</td>\n",
              "      <td>13</td>\n",
              "      <td>15</td>\n",
              "      <td>5</td>\n",
              "      <td>50</td>\n",
              "      <td>2</td>\n",
              "      <td>25</td>\n",
              "      <td>1</td>\n",
              "      <td>3</td>\n",
              "      <td>4</td>\n",
              "    </tr>\n",
              "    <tr>\n",
              "      <th>2</th>\n",
              "      <td>4</td>\n",
              "      <td>2</td>\n",
              "      <td>1</td>\n",
              "      <td>8</td>\n",
              "      <td>9</td>\n",
              "      <td>6</td>\n",
              "      <td>2</td>\n",
              "      <td>4</td>\n",
              "      <td>25</td>\n",
              "      <td>9</td>\n",
              "      <td>25</td>\n",
              "      <td>3</td>\n",
              "      <td>32</td>\n",
              "      <td>4</td>\n",
              "      <td>5</td>\n",
              "      <td>4</td>\n",
              "    </tr>\n",
              "    <tr>\n",
              "      <th>3</th>\n",
              "      <td>3</td>\n",
              "      <td>3</td>\n",
              "      <td>0</td>\n",
              "      <td>8</td>\n",
              "      <td>12</td>\n",
              "      <td>5</td>\n",
              "      <td>1</td>\n",
              "      <td>23</td>\n",
              "      <td>30</td>\n",
              "      <td>18</td>\n",
              "      <td>5</td>\n",
              "      <td>2</td>\n",
              "      <td>34</td>\n",
              "      <td>3</td>\n",
              "      <td>12</td>\n",
              "      <td>4</td>\n",
              "    </tr>\n",
              "    <tr>\n",
              "      <th>4</th>\n",
              "      <td>3</td>\n",
              "      <td>0</td>\n",
              "      <td>5</td>\n",
              "      <td>8</td>\n",
              "      <td>1</td>\n",
              "      <td>3</td>\n",
              "      <td>1</td>\n",
              "      <td>21</td>\n",
              "      <td>35</td>\n",
              "      <td>16</td>\n",
              "      <td>50</td>\n",
              "      <td>0</td>\n",
              "      <td>34</td>\n",
              "      <td>8</td>\n",
              "      <td>12</td>\n",
              "      <td>4</td>\n",
              "    </tr>\n",
              "  </tbody>\n",
              "</table>\n",
              "</div>\n",
              "      <button class=\"colab-df-convert\" onclick=\"convertToInteractive('df-c03326cb-d278-4741-81ee-76b3edd7c46b')\"\n",
              "              title=\"Convert this dataframe to an interactive table.\"\n",
              "              style=\"display:none;\">\n",
              "        \n",
              "  <svg xmlns=\"http://www.w3.org/2000/svg\" height=\"24px\"viewBox=\"0 0 24 24\"\n",
              "       width=\"24px\">\n",
              "    <path d=\"M0 0h24v24H0V0z\" fill=\"none\"/>\n",
              "    <path d=\"M18.56 5.44l.94 2.06.94-2.06 2.06-.94-2.06-.94-.94-2.06-.94 2.06-2.06.94zm-11 1L8.5 8.5l.94-2.06 2.06-.94-2.06-.94L8.5 2.5l-.94 2.06-2.06.94zm10 10l.94 2.06.94-2.06 2.06-.94-2.06-.94-.94-2.06-.94 2.06-2.06.94z\"/><path d=\"M17.41 7.96l-1.37-1.37c-.4-.4-.92-.59-1.43-.59-.52 0-1.04.2-1.43.59L10.3 9.45l-7.72 7.72c-.78.78-.78 2.05 0 2.83L4 21.41c.39.39.9.59 1.41.59.51 0 1.02-.2 1.41-.59l7.78-7.78 2.81-2.81c.8-.78.8-2.07 0-2.86zM5.41 20L4 18.59l7.72-7.72 1.47 1.35L5.41 20z\"/>\n",
              "  </svg>\n",
              "      </button>\n",
              "      \n",
              "  <style>\n",
              "    .colab-df-container {\n",
              "      display:flex;\n",
              "      flex-wrap:wrap;\n",
              "      gap: 12px;\n",
              "    }\n",
              "\n",
              "    .colab-df-convert {\n",
              "      background-color: #E8F0FE;\n",
              "      border: none;\n",
              "      border-radius: 50%;\n",
              "      cursor: pointer;\n",
              "      display: none;\n",
              "      fill: #1967D2;\n",
              "      height: 32px;\n",
              "      padding: 0 0 0 0;\n",
              "      width: 32px;\n",
              "    }\n",
              "\n",
              "    .colab-df-convert:hover {\n",
              "      background-color: #E2EBFA;\n",
              "      box-shadow: 0px 1px 2px rgba(60, 64, 67, 0.3), 0px 1px 3px 1px rgba(60, 64, 67, 0.15);\n",
              "      fill: #174EA6;\n",
              "    }\n",
              "\n",
              "    [theme=dark] .colab-df-convert {\n",
              "      background-color: #3B4455;\n",
              "      fill: #D2E3FC;\n",
              "    }\n",
              "\n",
              "    [theme=dark] .colab-df-convert:hover {\n",
              "      background-color: #434B5C;\n",
              "      box-shadow: 0px 1px 3px 1px rgba(0, 0, 0, 0.15);\n",
              "      filter: drop-shadow(0px 1px 2px rgba(0, 0, 0, 0.3));\n",
              "      fill: #FFFFFF;\n",
              "    }\n",
              "  </style>\n",
              "\n",
              "      <script>\n",
              "        const buttonEl =\n",
              "          document.querySelector('#df-c03326cb-d278-4741-81ee-76b3edd7c46b button.colab-df-convert');\n",
              "        buttonEl.style.display =\n",
              "          google.colab.kernel.accessAllowed ? 'block' : 'none';\n",
              "\n",
              "        async function convertToInteractive(key) {\n",
              "          const element = document.querySelector('#df-c03326cb-d278-4741-81ee-76b3edd7c46b');\n",
              "          const dataTable =\n",
              "            await google.colab.kernel.invokeFunction('convertToInteractive',\n",
              "                                                     [key], {});\n",
              "          if (!dataTable) return;\n",
              "\n",
              "          const docLinkHtml = 'Like what you see? Visit the ' +\n",
              "            '<a target=\"_blank\" href=https://colab.research.google.com/notebooks/data_table.ipynb>data table notebook</a>'\n",
              "            + ' to learn more about interactive tables.';\n",
              "          element.innerHTML = '';\n",
              "          dataTable['output_type'] = 'display_data';\n",
              "          await google.colab.output.renderOutput(dataTable, element);\n",
              "          const docLink = document.createElement('div');\n",
              "          docLink.innerHTML = docLinkHtml;\n",
              "          element.appendChild(docLink);\n",
              "        }\n",
              "      </script>\n",
              "    </div>\n",
              "  </div>\n",
              "  "
            ]
          },
          "metadata": {},
          "execution_count": 64
        }
      ],
      "source": [
        "x.head()"
      ]
    },
    {
      "cell_type": "code",
      "execution_count": 65,
      "id": "2ecacef2",
      "metadata": {
        "id": "2ecacef2",
        "colab": {
          "base_uri": "https://localhost:8080/"
        },
        "outputId": "df0c695d-2036-4b5d-973d-ab87f039750c"
      },
      "outputs": [
        {
          "output_type": "execute_result",
          "data": {
            "text/plain": [
              "0     3897.0\n",
              "1     7662.0\n",
              "2    13882.0\n",
              "3     6218.0\n",
              "4    13302.0\n",
              "Name: Price, dtype: float64"
            ]
          },
          "metadata": {},
          "execution_count": 65
        }
      ],
      "source": [
        "y.head()"
      ]
    },
    {
      "cell_type": "code",
      "execution_count": 66,
      "id": "266b67fd",
      "metadata": {
        "id": "266b67fd"
      },
      "outputs": [],
      "source": [
        "from sklearn.linear_model import Lasso\n",
        "from sklearn.feature_selection import SelectFromModel"
      ]
    },
    {
      "cell_type": "code",
      "execution_count": 67,
      "id": "46f380f0",
      "metadata": {
        "id": "46f380f0"
      },
      "outputs": [],
      "source": [
        "from sklearn.model_selection import train_test_split\n",
        "x_train,x_test,y_train,y_test=train_test_split(x,y,test_size=0.3,random_state=0)"
      ]
    },
    {
      "cell_type": "code",
      "execution_count": 68,
      "id": "aa88e24e",
      "metadata": {
        "id": "aa88e24e"
      },
      "outputs": [],
      "source": [
        "model=SelectFromModel(Lasso(alpha=0.005,random_state=0))"
      ]
    },
    {
      "cell_type": "code",
      "execution_count": 69,
      "id": "bb999c6c",
      "metadata": {
        "id": "bb999c6c",
        "colab": {
          "base_uri": "https://localhost:8080/"
        },
        "outputId": "a8f530bf-0756-461d-9ada-d5b6a7c5031b"
      },
      "outputs": [
        {
          "output_type": "execute_result",
          "data": {
            "text/plain": [
              "SelectFromModel(estimator=Lasso(alpha=0.005, random_state=0))"
            ]
          },
          "metadata": {},
          "execution_count": 69
        }
      ],
      "source": [
        "model.fit(x_train,y_train)"
      ]
    },
    {
      "cell_type": "code",
      "execution_count": 70,
      "id": "941d59a8",
      "metadata": {
        "id": "941d59a8",
        "colab": {
          "base_uri": "https://localhost:8080/"
        },
        "outputId": "30101204-d060-4f2a-e6f6-cd9fb4c1bd06"
      },
      "outputs": [
        {
          "output_type": "execute_result",
          "data": {
            "text/plain": [
              "array([ True,  True,  True,  True,  True,  True,  True,  True,  True,\n",
              "        True,  True,  True,  True,  True,  True,  True])"
            ]
          },
          "metadata": {},
          "execution_count": 70
        }
      ],
      "source": [
        "model.get_support()"
      ]
    },
    {
      "cell_type": "code",
      "execution_count": 71,
      "id": "2635851a",
      "metadata": {
        "id": "2635851a"
      },
      "outputs": [],
      "source": [
        "selected_features=x_train.columns[(model.get_support())]"
      ]
    },
    {
      "cell_type": "code",
      "execution_count": 72,
      "id": "ece780ee",
      "metadata": {
        "id": "ece780ee",
        "colab": {
          "base_uri": "https://localhost:8080/"
        },
        "outputId": "032203b5-ab5b-4235-a9d4-350966de8fd4"
      },
      "outputs": [
        {
          "output_type": "execute_result",
          "data": {
            "text/plain": [
              "Index(['Airline', 'Source', 'Destination', 'Additional_Info', 'Date', 'Month',\n",
              "       'Stop', 'Arrival_Hour', 'Arrival_Minute', 'Departure_Hour',\n",
              "       'Departure_Minute', 'Route_1', 'Route_2', 'Route_3', 'Route_4',\n",
              "       'Route_5'],\n",
              "      dtype='object')"
            ]
          },
          "metadata": {},
          "execution_count": 72
        }
      ],
      "source": [
        "selected_features"
      ]
    },
    {
      "cell_type": "markdown",
      "id": "c5fb3f07",
      "metadata": {
        "id": "c5fb3f07"
      },
      "source": [
        "### These are our selected features"
      ]
    },
    {
      "cell_type": "code",
      "execution_count": 73,
      "id": "4f48ccad",
      "metadata": {
        "id": "4f48ccad"
      },
      "outputs": [],
      "source": [
        "from sklearn.ensemble import ExtraTreesRegressor"
      ]
    },
    {
      "cell_type": "code",
      "execution_count": 74,
      "id": "138693b0",
      "metadata": {
        "id": "138693b0",
        "colab": {
          "base_uri": "https://localhost:8080/"
        },
        "outputId": "12cb8bc8-9786-4e80-9686-3d4d132df405"
      },
      "outputs": [
        {
          "output_type": "execute_result",
          "data": {
            "text/plain": [
              "ExtraTreesRegressor()"
            ]
          },
          "metadata": {},
          "execution_count": 74
        }
      ],
      "source": [
        "etr = ExtraTreesRegressor()\n",
        "etr.fit(x_train,y_train)"
      ]
    },
    {
      "cell_type": "code",
      "execution_count": 75,
      "id": "30b1391d",
      "metadata": {
        "id": "30b1391d",
        "colab": {
          "base_uri": "https://localhost:8080/",
          "height": 563
        },
        "outputId": "15178bf7-4f05-4361-e7e3-16d162b6f4f5"
      },
      "outputs": [
        {
          "output_type": "display_data",
          "data": {
            "text/plain": [
              "<Figure size 1080x576 with 1 Axes>"
            ],
            "image/png": "[encoded data removed]"
          },
          "metadata": {}
        }
      ],
      "source": [
        "plt.style.use(\"ggplot\")\n",
        "plt.figure(figsize = (15,8))\n",
        "feature_importances = pd.Series(etr.feature_importances_, index=x.columns)\n",
        "feature_importances.nlargest(35).plot(kind='bar')\n",
        "plt.show()"
      ]
    },
    {
      "cell_type": "markdown",
      "id": "685662d9",
      "metadata": {
        "id": "685662d9"
      },
      "source": [
        "### Importing our model"
      ]
    },
    {
      "cell_type": "code",
      "execution_count": 76,
      "id": "7fd6aa13",
      "metadata": {
        "id": "7fd6aa13",
        "colab": {
          "base_uri": "https://localhost:8080/"
        },
        "outputId": "2e9de2bf-16ad-422d-c882-7dd9bee00701"
      },
      "outputs": [
        {
          "output_type": "execute_result",
          "data": {
            "text/plain": [
              "RandomForestRegressor()"
            ]
          },
          "metadata": {},
          "execution_count": 76
        }
      ],
      "source": [
        "from sklearn.ensemble import RandomForestRegressor\n",
        "reg_rf = RandomForestRegressor()\n",
        "reg_rf.fit(x_train, y_train)"
      ]
    },
    {
      "cell_type": "code",
      "execution_count": 77,
      "id": "7e383e9e",
      "metadata": {
        "id": "7e383e9e"
      },
      "outputs": [],
      "source": [
        "y_pred = reg_rf.predict(x_test)"
      ]
    },
    {
      "cell_type": "code",
      "execution_count": 78,
      "id": "bae5c639",
      "metadata": {
        "id": "bae5c639",
        "colab": {
          "base_uri": "https://localhost:8080/"
        },
        "outputId": "ecf9286f-7aaf-4f88-c31d-be9518734469"
      },
      "outputs": [
        {
          "output_type": "execute_result",
          "data": {
            "text/plain": [
              "0.9476768633715624"
            ]
          },
          "metadata": {},
          "execution_count": 78
        }
      ],
      "source": [
        "reg_rf.score(x_train, y_train)"
      ]
    },
    {
      "cell_type": "code",
      "execution_count": 79,
      "id": "7a7ffb34",
      "metadata": {
        "id": "7a7ffb34",
        "colab": {
          "base_uri": "https://localhost:8080/"
        },
        "outputId": "d129a66d-57d8-4e3a-c591-474b0dce995c"
      },
      "outputs": [
        {
          "output_type": "execute_result",
          "data": {
            "text/plain": [
              "0.62604821284114"
            ]
          },
          "metadata": {},
          "execution_count": 79
        }
      ],
      "source": [
        "reg_rf.score(x_test, y_test)"
      ]
    },
    {
      "cell_type": "code",
      "execution_count": 80,
      "id": "81231dc4",
      "metadata": {
        "id": "81231dc4",
        "colab": {
          "base_uri": "https://localhost:8080/",
          "height": 555
        },
        "outputId": "12d4381f-141e-4fa6-ff4b-cc1934f07671"
      },
      "outputs": [
        {
          "output_type": "stream",
          "name": "stderr",
          "text": [
            "/usr/local/lib/python3.8/dist-packages/seaborn/distributions.py:2619: FutureWarning: `distplot` is a deprecated function and will be removed in a future version. Please adapt your code to use either `displot` (a figure-level function with similar flexibility) or `histplot` (an axes-level function for histograms).\n",
            "  warnings.warn(msg, FutureWarning)\n"
          ]
        },
        {
          "output_type": "display_data",
          "data": {
            "text/plain": [
              "<Figure size 864x576 with 1 Axes>"
            ],
            "image/png": "[encoded data removed]"
          },
          "metadata": {}
        }
      ],
      "source": [
        "plt.style.use(\"ggplot\")\n",
        "plt.figure(figsize=(12,8))\n",
        "sns.distplot(y_test-y_pred)\n",
        "plt.show()"
      ]
    },
    {
      "cell_type": "code",
      "execution_count": 81,
      "id": "c91a14be",
      "metadata": {
        "id": "c91a14be",
        "colab": {
          "base_uri": "https://localhost:8080/",
          "height": 500
        },
        "outputId": "7f1a3855-f159-4da8-d0c1-7ef37a0fe687"
      },
      "outputs": [
        {
          "output_type": "display_data",
          "data": {
            "text/plain": [
              "<Figure size 864x576 with 1 Axes>"
            ],
            "image/png": "[encoded data removed]"
          },
          "metadata": {}
        }
      ],
      "source": [
        "plt.figure(figsize=(12,8))\n",
        "plt.style.use(\"ggplot\")\n",
        "plt.scatter(y_test, y_pred, alpha = 0.5)\n",
        "plt.xlabel(\"y_test\")\n",
        "plt.ylabel(\"y_pred\")\n",
        "plt.show()"
      ]
    },
    {
      "cell_type": "code",
      "execution_count": 82,
      "id": "8c2b4bc7",
      "metadata": {
        "id": "8c2b4bc7",
        "colab": {
          "base_uri": "https://localhost:8080/"
        },
        "outputId": "fa31227d-6eee-47e3-9671-193f737c94e7"
      },
      "outputs": [
        {
          "output_type": "stream",
          "name": "stdout",
          "text": [
            "MAE: 1521.7150019921526\n",
            "MSE: 6217246.197088998\n",
            "RMSE: 2493.440634362286\n"
          ]
        }
      ],
      "source": [
        "from sklearn import metrics\n",
        "\n",
        "print('MAE:', metrics.mean_absolute_error(y_test, y_pred))\n",
        "print('MSE:', metrics.mean_squared_error(y_test, y_pred))\n",
        "print('RMSE:', np.sqrt(metrics.mean_squared_error(y_test, y_pred)))"
      ]
    },
    {
      "cell_type": "code",
      "execution_count": 83,
      "id": "fddf8aa0",
      "metadata": {
        "id": "fddf8aa0",
        "colab": {
          "base_uri": "https://localhost:8080/"
        },
        "outputId": "76dae168-a37c-49a2-d2c0-4fce5c2ac2e1"
      },
      "outputs": [
        {
          "output_type": "execute_result",
          "data": {
            "text/plain": [
              "0.62604821284114"
            ]
          },
          "metadata": {},
          "execution_count": 83
        }
      ],
      "source": [
        "metrics.r2_score(y_test, y_pred)"
      ]
    },
    {
      "cell_type": "markdown",
      "id": "35289b3c",
      "metadata": {
        "id": "35289b3c"
      },
      "source": [
        "### Hypertuning our Model"
      ]
    },
    {
      "cell_type": "code",
      "execution_count": 85,
      "id": "0f90e488",
      "metadata": {
        "id": "0f90e488"
      },
      "outputs": [],
      "source": [
        "from sklearn.model_selection import RandomizedSearchCV"
      ]
    },
    {
      "cell_type": "code",
      "execution_count": 86,
      "id": "bca10775",
      "metadata": {
        "id": "bca10775"
      },
      "outputs": [],
      "source": [
        "n_estimators = [int(x) for x in np.linspace(start = 100, stop = 1500, num = 15)]\n",
        "max_features = ['auto', 'sqrt']\n",
        "max_depth = [int(x) for x in np.linspace(5, 30, num = 6)]\n",
        "min_samples_split = [2, 3, 5, 7, 10, 15, 100]\n",
        "min_samples_leaf = [1, 2,3, 5,8, 10]"
      ]
    },
    {
      "cell_type": "code",
      "execution_count": 87,
      "id": "7c2645a8",
      "metadata": {
        "id": "7c2645a8"
      },
      "outputs": [],
      "source": [
        "param_grid = {'n_estimators': n_estimators,\n",
        "               'max_features': max_features,\n",
        "               'max_depth': max_depth,\n",
        "               'min_samples_split': min_samples_split,\n",
        "               'min_samples_leaf': min_samples_leaf}"
      ]
    },
    {
      "cell_type": "code",
      "execution_count": 88,
      "id": "1486e76a",
      "metadata": {
        "id": "1486e76a"
      },
      "outputs": [],
      "source": [
        "rf_random = RandomizedSearchCV(estimator = reg_rf, param_distributions = param_grid,scoring='neg_mean_squared_error', n_iter = 50, cv = 5,\n",
        "                               verbose=2, random_state=42, n_jobs = 3)"
      ]
    },
    {
      "cell_type": "code",
      "execution_count": 89,
      "id": "a9c321ce",
      "metadata": {
        "id": "a9c321ce",
        "colab": {
          "base_uri": "https://localhost:8080/"
        },
        "outputId": "9cb1eb4f-3313-42a2-8bac-ecdd3014ff39"
      },
      "outputs": [
        {
          "metadata": {
            "tags": null
          },
          "name": "stdout",
          "output_type": "stream",
          "text": [
            "Fitting 5 folds for each of 50 candidates, totalling 250 fits\n"
          ]
        },
        {
          "output_type": "stream",
          "name": "stderr",
          "text": [
            "/usr/local/lib/python3.8/dist-packages/joblib/externals/loky/process_executor.py:700: UserWarning: A worker stopped while some jobs were given to the executor. This can be caused by a too short worker timeout or by a memory leak.\n",
            "  warnings.warn(\n"
          ]
        },
        {
          "output_type": "execute_result",
          "data": {
            "text/plain": [
              "RandomizedSearchCV(cv=5, estimator=RandomForestRegressor(), n_iter=50, n_jobs=3,\n",
              "                   param_distributions={'max_depth': [5, 10, 15, 20, 25, 30],\n",
              "                                        'max_features': ['auto', 'sqrt'],\n",
              "                                        'min_samples_leaf': [1, 2, 3, 5, 8, 10],\n",
              "                                        'min_samples_split': [2, 3, 5, 7, 10,\n",
              "                                                              15, 100],\n",
              "                                        'n_estimators': [100, 200, 300, 400,\n",
              "                                                         500, 600, 700, 800,\n",
              "                                                         900, 1000, 1100, 1200,\n",
              "                                                         1300, 1400, 1500]},\n",
              "                   random_state=42, scoring='neg_mean_squared_error',\n",
              "                   verbose=2)"
            ]
          },
          "metadata": {},
          "execution_count": 89
        }
      ],
      "source": [
        "rf_random.fit(x_train,y_train)"
      ]
    },
    {
      "cell_type": "code",
      "execution_count": 90,
      "id": "d0655797",
      "metadata": {
        "id": "d0655797",
        "colab": {
          "base_uri": "https://localhost:8080/"
        },
        "outputId": "d9381624-78da-47ca-b1cf-e56937870530"
      },
      "outputs": [
        {
          "data": {
            "text/plain": [
              "{'n_estimators': 700,\n",
              " 'min_samples_split': 3,\n",
              " 'min_samples_leaf': 1,\n",
              " 'max_features': 'sqrt',\n",
              " 'max_depth': 15}"
            ]
          },
          "execution_count": 90,
          "metadata": {},
          "output_type": "execute_result"
        }
      ],
      "source": [
        "rf_random.best_params_"
      ]
    },
    {
      "cell_type": "code",
      "execution_count": 91,
      "id": "5d81593d",
      "metadata": {
        "id": "5d81593d"
      },
      "outputs": [],
      "source": [
        "reg_rf = RandomForestRegressor(n_estimators= 700,\n",
        " min_samples_split=3,\n",
        " min_samples_leaf= 1,\n",
        " max_features='sqrt',\n",
        " max_depth= 15)"
      ]
    },
    {
      "cell_type": "code",
      "execution_count": 92,
      "id": "ac4c832d",
      "metadata": {
        "id": "ac4c832d",
        "colab": {
          "base_uri": "https://localhost:8080/"
        },
        "outputId": "8c4f0284-8d31-4584-fb80-e2d80c02576d"
      },
      "outputs": [
        {
          "output_type": "execute_result",
          "data": {
            "text/plain": [
              "RandomForestRegressor(max_depth=15, max_features='sqrt', min_samples_split=3,\n",
              "                      n_estimators=700)"
            ]
          },
          "metadata": {},
          "execution_count": 92
        }
      ],
      "source": [
        "reg_rf.fit(x_train,y_train)"
      ]
    },
    {
      "cell_type": "code",
      "execution_count": 93,
      "id": "6217f483",
      "metadata": {
        "id": "6217f483"
      },
      "outputs": [],
      "source": [
        "ypred1= reg_rf.predict(x_test)"
      ]
    },
    {
      "cell_type": "code",
      "execution_count": 94,
      "id": "4386770a",
      "metadata": {
        "id": "4386770a",
        "colab": {
          "base_uri": "https://localhost:8080/"
        },
        "outputId": "947b93c0-5270-4948-9763-31bdc4e07cb4"
      },
      "outputs": [
        {
          "output_type": "execute_result",
          "data": {
            "text/plain": [
              "array([10204.99535325,  9041.15326918,  8658.55661248, ...,\n",
              "        4471.50401587,  7863.65900085, 10014.10987926])"
            ]
          },
          "metadata": {},
          "execution_count": 94
        }
      ],
      "source": [
        "ypred1"
      ]
    },
    {
      "cell_type": "code",
      "execution_count": 95,
      "id": "e6f7ce2f",
      "metadata": {
        "id": "e6f7ce2f",
        "colab": {
          "base_uri": "https://localhost:8080/",
          "height": 555
        },
        "outputId": "534e11f9-ad02-4c5b-c6a0-a69559e7ee44"
      },
      "outputs": [
        {
          "output_type": "stream",
          "name": "stderr",
          "text": [
            "/usr/local/lib/python3.8/dist-packages/seaborn/distributions.py:2619: FutureWarning: `distplot` is a deprecated function and will be removed in a future version. Please adapt your code to use either `displot` (a figure-level function with similar flexibility) or `histplot` (an axes-level function for histograms).\n",
            "  warnings.warn(msg, FutureWarning)\n"
          ]
        },
        {
          "output_type": "display_data",
          "data": {
            "text/plain": [
              "<Figure size 864x576 with 1 Axes>"
            ],
            "image/png": "[encoded data removed]"
          },
          "metadata": {}
        }
      ],
      "source": [
        "plt.style.use(\"ggplot\")\n",
        "plt.figure(figsize=(12,8))\n",
        "sns.distplot(y_test-ypred1)\n",
        "plt.show()"
      ]
    },
    {
      "cell_type": "code",
      "execution_count": 96,
      "id": "8b72a9ea",
      "metadata": {
        "id": "8b72a9ea",
        "colab": {
          "base_uri": "https://localhost:8080/",
          "height": 500
        },
        "outputId": "1716ebd1-e90c-4ef4-8f2a-bdd6a77da95f"
      },
      "outputs": [
        {
          "output_type": "display_data",
          "data": {
            "text/plain": [
              "<Figure size 864x576 with 1 Axes>"
            ],
            "image/png": "[encoded data removed]"
          },
          "metadata": {}
        }
      ],
      "source": [
        "plt.figure(figsize=(12,8))\n",
        "plt.style.use(\"ggplot\")\n",
        "plt.scatter(y_test, ypred1, alpha = 0.5)\n",
        "plt.xlabel(\"y_test\")\n",
        "plt.ylabel(\"y_predq\")\n",
        "plt.show()"
      ]
    },
    {
      "cell_type": "code",
      "execution_count": 97,
      "id": "a944efee",
      "metadata": {
        "id": "a944efee",
        "colab": {
          "base_uri": "https://localhost:8080/"
        },
        "outputId": "0584b919-d892-460b-c6da-d939d52f4cf3"
      },
      "outputs": [
        {
          "output_type": "stream",
          "name": "stdout",
          "text": [
            "MAE: 1554.2026845402827\n",
            "MSE: 6013508.052799221\n",
            "RMSE: 2452.24551234154\n"
          ]
        }
      ],
      "source": [
        "from sklearn import metrics\n",
        "\n",
        "print('MAE:', metrics.mean_absolute_error(y_test, ypred1))\n",
        "print('MSE:', metrics.mean_squared_error(y_test, ypred1))\n",
        "print('RMSE:', np.sqrt(metrics.mean_squared_error(y_test, ypred1)))"
      ]
    },
    {
      "cell_type": "code",
      "execution_count": 98,
      "id": "0ad65187",
      "metadata": {
        "id": "0ad65187",
        "colab": {
          "base_uri": "https://localhost:8080/"
        },
        "outputId": "b227c739-5d7f-49cb-e90a-74a9bdc8e13f"
      },
      "outputs": [
        {
          "output_type": "execute_result",
          "data": {
            "text/plain": [
              "0.6383025519415064"
            ]
          },
          "metadata": {},
          "execution_count": 98
        }
      ],
      "source": [
        "metrics.r2_score(y_test, ypred1)"
      ]
    },
    {
      "cell_type": "markdown",
      "id": "00ae213a",
      "metadata": {
        "id": "00ae213a"
      },
      "source": [
        "# Using Auto SK Learn(Auto ML)"
      ]
    },
    {
      "cell_type": "markdown",
      "id": "gGHZ_MWG8_xZ",
      "metadata": {
        "id": "gGHZ_MWG8_xZ"
      },
      "source": [
        "![1__wOrre885WuxLetqRXduBw.jpeg](data:image/jpeg;base64,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)"
      ]
    },
    {
      "cell_type": "markdown",
      "id": "7ed9af17",
      "metadata": {
        "id": "7ed9af17"
      },
      "source": [
        "## Auto SK Learn: "
      ]
    },
    {
      "cell_type": "markdown",
      "source": [],
      "metadata": {
        "id": "z6qp7PAbvsUX"
      },
      "id": "z6qp7PAbvsUX"
    },
    {
      "cell_type": "markdown",
      "id": "26d7a192",
      "metadata": {
        "id": "26d7a192"
      },
      "source": [
        "### auto-sklearn frees a machine learning user from algorithm selection and hyperparameter tuning. It leverages recent advantages in Bayesian optimization, meta-learning and ensemble construction."
      ]
    },
    {
      "cell_type": "code",
      "execution_count": null,
      "id": "1f659789",
      "metadata": {
        "id": "1f659789"
      },
      "outputs": [],
      "source": [
        "!apt-get install swig -y\n",
        "!pip install Cython numpy\n",
        "!pip install auto-sklearn\n",
        "!pip install --force-reinstall package_with_metadata_issue\n"
      ]
    },
    {
      "cell_type": "code",
      "source": [
        "!pip install --force-reinstall package_with_metadata_issue\n"
      ],
      "metadata": {
        "id": "10lVAL2Cm0Yz"
      },
      "id": "10lVAL2Cm0Yz",
      "execution_count": null,
      "outputs": []
    },
    {
      "cell_type": "code",
      "execution_count": 102,
      "id": "46d11ce0",
      "metadata": {
        "id": "46d11ce0"
      },
      "outputs": [],
      "source": [
        "import autosklearn"
      ]
    },
    {
      "cell_type": "code",
      "execution_count": 103,
      "id": "357ff68b",
      "metadata": {
        "id": "357ff68b"
      },
      "outputs": [],
      "source": [
        "import autosklearn.regression as reg"
      ]
    },
    {
      "cell_type": "code",
      "execution_count": 104,
      "id": "1-n47u9Gq7OV",
      "metadata": {
        "id": "1-n47u9Gq7OV"
      },
      "outputs": [],
      "source": [
        "df= pd.read_csv(\"/content/flight data.csv\")"
      ]
    },
    {
      "cell_type": "code",
      "execution_count": 105,
      "id": "qyL27lmmrOVX",
      "metadata": {
        "id": "qyL27lmmrOVX",
        "colab": {
          "base_uri": "https://localhost:8080/",
          "height": 206
        },
        "outputId": "be5803e2-696f-4113-c588-51b9c95fe7c5"
      },
      "outputs": [
        {
          "output_type": "execute_result",
          "data": {
            "text/plain": [
              "       Airline Date_of_Journey    Source Destination                  Route  \\\n",
              "0       IndiGo      24/03/2019  Banglore   New Delhi              BLR → DEL   \n",
              "1    Air India       1/05/2019   Kolkata    Banglore  CCU → IXR → BBI → BLR   \n",
              "2  Jet Airways       9/06/2019     Delhi      Cochin  DEL → LKO → BOM → COK   \n",
              "3       IndiGo      12/05/2019   Kolkata    Banglore        CCU → NAG → BLR   \n",
              "4       IndiGo      01/03/2019  Banglore   New Delhi        BLR → NAG → DEL   \n",
              "\n",
              "  Dep_Time  Arrival_Time Duration Total_Stops Additional_Info  Price  \n",
              "0    22:20  01:10 22 Mar   2h 50m    non-stop         No info   3897  \n",
              "1    05:50         13:15   7h 25m     2 stops         No info   7662  \n",
              "2    09:25  04:25 10 Jun      19h     2 stops         No info  13882  \n",
              "3    18:05         23:30   5h 25m      1 stop         No info   6218  \n",
              "4    16:50         21:35   4h 45m      1 stop         No info  13302  "
            ],
            "text/html": [
              "\n",
              "  <div id=\"df-d18c1e4b-710f-4088-a8fa-0debf3d5aec3\">\n",
              "    <div class=\"colab-df-container\">\n",
              "      <div>\n",
              "<style scoped>\n",
              "    .dataframe tbody tr th:only-of-type {\n",
              "        vertical-align: middle;\n",
              "    }\n",
              "\n",
              "    .dataframe tbody tr th {\n",
              "        vertical-align: top;\n",
              "    }\n",
              "\n",
              "    .dataframe thead th {\n",
              "        text-align: right;\n",
              "    }\n",
              "</style>\n",
              "<table border=\"1\" class=\"dataframe\">\n",
              "  <thead>\n",
              "    <tr style=\"text-align: right;\">\n",
              "      <th></th>\n",
              "      <th>Airline</th>\n",
              "      <th>Date_of_Journey</th>\n",
              "      <th>Source</th>\n",
              "      <th>Destination</th>\n",
              "      <th>Route</th>\n",
              "      <th>Dep_Time</th>\n",
              "      <th>Arrival_Time</th>\n",
              "      <th>Duration</th>\n",
              "      <th>Total_Stops</th>\n",
              "      <th>Additional_Info</th>\n",
              "      <th>Price</th>\n",
              "    </tr>\n",
              "  </thead>\n",
              "  <tbody>\n",
              "    <tr>\n",
              "      <th>0</th>\n",
              "      <td>IndiGo</td>\n",
              "      <td>24/03/2019</td>\n",
              "      <td>Banglore</td>\n",
              "      <td>New Delhi</td>\n",
              "      <td>BLR → DEL</td>\n",
              "      <td>22:20</td>\n",
              "      <td>01:10 22 Mar</td>\n",
              "      <td>2h 50m</td>\n",
              "      <td>non-stop</td>\n",
              "      <td>No info</td>\n",
              "      <td>3897</td>\n",
              "    </tr>\n",
              "    <tr>\n",
              "      <th>1</th>\n",
              "      <td>Air India</td>\n",
              "      <td>1/05/2019</td>\n",
              "      <td>Kolkata</td>\n",
              "      <td>Banglore</td>\n",
              "      <td>CCU → IXR → BBI → BLR</td>\n",
              "      <td>05:50</td>\n",
              "      <td>13:15</td>\n",
              "      <td>7h 25m</td>\n",
              "      <td>2 stops</td>\n",
              "      <td>No info</td>\n",
              "      <td>7662</td>\n",
              "    </tr>\n",
              "    <tr>\n",
              "      <th>2</th>\n",
              "      <td>Jet Airways</td>\n",
              "      <td>9/06/2019</td>\n",
              "      <td>Delhi</td>\n",
              "      <td>Cochin</td>\n",
              "      <td>DEL → LKO → BOM → COK</td>\n",
              "      <td>09:25</td>\n",
              "      <td>04:25 10 Jun</td>\n",
              "      <td>19h</td>\n",
              "      <td>2 stops</td>\n",
              "      <td>No info</td>\n",
              "      <td>13882</td>\n",
              "    </tr>\n",
              "    <tr>\n",
              "      <th>3</th>\n",
              "      <td>IndiGo</td>\n",
              "      <td>12/05/2019</td>\n",
              "      <td>Kolkata</td>\n",
              "      <td>Banglore</td>\n",
              "      <td>CCU → NAG → BLR</td>\n",
              "      <td>18:05</td>\n",
              "      <td>23:30</td>\n",
              "      <td>5h 25m</td>\n",
              "      <td>1 stop</td>\n",
              "      <td>No info</td>\n",
              "      <td>6218</td>\n",
              "    </tr>\n",
              "    <tr>\n",
              "      <th>4</th>\n",
              "      <td>IndiGo</td>\n",
              "      <td>01/03/2019</td>\n",
              "      <td>Banglore</td>\n",
              "      <td>New Delhi</td>\n",
              "      <td>BLR → NAG → DEL</td>\n",
              "      <td>16:50</td>\n",
              "      <td>21:35</td>\n",
              "      <td>4h 45m</td>\n",
              "      <td>1 stop</td>\n",
              "      <td>No info</td>\n",
              "      <td>13302</td>\n",
              "    </tr>\n",
              "  </tbody>\n",
              "</table>\n",
              "</div>\n",
              "      <button class=\"colab-df-convert\" onclick=\"convertToInteractive('df-d18c1e4b-710f-4088-a8fa-0debf3d5aec3')\"\n",
              "              title=\"Convert this dataframe to an interactive table.\"\n",
              "              style=\"display:none;\">\n",
              "        \n",
              "  <svg xmlns=\"http://www.w3.org/2000/svg\" height=\"24px\"viewBox=\"0 0 24 24\"\n",
              "       width=\"24px\">\n",
              "    <path d=\"M0 0h24v24H0V0z\" fill=\"none\"/>\n",
              "    <path d=\"M18.56 5.44l.94 2.06.94-2.06 2.06-.94-2.06-.94-.94-2.06-.94 2.06-2.06.94zm-11 1L8.5 8.5l.94-2.06 2.06-.94-2.06-.94L8.5 2.5l-.94 2.06-2.06.94zm10 10l.94 2.06.94-2.06 2.06-.94-2.06-.94-.94-2.06-.94 2.06-2.06.94z\"/><path d=\"M17.41 7.96l-1.37-1.37c-.4-.4-.92-.59-1.43-.59-.52 0-1.04.2-1.43.59L10.3 9.45l-7.72 7.72c-.78.78-.78 2.05 0 2.83L4 21.41c.39.39.9.59 1.41.59.51 0 1.02-.2 1.41-.59l7.78-7.78 2.81-2.81c.8-.78.8-2.07 0-2.86zM5.41 20L4 18.59l7.72-7.72 1.47 1.35L5.41 20z\"/>\n",
              "  </svg>\n",
              "      </button>\n",
              "      \n",
              "  <style>\n",
              "    .colab-df-container {\n",
              "      display:flex;\n",
              "      flex-wrap:wrap;\n",
              "      gap: 12px;\n",
              "    }\n",
              "\n",
              "    .colab-df-convert {\n",
              "      background-color: #E8F0FE;\n",
              "      border: none;\n",
              "      border-radius: 50%;\n",
              "      cursor: pointer;\n",
              "      display: none;\n",
              "      fill: #1967D2;\n",
              "      height: 32px;\n",
              "      padding: 0 0 0 0;\n",
              "      width: 32px;\n",
              "    }\n",
              "\n",
              "    .colab-df-convert:hover {\n",
              "      background-color: #E2EBFA;\n",
              "      box-shadow: 0px 1px 2px rgba(60, 64, 67, 0.3), 0px 1px 3px 1px rgba(60, 64, 67, 0.15);\n",
              "      fill: #174EA6;\n",
              "    }\n",
              "\n",
              "    [theme=dark] .colab-df-convert {\n",
              "      background-color: #3B4455;\n",
              "      fill: #D2E3FC;\n",
              "    }\n",
              "\n",
              "    [theme=dark] .colab-df-convert:hover {\n",
              "      background-color: #434B5C;\n",
              "      box-shadow: 0px 1px 3px 1px rgba(0, 0, 0, 0.15);\n",
              "      filter: drop-shadow(0px 1px 2px rgba(0, 0, 0, 0.3));\n",
              "      fill: #FFFFFF;\n",
              "    }\n",
              "  </style>\n",
              "\n",
              "      <script>\n",
              "        const buttonEl =\n",
              "          document.querySelector('#df-d18c1e4b-710f-4088-a8fa-0debf3d5aec3 button.colab-df-convert');\n",
              "        buttonEl.style.display =\n",
              "          google.colab.kernel.accessAllowed ? 'block' : 'none';\n",
              "\n",
              "        async function convertToInteractive(key) {\n",
              "          const element = document.querySelector('#df-d18c1e4b-710f-4088-a8fa-0debf3d5aec3');\n",
              "          const dataTable =\n",
              "            await google.colab.kernel.invokeFunction('convertToInteractive',\n",
              "                                                     [key], {});\n",
              "          if (!dataTable) return;\n",
              "\n",
              "          const docLinkHtml = 'Like what you see? Visit the ' +\n",
              "            '<a target=\"_blank\" href=https://colab.research.google.com/notebooks/data_table.ipynb>data table notebook</a>'\n",
              "            + ' to learn more about interactive tables.';\n",
              "          element.innerHTML = '';\n",
              "          dataTable['output_type'] = 'display_data';\n",
              "          await google.colab.output.renderOutput(dataTable, element);\n",
              "          const docLink = document.createElement('div');\n",
              "          docLink.innerHTML = docLinkHtml;\n",
              "          element.appendChild(docLink);\n",
              "        }\n",
              "      </script>\n",
              "    </div>\n",
              "  </div>\n",
              "  "
            ]
          },
          "metadata": {},
          "execution_count": 105
        }
      ],
      "source": [
        "df.head()"
      ]
    },
    {
      "cell_type": "code",
      "execution_count": 106,
      "id": "FXC8v-PprS4I",
      "metadata": {
        "id": "FXC8v-PprS4I"
      },
      "outputs": [],
      "source": [
        "df1= pd.read_csv(\"/content/flight test.csv\")"
      ]
    },
    {
      "cell_type": "markdown",
      "id": "Sf7_WWwysxpB",
      "metadata": {
        "id": "Sf7_WWwysxpB"
      },
      "source": [
        "We will use the same x_train and y_train data"
      ]
    },
    {
      "cell_type": "code",
      "execution_count": 107,
      "id": "hMREOIdvs2Mn",
      "metadata": {
        "id": "hMREOIdvs2Mn"
      },
      "outputs": [],
      "source": [
        "automl = reg.AutoSklearnRegressor(time_left_for_this_task=120,per_run_time_limit=30)"
      ]
    },
    {
      "cell_type": "code",
      "execution_count": 108,
      "id": "wgis8r_NtG6b",
      "metadata": {
        "id": "wgis8r_NtG6b",
        "colab": {
          "base_uri": "https://localhost:8080/"
        },
        "outputId": "306fecdf-2c96-4076-fb0b-7e2b97baadc9"
      },
      "outputs": [
        {
          "output_type": "execute_result",
          "data": {
            "text/plain": [
              "AutoSklearnRegressor(ensemble_class=<class 'autosklearn.ensembles.ensemble_selection.EnsembleSelection'>,\n",
              "                     per_run_time_limit=30, time_left_for_this_task=120)"
            ]
          },
          "metadata": {},
          "execution_count": 108
        }
      ],
      "source": [
        "automl.fit(x_train,y_train)"
      ]
    },
    {
      "cell_type": "code",
      "execution_count": 109,
      "id": "hzsUqEs0vDlK",
      "metadata": {
        "id": "hzsUqEs0vDlK",
        "colab": {
          "base_uri": "https://localhost:8080/"
        },
        "outputId": "9409ffc8-d696-4809-bc11-02748c8e17b3"
      },
      "outputs": [
        {
          "output_type": "stream",
          "name": "stdout",
          "text": [
            "          rank  ensemble_weight               type      cost   duration\n",
            "model_id                                                               \n",
            "3            1             0.58  gradient_boosting  0.302679  14.307691\n",
            "2            2             0.12      random_forest  0.327188  18.916926\n",
            "9            3             0.30  gradient_boosting  0.350267   1.912681\n"
          ]
        }
      ],
      "source": [
        "print(automl.leaderboard())"
      ]
    },
    {
      "cell_type": "code",
      "execution_count": 110,
      "id": "S9o3zz_hvIbb",
      "metadata": {
        "id": "S9o3zz_hvIbb",
        "colab": {
          "base_uri": "https://localhost:8080/"
        },
        "outputId": "0354aef7-b886-482a-8e1b-24983f98258c"
      },
      "outputs": [
        {
          "output_type": "stream",
          "name": "stdout",
          "text": [
            "{2: {'model_id': 2, 'rank': 1, 'cost': 0.3271880612446517, 'ensemble_weight': 0.12, 'data_preprocessor': <autosklearn.pipeline.components.data_preprocessing.DataPreprocessorChoice object at 0x7fed831a7ac0>, 'feature_preprocessor': <autosklearn.pipeline.components.feature_preprocessing.FeaturePreprocessorChoice object at 0x7fed831377f0>, 'regressor': <autosklearn.pipeline.components.regression.RegressorChoice object at 0x7fed83137c70>, 'sklearn_regressor': RandomForestRegressor(criterion='mse', max_features=1.0, n_estimators=512,\n",
            "                      n_jobs=1, random_state=1, warm_start=True)}, 3: {'model_id': 3, 'rank': 2, 'cost': 0.30267879952164045, 'ensemble_weight': 0.58, 'data_preprocessor': <autosklearn.pipeline.components.data_preprocessing.DataPreprocessorChoice object at 0x7fed831500a0>, 'feature_preprocessor': <autosklearn.pipeline.components.feature_preprocessing.FeaturePreprocessorChoice object at 0x7fed83066220>, 'regressor': <autosklearn.pipeline.components.regression.RegressorChoice object at 0x7fed830662b0>, 'sklearn_regressor': HistGradientBoostingRegressor(l2_regularization=5.997418027353535e-10,\n",
            "                              learning_rate=0.12286466971783992,\n",
            "                              loss='least_squares', max_iter=512,\n",
            "                              max_leaf_nodes=26, min_samples_leaf=8,\n",
            "                              n_iter_no_change=0, random_state=1,\n",
            "                              validation_fraction=None, warm_start=True)}, 9: {'model_id': 9, 'rank': 3, 'cost': 0.35026714328127895, 'ensemble_weight': 0.3, 'data_preprocessor': <autosklearn.pipeline.components.data_preprocessing.DataPreprocessorChoice object at 0x7fed831a7430>, 'feature_preprocessor': <autosklearn.pipeline.components.feature_preprocessing.FeaturePreprocessorChoice object at 0x7fed82e76a90>, 'regressor': <autosklearn.pipeline.components.regression.RegressorChoice object at 0x7fed82e76bb0>, 'sklearn_regressor': HistGradientBoostingRegressor(l2_regularization=3.0002886744200357e-06,\n",
            "                              learning_rate=0.015673535665067875,\n",
            "                              loss='least_squares', max_iter=512,\n",
            "                              max_leaf_nodes=7, min_samples_leaf=23,\n",
            "                              n_iter_no_change=0, random_state=1,\n",
            "                              validation_fraction=None, warm_start=True)}}\n"
          ]
        }
      ],
      "source": [
        "print(automl.show_models())"
      ]
    },
    {
      "cell_type": "code",
      "execution_count": 111,
      "id": "ivPW9k9ttJ8A",
      "metadata": {
        "id": "ivPW9k9ttJ8A"
      },
      "outputs": [],
      "source": [
        "ypred2= automl.predict(x_test)"
      ]
    },
    {
      "cell_type": "code",
      "execution_count": 112,
      "id": "MPMipxt8t7s0",
      "metadata": {
        "id": "MPMipxt8t7s0",
        "colab": {
          "base_uri": "https://localhost:8080/"
        },
        "outputId": "47c0a751-86b0-4344-ac05-91f016156729"
      },
      "outputs": [
        {
          "output_type": "execute_result",
          "data": {
            "text/plain": [
              "array([10327.82141113,  8850.13928223,  8807.64080811, ...,\n",
              "        5007.71633911,  8522.3527832 ,  9502.21789551])"
            ]
          },
          "metadata": {},
          "execution_count": 112
        }
      ],
      "source": [
        "ypred2"
      ]
    },
    {
      "cell_type": "code",
      "execution_count": 113,
      "id": "xwe9jXbEt9vg",
      "metadata": {
        "id": "xwe9jXbEt9vg",
        "colab": {
          "base_uri": "https://localhost:8080/",
          "height": 555
        },
        "outputId": "a4ab67f1-2922-4c6e-8911-a5fc48831f6b"
      },
      "outputs": [
        {
          "output_type": "stream",
          "name": "stderr",
          "text": [
            "/usr/local/lib/python3.8/dist-packages/seaborn/distributions.py:2619: FutureWarning: `distplot` is a deprecated function and will be removed in a future version. Please adapt your code to use either `displot` (a figure-level function with similar flexibility) or `histplot` (an axes-level function for histograms).\n",
            "  warnings.warn(msg, FutureWarning)\n"
          ]
        },
        {
          "output_type": "display_data",
          "data": {
            "text/plain": [
              "<Figure size 864x576 with 1 Axes>"
            ],
            "image/png": "[encoded data removed]"
          },
          "metadata": {}
        }
      ],
      "source": [
        "plt.style.use(\"ggplot\")\n",
        "plt.figure(figsize=(12,8))\n",
        "sns.distplot(y_test-ypred2)\n",
        "plt.show()"
      ]
    },
    {
      "cell_type": "code",
      "execution_count": 114,
      "id": "khIQG32juMDU",
      "metadata": {
        "id": "khIQG32juMDU",
        "colab": {
          "base_uri": "https://localhost:8080/",
          "height": 500
        },
        "outputId": "320f745c-31e8-4834-fb7f-639bf54fa3b4"
      },
      "outputs": [
        {
          "output_type": "display_data",
          "data": {
            "text/plain": [
              "<Figure size 864x576 with 1 Axes>"
            ],
            "image/png": "[encoded data removed]"
          },
          "metadata": {}
        }
      ],
      "source": [
        "plt.figure(figsize=(12,8))\n",
        "plt.style.use(\"ggplot\")\n",
        "plt.scatter(y_test, ypred2, alpha = 0.5)\n",
        "plt.xlabel(\"y_test\")\n",
        "plt.ylabel(\"ypred2\")\n",
        "plt.show()"
      ]
    },
    {
      "cell_type": "code",
      "execution_count": 115,
      "id": "wzJHIRO6uRSn",
      "metadata": {
        "id": "wzJHIRO6uRSn",
        "colab": {
          "base_uri": "https://localhost:8080/"
        },
        "outputId": "0e06c128-c548-44e9-ca76-5d197c1373b3"
      },
      "outputs": [
        {
          "output_type": "stream",
          "name": "stdout",
          "text": [
            "MAE: 1549.057132777324\n",
            "MSE: 5848385.4505592445\n",
            "RMSE: 2418.343534438241\n"
          ]
        }
      ],
      "source": [
        "from sklearn import metrics\n",
        "\n",
        "print('MAE:', metrics.mean_absolute_error(y_test, ypred2))\n",
        "print('MSE:', metrics.mean_squared_error(y_test, ypred2))\n",
        "print('RMSE:', np.sqrt(metrics.mean_squared_error(y_test, ypred2)))"
      ]
    },
    {
      "cell_type": "code",
      "execution_count": 115,
      "id": "fcmQW0NwxdCi",
      "metadata": {
        "id": "fcmQW0NwxdCi"
      },
      "outputs": [],
      "source": []
    }
  ],
  "metadata": {
    "colab": {
      "collapsed_sections": [
        "8d3b4af4",
        "2337bcef",
        "35289b3c"
      ],
      "provenance": [],
      "include_colab_link": true
    },
    "kernelspec": {
      "display_name": "Python 3 (ipykernel)",
      "language": "python",
      "name": "python3"
    },
    "language_info": {
      "codemirror_mode": {
        "name": "ipython",
        "version": 3
      },
      "file_extension": ".py",
      "mimetype": "text/x-python",
      "name": "python",
      "nbconvert_exporter": "python",
      "pygments_lexer": "ipython3",
      "version": "3.9.12"
    }
  },
  "nbformat": 4,
  "nbformat_minor": 5
}